{
 "cells": [
  {
   "cell_type": "code",
   "execution_count": 1,
   "metadata": {},
   "outputs": [],
   "source": [
    "import numpy as np\n",
    "import pandas as pd\n",
    "import matplotlib.pyplot as plt"
   ]
  },
  {
   "cell_type": "markdown",
   "metadata": {},
   "source": [
    "# 第十章 数据聚合与分组运算"
   ]
  },
  {
   "cell_type": "markdown",
   "metadata": {},
   "source": [
    "### Groupby机制\n",
    "    分组键可以有多种形式，且类型不必相同:\n",
    "    1. 列表或数组，其长度与待分组的轴一样。\n",
    "\n",
    "    2. 表示DataFrame某个列名的值。\n",
    "\n",
    "    3. 字典或Series，给出待分组轴上的值与分组名之间的对应关系。\n",
    "\n",
    "    4. 函数，用于处理轴索引或索引中的各个标签。"
   ]
  },
  {
   "cell_type": "code",
   "execution_count": 22,
   "metadata": {},
   "outputs": [
    {
     "data": {
      "text/html": [
       "<div>\n",
       "<style scoped>\n",
       "    .dataframe tbody tr th:only-of-type {\n",
       "        vertical-align: middle;\n",
       "    }\n",
       "\n",
       "    .dataframe tbody tr th {\n",
       "        vertical-align: top;\n",
       "    }\n",
       "\n",
       "    .dataframe thead th {\n",
       "        text-align: right;\n",
       "    }\n",
       "</style>\n",
       "<table border=\"1\" class=\"dataframe\">\n",
       "  <thead>\n",
       "    <tr style=\"text-align: right;\">\n",
       "      <th></th>\n",
       "      <th>key1</th>\n",
       "      <th>key2</th>\n",
       "      <th>data1</th>\n",
       "      <th>data2</th>\n",
       "    </tr>\n",
       "  </thead>\n",
       "  <tbody>\n",
       "    <tr>\n",
       "      <th>0</th>\n",
       "      <td>a</td>\n",
       "      <td>one</td>\n",
       "      <td>-1.462803</td>\n",
       "      <td>0.883681</td>\n",
       "    </tr>\n",
       "    <tr>\n",
       "      <th>1</th>\n",
       "      <td>a</td>\n",
       "      <td>two</td>\n",
       "      <td>-0.808460</td>\n",
       "      <td>-0.004502</td>\n",
       "    </tr>\n",
       "    <tr>\n",
       "      <th>2</th>\n",
       "      <td>b</td>\n",
       "      <td>one</td>\n",
       "      <td>-0.513008</td>\n",
       "      <td>2.192351</td>\n",
       "    </tr>\n",
       "    <tr>\n",
       "      <th>3</th>\n",
       "      <td>b</td>\n",
       "      <td>two</td>\n",
       "      <td>-0.802503</td>\n",
       "      <td>-0.354411</td>\n",
       "    </tr>\n",
       "    <tr>\n",
       "      <th>4</th>\n",
       "      <td>a</td>\n",
       "      <td>one</td>\n",
       "      <td>-0.890532</td>\n",
       "      <td>0.523126</td>\n",
       "    </tr>\n",
       "  </tbody>\n",
       "</table>\n",
       "</div>"
      ],
      "text/plain": [
       "  key1 key2     data1     data2\n",
       "0    a  one -1.462803  0.883681\n",
       "1    a  two -0.808460 -0.004502\n",
       "2    b  one -0.513008  2.192351\n",
       "3    b  two -0.802503 -0.354411\n",
       "4    a  one -0.890532  0.523126"
      ]
     },
     "execution_count": 22,
     "metadata": {},
     "output_type": "execute_result"
    }
   ],
   "source": [
    "df = pd.DataFrame({'key1': ['a','a','b','b','a'],\n",
    "                  'key2': ['one', 'two','one','two','one'],\n",
    "                  'data1': np.random.randn(5),\n",
    "                  'data2': np.random.randn(5)})\n",
    "df"
   ]
  },
  {
   "cell_type": "markdown",
   "metadata": {},
   "source": [
    "#### 以某列分组，计算另一列的平均值"
   ]
  },
  {
   "cell_type": "code",
   "execution_count": 3,
   "metadata": {},
   "outputs": [
    {
     "data": {
      "text/plain": [
       "<pandas.core.groupby.groupby.SeriesGroupBy object at 0x000000000871F240>"
      ]
     },
     "execution_count": 3,
     "metadata": {},
     "output_type": "execute_result"
    }
   ],
   "source": [
    "grouped = df['data1'].groupby(df['key1'])      #按key1分组，计算data1列的平均值\n",
    "grouped                                        #是一个Groupby对象。实际上未进行任何计算"
   ]
  },
  {
   "cell_type": "code",
   "execution_count": 4,
   "metadata": {},
   "outputs": [
    {
     "data": {
      "text/plain": [
       "key1\n",
       "a   -0.150200\n",
       "b   -0.361019\n",
       "Name: data1, dtype: float64"
      ]
     },
     "execution_count": 4,
     "metadata": {},
     "output_type": "execute_result"
    }
   ],
   "source": [
    "grouped.mean()                                 #计算分组平均值"
   ]
  },
  {
   "cell_type": "code",
   "execution_count": 23,
   "metadata": {},
   "outputs": [
    {
     "data": {
      "text/plain": [
       "<pandas.core.groupby.groupby.DataFrameGroupBy object at 0x00000000089C49B0>"
      ]
     },
     "execution_count": 23,
     "metadata": {},
     "output_type": "execute_result"
    }
   ],
   "source": [
    "df[['data1']].groupby(df['key1'])               #此为 DataFrameGroupby object，聚合后是dataframe格式，\n",
    "                                                #上述是Series格式"
   ]
  },
  {
   "cell_type": "code",
   "execution_count": 24,
   "metadata": {},
   "outputs": [
    {
     "data": {
      "text/html": [
       "<div>\n",
       "<style scoped>\n",
       "    .dataframe tbody tr th:only-of-type {\n",
       "        vertical-align: middle;\n",
       "    }\n",
       "\n",
       "    .dataframe tbody tr th {\n",
       "        vertical-align: top;\n",
       "    }\n",
       "\n",
       "    .dataframe thead th {\n",
       "        text-align: right;\n",
       "    }\n",
       "</style>\n",
       "<table border=\"1\" class=\"dataframe\">\n",
       "  <thead>\n",
       "    <tr style=\"text-align: right;\">\n",
       "      <th></th>\n",
       "      <th>data1</th>\n",
       "    </tr>\n",
       "    <tr>\n",
       "      <th>key1</th>\n",
       "      <th></th>\n",
       "    </tr>\n",
       "  </thead>\n",
       "  <tbody>\n",
       "    <tr>\n",
       "      <th>a</th>\n",
       "      <td>-1.053932</td>\n",
       "    </tr>\n",
       "    <tr>\n",
       "      <th>b</th>\n",
       "      <td>-0.657756</td>\n",
       "    </tr>\n",
       "  </tbody>\n",
       "</table>\n",
       "</div>"
      ],
      "text/plain": [
       "         data1\n",
       "key1          \n",
       "a    -1.053932\n",
       "b    -0.657756"
      ]
     },
     "execution_count": 24,
     "metadata": {},
     "output_type": "execute_result"
    }
   ],
   "source": [
    "df[['data1']].groupby(df['key1']).mean()         #dataframe格式"
   ]
  },
  {
   "cell_type": "code",
   "execution_count": 5,
   "metadata": {},
   "outputs": [
    {
     "data": {
      "text/plain": [
       "key1  key2\n",
       "a     one    -0.635443\n",
       "      two     0.820285\n",
       "b     one    -0.813964\n",
       "      two     0.091927\n",
       "Name: data1, dtype: float64"
      ]
     },
     "execution_count": 5,
     "metadata": {},
     "output_type": "execute_result"
    }
   ],
   "source": [
    "# 一次传入多个数组\n",
    "means = df['data1'].groupby([df['key1'], df['key2']]).mean()\n",
    "means"
   ]
  },
  {
   "cell_type": "code",
   "execution_count": 6,
   "metadata": {},
   "outputs": [
    {
     "data": {
      "text/html": [
       "<div>\n",
       "<style scoped>\n",
       "    .dataframe tbody tr th:only-of-type {\n",
       "        vertical-align: middle;\n",
       "    }\n",
       "\n",
       "    .dataframe tbody tr th {\n",
       "        vertical-align: top;\n",
       "    }\n",
       "\n",
       "    .dataframe thead th {\n",
       "        text-align: right;\n",
       "    }\n",
       "</style>\n",
       "<table border=\"1\" class=\"dataframe\">\n",
       "  <thead>\n",
       "    <tr style=\"text-align: right;\">\n",
       "      <th>key2</th>\n",
       "      <th>one</th>\n",
       "      <th>two</th>\n",
       "    </tr>\n",
       "    <tr>\n",
       "      <th>key1</th>\n",
       "      <th></th>\n",
       "      <th></th>\n",
       "    </tr>\n",
       "  </thead>\n",
       "  <tbody>\n",
       "    <tr>\n",
       "      <th>a</th>\n",
       "      <td>-0.635443</td>\n",
       "      <td>0.820285</td>\n",
       "    </tr>\n",
       "    <tr>\n",
       "      <th>b</th>\n",
       "      <td>-0.813964</td>\n",
       "      <td>0.091927</td>\n",
       "    </tr>\n",
       "  </tbody>\n",
       "</table>\n",
       "</div>"
      ],
      "text/plain": [
       "key2       one       two\n",
       "key1                    \n",
       "a    -0.635443  0.820285\n",
       "b    -0.813964  0.091927"
      ]
     },
     "execution_count": 6,
     "metadata": {},
     "output_type": "execute_result"
    }
   ],
   "source": [
    "means.unstack()"
   ]
  },
  {
   "cell_type": "markdown",
   "metadata": {},
   "source": [
    "#### 1.分组键是Series。（分组键可以是任何长度适当的数组）"
   ]
  },
  {
   "cell_type": "code",
   "execution_count": 7,
   "metadata": {},
   "outputs": [
    {
     "data": {
      "text/plain": [
       "California  2005    0.820285\n",
       "            2006   -0.813964\n",
       "Ohio        2005   -0.681258\n",
       "            2006    0.183558\n",
       "Name: data1, dtype: float64"
      ]
     },
     "execution_count": 7,
     "metadata": {},
     "output_type": "execute_result"
    }
   ],
   "source": [
    "states = np.array(['Ohio', 'California', 'California', 'Ohio', 'Ohio'])\n",
    "years = np.array([2005, 2005, 2006, 2005, 2006])\n",
    "df['data1'].groupby([states, years]).mean()"
   ]
  },
  {
   "cell_type": "markdown",
   "metadata": {},
   "source": [
    "#### 2.分组键是列名"
   ]
  },
  {
   "cell_type": "code",
   "execution_count": 8,
   "metadata": {},
   "outputs": [
    {
     "data": {
      "text/html": [
       "<div>\n",
       "<style scoped>\n",
       "    .dataframe tbody tr th:only-of-type {\n",
       "        vertical-align: middle;\n",
       "    }\n",
       "\n",
       "    .dataframe tbody tr th {\n",
       "        vertical-align: top;\n",
       "    }\n",
       "\n",
       "    .dataframe thead th {\n",
       "        text-align: right;\n",
       "    }\n",
       "</style>\n",
       "<table border=\"1\" class=\"dataframe\">\n",
       "  <thead>\n",
       "    <tr style=\"text-align: right;\">\n",
       "      <th></th>\n",
       "      <th>data1</th>\n",
       "      <th>data2</th>\n",
       "    </tr>\n",
       "    <tr>\n",
       "      <th>key1</th>\n",
       "      <th></th>\n",
       "      <th></th>\n",
       "    </tr>\n",
       "  </thead>\n",
       "  <tbody>\n",
       "    <tr>\n",
       "      <th>a</th>\n",
       "      <td>-0.150200</td>\n",
       "      <td>0.724904</td>\n",
       "    </tr>\n",
       "    <tr>\n",
       "      <th>b</th>\n",
       "      <td>-0.361019</td>\n",
       "      <td>-0.342083</td>\n",
       "    </tr>\n",
       "  </tbody>\n",
       "</table>\n",
       "</div>"
      ],
      "text/plain": [
       "         data1     data2\n",
       "key1                    \n",
       "a    -0.150200  0.724904\n",
       "b    -0.361019 -0.342083"
      ]
     },
     "execution_count": 8,
     "metadata": {},
     "output_type": "execute_result"
    }
   ],
   "source": [
    "df.groupby('key1').mean()                  #没有key2列，因为key2不是数值列，所以从结果排除"
   ]
  },
  {
   "cell_type": "code",
   "execution_count": 9,
   "metadata": {},
   "outputs": [
    {
     "data": {
      "text/html": [
       "<div>\n",
       "<style scoped>\n",
       "    .dataframe tbody tr th:only-of-type {\n",
       "        vertical-align: middle;\n",
       "    }\n",
       "\n",
       "    .dataframe tbody tr th {\n",
       "        vertical-align: top;\n",
       "    }\n",
       "\n",
       "    .dataframe thead th {\n",
       "        text-align: right;\n",
       "    }\n",
       "</style>\n",
       "<table border=\"1\" class=\"dataframe\">\n",
       "  <thead>\n",
       "    <tr style=\"text-align: right;\">\n",
       "      <th></th>\n",
       "      <th></th>\n",
       "      <th>data1</th>\n",
       "      <th>data2</th>\n",
       "    </tr>\n",
       "    <tr>\n",
       "      <th>key1</th>\n",
       "      <th>key2</th>\n",
       "      <th></th>\n",
       "      <th></th>\n",
       "    </tr>\n",
       "  </thead>\n",
       "  <tbody>\n",
       "    <tr>\n",
       "      <th rowspan=\"2\" valign=\"top\">a</th>\n",
       "      <th>one</th>\n",
       "      <td>-0.635443</td>\n",
       "      <td>0.745300</td>\n",
       "    </tr>\n",
       "    <tr>\n",
       "      <th>two</th>\n",
       "      <td>0.820285</td>\n",
       "      <td>0.684112</td>\n",
       "    </tr>\n",
       "    <tr>\n",
       "      <th rowspan=\"2\" valign=\"top\">b</th>\n",
       "      <th>one</th>\n",
       "      <td>-0.813964</td>\n",
       "      <td>-0.347631</td>\n",
       "    </tr>\n",
       "    <tr>\n",
       "      <th>two</th>\n",
       "      <td>0.091927</td>\n",
       "      <td>-0.336535</td>\n",
       "    </tr>\n",
       "  </tbody>\n",
       "</table>\n",
       "</div>"
      ],
      "text/plain": [
       "              data1     data2\n",
       "key1 key2                    \n",
       "a    one  -0.635443  0.745300\n",
       "     two   0.820285  0.684112\n",
       "b    one  -0.813964 -0.347631\n",
       "     two   0.091927 -0.336535"
      ]
     },
     "execution_count": 9,
     "metadata": {},
     "output_type": "execute_result"
    }
   ],
   "source": [
    "df.groupby(['key1', 'key2']).mean()"
   ]
  },
  {
   "cell_type": "markdown",
   "metadata": {},
   "source": [
    "#### Groupby的size方法，可以返回一个含有分组大小的Series"
   ]
  },
  {
   "cell_type": "code",
   "execution_count": 10,
   "metadata": {},
   "outputs": [
    {
     "data": {
      "text/plain": [
       "key1  key2\n",
       "a     one     2\n",
       "      two     1\n",
       "b     one     1\n",
       "      two     1\n",
       "dtype: int64"
      ]
     },
     "execution_count": 10,
     "metadata": {},
     "output_type": "execute_result"
    }
   ],
   "source": [
    "df.groupby(['key1', 'key2']).size()                    # 任何分组关键词中的缺失值，都会从结果中除去"
   ]
  },
  {
   "cell_type": "code",
   "execution_count": 11,
   "metadata": {},
   "outputs": [
    {
     "data": {
      "text/html": [
       "<div>\n",
       "<style scoped>\n",
       "    .dataframe tbody tr th:only-of-type {\n",
       "        vertical-align: middle;\n",
       "    }\n",
       "\n",
       "    .dataframe tbody tr th {\n",
       "        vertical-align: top;\n",
       "    }\n",
       "\n",
       "    .dataframe thead th {\n",
       "        text-align: right;\n",
       "    }\n",
       "</style>\n",
       "<table border=\"1\" class=\"dataframe\">\n",
       "  <thead>\n",
       "    <tr style=\"text-align: right;\">\n",
       "      <th></th>\n",
       "      <th>key1</th>\n",
       "      <th>key2</th>\n",
       "      <th>data1</th>\n",
       "      <th>data2</th>\n",
       "    </tr>\n",
       "  </thead>\n",
       "  <tbody>\n",
       "    <tr>\n",
       "      <th>0</th>\n",
       "      <td>a</td>\n",
       "      <td>one</td>\n",
       "      <td>-1.454444</td>\n",
       "      <td>1.738105</td>\n",
       "    </tr>\n",
       "    <tr>\n",
       "      <th>1</th>\n",
       "      <td>a</td>\n",
       "      <td>two</td>\n",
       "      <td>0.820285</td>\n",
       "      <td>0.684112</td>\n",
       "    </tr>\n",
       "    <tr>\n",
       "      <th>2</th>\n",
       "      <td>b</td>\n",
       "      <td>one</td>\n",
       "      <td>-0.813964</td>\n",
       "      <td>-0.347631</td>\n",
       "    </tr>\n",
       "    <tr>\n",
       "      <th>3</th>\n",
       "      <td>b</td>\n",
       "      <td>two</td>\n",
       "      <td>0.091927</td>\n",
       "      <td>-0.336535</td>\n",
       "    </tr>\n",
       "    <tr>\n",
       "      <th>4</th>\n",
       "      <td>a</td>\n",
       "      <td>one</td>\n",
       "      <td>0.183558</td>\n",
       "      <td>-0.247505</td>\n",
       "    </tr>\n",
       "  </tbody>\n",
       "</table>\n",
       "</div>"
      ],
      "text/plain": [
       "  key1 key2     data1     data2\n",
       "0    a  one -1.454444  1.738105\n",
       "1    a  two  0.820285  0.684112\n",
       "2    b  one -0.813964 -0.347631\n",
       "3    b  two  0.091927 -0.336535\n",
       "4    a  one  0.183558 -0.247505"
      ]
     },
     "execution_count": 11,
     "metadata": {},
     "output_type": "execute_result"
    }
   ],
   "source": [
    "df"
   ]
  },
  {
   "cell_type": "code",
   "execution_count": 33,
   "metadata": {},
   "outputs": [],
   "source": [
    "df['data3'] = np.array([1,2,3,np.nan,5])                                    #添加一列含有null的值"
   ]
  },
  {
   "cell_type": "code",
   "execution_count": 36,
   "metadata": {},
   "outputs": [],
   "source": [
    "#df[['data4']] = np.arange(5)                                                # 提示错误"
   ]
  },
  {
   "cell_type": "code",
   "execution_count": 37,
   "metadata": {},
   "outputs": [
    {
     "data": {
      "text/html": [
       "<div>\n",
       "<style scoped>\n",
       "    .dataframe tbody tr th:only-of-type {\n",
       "        vertical-align: middle;\n",
       "    }\n",
       "\n",
       "    .dataframe tbody tr th {\n",
       "        vertical-align: top;\n",
       "    }\n",
       "\n",
       "    .dataframe thead th {\n",
       "        text-align: right;\n",
       "    }\n",
       "</style>\n",
       "<table border=\"1\" class=\"dataframe\">\n",
       "  <thead>\n",
       "    <tr style=\"text-align: right;\">\n",
       "      <th></th>\n",
       "      <th>key1</th>\n",
       "      <th>key2</th>\n",
       "      <th>data1</th>\n",
       "      <th>data2</th>\n",
       "      <th>data3</th>\n",
       "    </tr>\n",
       "  </thead>\n",
       "  <tbody>\n",
       "    <tr>\n",
       "      <th>0</th>\n",
       "      <td>a</td>\n",
       "      <td>one</td>\n",
       "      <td>-1.462803</td>\n",
       "      <td>0.883681</td>\n",
       "      <td>1.0</td>\n",
       "    </tr>\n",
       "    <tr>\n",
       "      <th>1</th>\n",
       "      <td>a</td>\n",
       "      <td>two</td>\n",
       "      <td>-0.808460</td>\n",
       "      <td>-0.004502</td>\n",
       "      <td>2.0</td>\n",
       "    </tr>\n",
       "    <tr>\n",
       "      <th>2</th>\n",
       "      <td>b</td>\n",
       "      <td>one</td>\n",
       "      <td>-0.513008</td>\n",
       "      <td>2.192351</td>\n",
       "      <td>3.0</td>\n",
       "    </tr>\n",
       "    <tr>\n",
       "      <th>3</th>\n",
       "      <td>b</td>\n",
       "      <td>two</td>\n",
       "      <td>-0.802503</td>\n",
       "      <td>-0.354411</td>\n",
       "      <td>NaN</td>\n",
       "    </tr>\n",
       "    <tr>\n",
       "      <th>4</th>\n",
       "      <td>a</td>\n",
       "      <td>one</td>\n",
       "      <td>-0.890532</td>\n",
       "      <td>0.523126</td>\n",
       "      <td>5.0</td>\n",
       "    </tr>\n",
       "  </tbody>\n",
       "</table>\n",
       "</div>"
      ],
      "text/plain": [
       "  key1 key2     data1     data2  data3\n",
       "0    a  one -1.462803  0.883681    1.0\n",
       "1    a  two -0.808460 -0.004502    2.0\n",
       "2    b  one -0.513008  2.192351    3.0\n",
       "3    b  two -0.802503 -0.354411    NaN\n",
       "4    a  one -0.890532  0.523126    5.0"
      ]
     },
     "execution_count": 37,
     "metadata": {},
     "output_type": "execute_result"
    }
   ],
   "source": [
    "df"
   ]
  },
  {
   "cell_type": "code",
   "execution_count": 38,
   "metadata": {},
   "outputs": [
    {
     "data": {
      "text/plain": [
       "key1  key2\n",
       "a     one     2\n",
       "      two     1\n",
       "b     one     1\n",
       "      two     1\n",
       "dtype: int64"
      ]
     },
     "execution_count": 38,
     "metadata": {},
     "output_type": "execute_result"
    }
   ],
   "source": [
    "df.groupby(['key1', 'key2']).size()"
   ]
  },
  {
   "cell_type": "code",
   "execution_count": 39,
   "metadata": {},
   "outputs": [],
   "source": [
    "df1 = pd.Series(['a',np.nan,0.5,-0.1,6.0])"
   ]
  },
  {
   "cell_type": "code",
   "execution_count": 40,
   "metadata": {},
   "outputs": [],
   "source": [
    "df2 = pd.concat([df, df1], axis=1)"
   ]
  },
  {
   "cell_type": "code",
   "execution_count": 41,
   "metadata": {},
   "outputs": [
    {
     "data": {
      "text/html": [
       "<div>\n",
       "<style scoped>\n",
       "    .dataframe tbody tr th:only-of-type {\n",
       "        vertical-align: middle;\n",
       "    }\n",
       "\n",
       "    .dataframe tbody tr th {\n",
       "        vertical-align: top;\n",
       "    }\n",
       "\n",
       "    .dataframe thead th {\n",
       "        text-align: right;\n",
       "    }\n",
       "</style>\n",
       "<table border=\"1\" class=\"dataframe\">\n",
       "  <thead>\n",
       "    <tr style=\"text-align: right;\">\n",
       "      <th></th>\n",
       "      <th>key1</th>\n",
       "      <th>key2</th>\n",
       "      <th>data1</th>\n",
       "      <th>data2</th>\n",
       "      <th>data3</th>\n",
       "      <th>0</th>\n",
       "    </tr>\n",
       "  </thead>\n",
       "  <tbody>\n",
       "    <tr>\n",
       "      <th>0</th>\n",
       "      <td>a</td>\n",
       "      <td>one</td>\n",
       "      <td>-1.462803</td>\n",
       "      <td>0.883681</td>\n",
       "      <td>1.0</td>\n",
       "      <td>a</td>\n",
       "    </tr>\n",
       "    <tr>\n",
       "      <th>1</th>\n",
       "      <td>a</td>\n",
       "      <td>two</td>\n",
       "      <td>-0.808460</td>\n",
       "      <td>-0.004502</td>\n",
       "      <td>2.0</td>\n",
       "      <td>NaN</td>\n",
       "    </tr>\n",
       "    <tr>\n",
       "      <th>2</th>\n",
       "      <td>b</td>\n",
       "      <td>one</td>\n",
       "      <td>-0.513008</td>\n",
       "      <td>2.192351</td>\n",
       "      <td>3.0</td>\n",
       "      <td>0.5</td>\n",
       "    </tr>\n",
       "    <tr>\n",
       "      <th>3</th>\n",
       "      <td>b</td>\n",
       "      <td>two</td>\n",
       "      <td>-0.802503</td>\n",
       "      <td>-0.354411</td>\n",
       "      <td>NaN</td>\n",
       "      <td>-0.1</td>\n",
       "    </tr>\n",
       "    <tr>\n",
       "      <th>4</th>\n",
       "      <td>a</td>\n",
       "      <td>one</td>\n",
       "      <td>-0.890532</td>\n",
       "      <td>0.523126</td>\n",
       "      <td>5.0</td>\n",
       "      <td>6</td>\n",
       "    </tr>\n",
       "  </tbody>\n",
       "</table>\n",
       "</div>"
      ],
      "text/plain": [
       "  key1 key2     data1     data2  data3    0\n",
       "0    a  one -1.462803  0.883681    1.0    a\n",
       "1    a  two -0.808460 -0.004502    2.0  NaN\n",
       "2    b  one -0.513008  2.192351    3.0  0.5\n",
       "3    b  two -0.802503 -0.354411    NaN -0.1\n",
       "4    a  one -0.890532  0.523126    5.0    6"
      ]
     },
     "execution_count": 41,
     "metadata": {},
     "output_type": "execute_result"
    }
   ],
   "source": [
    "df2                                                     #按axis=1进行拼接"
   ]
  },
  {
   "cell_type": "code",
   "execution_count": 42,
   "metadata": {},
   "outputs": [
    {
     "data": {
      "text/html": [
       "<div>\n",
       "<style scoped>\n",
       "    .dataframe tbody tr th:only-of-type {\n",
       "        vertical-align: middle;\n",
       "    }\n",
       "\n",
       "    .dataframe tbody tr th {\n",
       "        vertical-align: top;\n",
       "    }\n",
       "\n",
       "    .dataframe thead th {\n",
       "        text-align: right;\n",
       "    }\n",
       "</style>\n",
       "<table border=\"1\" class=\"dataframe\">\n",
       "  <thead>\n",
       "    <tr style=\"text-align: right;\">\n",
       "      <th></th>\n",
       "      <th>key1</th>\n",
       "      <th>key2</th>\n",
       "      <th>data1</th>\n",
       "      <th>data2</th>\n",
       "      <th>data3</th>\n",
       "    </tr>\n",
       "  </thead>\n",
       "  <tbody>\n",
       "    <tr>\n",
       "      <th>0</th>\n",
       "      <td>a</td>\n",
       "      <td>one</td>\n",
       "      <td>-1.462803</td>\n",
       "      <td>0.883681</td>\n",
       "      <td>1.0</td>\n",
       "    </tr>\n",
       "    <tr>\n",
       "      <th>1</th>\n",
       "      <td>a</td>\n",
       "      <td>two</td>\n",
       "      <td>-0.808460</td>\n",
       "      <td>-0.004502</td>\n",
       "      <td>2.0</td>\n",
       "    </tr>\n",
       "    <tr>\n",
       "      <th>2</th>\n",
       "      <td>b</td>\n",
       "      <td>one</td>\n",
       "      <td>-0.513008</td>\n",
       "      <td>2.192351</td>\n",
       "      <td>3.0</td>\n",
       "    </tr>\n",
       "    <tr>\n",
       "      <th>3</th>\n",
       "      <td>b</td>\n",
       "      <td>two</td>\n",
       "      <td>-0.802503</td>\n",
       "      <td>-0.354411</td>\n",
       "      <td>NaN</td>\n",
       "    </tr>\n",
       "    <tr>\n",
       "      <th>4</th>\n",
       "      <td>a</td>\n",
       "      <td>one</td>\n",
       "      <td>-0.890532</td>\n",
       "      <td>0.523126</td>\n",
       "      <td>5.0</td>\n",
       "    </tr>\n",
       "  </tbody>\n",
       "</table>\n",
       "</div>"
      ],
      "text/plain": [
       "  key1 key2     data1     data2  data3\n",
       "0    a  one -1.462803  0.883681    1.0\n",
       "1    a  two -0.808460 -0.004502    2.0\n",
       "2    b  one -0.513008  2.192351    3.0\n",
       "3    b  two -0.802503 -0.354411    NaN\n",
       "4    a  one -0.890532  0.523126    5.0"
      ]
     },
     "execution_count": 42,
     "metadata": {},
     "output_type": "execute_result"
    }
   ],
   "source": [
    "df"
   ]
  },
  {
   "cell_type": "code",
   "execution_count": 44,
   "metadata": {},
   "outputs": [
    {
     "data": {
      "text/plain": [
       "0      a\n",
       "1    NaN\n",
       "2    0.5\n",
       "3   -0.1\n",
       "4      6\n",
       "Name: 0, dtype: object"
      ]
     },
     "execution_count": 44,
     "metadata": {},
     "output_type": "execute_result"
    }
   ],
   "source": [
    "df2[0]"
   ]
  },
  {
   "cell_type": "code",
   "execution_count": 45,
   "metadata": {},
   "outputs": [],
   "source": [
    "#df.drop([0], axis=1, inplace=True)                                     #删除某列，原地删除 inplace=True\n",
    "df.loc[5,:] = ['a',np.nan,0.5,-0.1,6.0]                                 #添加一行"
   ]
  },
  {
   "cell_type": "code",
   "execution_count": 46,
   "metadata": {},
   "outputs": [
    {
     "data": {
      "text/html": [
       "<div>\n",
       "<style scoped>\n",
       "    .dataframe tbody tr th:only-of-type {\n",
       "        vertical-align: middle;\n",
       "    }\n",
       "\n",
       "    .dataframe tbody tr th {\n",
       "        vertical-align: top;\n",
       "    }\n",
       "\n",
       "    .dataframe thead th {\n",
       "        text-align: right;\n",
       "    }\n",
       "</style>\n",
       "<table border=\"1\" class=\"dataframe\">\n",
       "  <thead>\n",
       "    <tr style=\"text-align: right;\">\n",
       "      <th></th>\n",
       "      <th>key1</th>\n",
       "      <th>key2</th>\n",
       "      <th>data1</th>\n",
       "      <th>data2</th>\n",
       "      <th>data3</th>\n",
       "    </tr>\n",
       "  </thead>\n",
       "  <tbody>\n",
       "    <tr>\n",
       "      <th>0</th>\n",
       "      <td>a</td>\n",
       "      <td>one</td>\n",
       "      <td>-1.462803</td>\n",
       "      <td>0.883681</td>\n",
       "      <td>1.0</td>\n",
       "    </tr>\n",
       "    <tr>\n",
       "      <th>1</th>\n",
       "      <td>a</td>\n",
       "      <td>two</td>\n",
       "      <td>-0.808460</td>\n",
       "      <td>-0.004502</td>\n",
       "      <td>2.0</td>\n",
       "    </tr>\n",
       "    <tr>\n",
       "      <th>2</th>\n",
       "      <td>b</td>\n",
       "      <td>one</td>\n",
       "      <td>-0.513008</td>\n",
       "      <td>2.192351</td>\n",
       "      <td>3.0</td>\n",
       "    </tr>\n",
       "    <tr>\n",
       "      <th>3</th>\n",
       "      <td>b</td>\n",
       "      <td>two</td>\n",
       "      <td>-0.802503</td>\n",
       "      <td>-0.354411</td>\n",
       "      <td>NaN</td>\n",
       "    </tr>\n",
       "    <tr>\n",
       "      <th>4</th>\n",
       "      <td>a</td>\n",
       "      <td>one</td>\n",
       "      <td>-0.890532</td>\n",
       "      <td>0.523126</td>\n",
       "      <td>5.0</td>\n",
       "    </tr>\n",
       "    <tr>\n",
       "      <th>5</th>\n",
       "      <td>a</td>\n",
       "      <td>NaN</td>\n",
       "      <td>0.500000</td>\n",
       "      <td>-0.100000</td>\n",
       "      <td>6.0</td>\n",
       "    </tr>\n",
       "  </tbody>\n",
       "</table>\n",
       "</div>"
      ],
      "text/plain": [
       "  key1 key2     data1     data2  data3\n",
       "0    a  one -1.462803  0.883681    1.0\n",
       "1    a  two -0.808460 -0.004502    2.0\n",
       "2    b  one -0.513008  2.192351    3.0\n",
       "3    b  two -0.802503 -0.354411    NaN\n",
       "4    a  one -0.890532  0.523126    5.0\n",
       "5    a  NaN  0.500000 -0.100000    6.0"
      ]
     },
     "execution_count": 46,
     "metadata": {},
     "output_type": "execute_result"
    }
   ],
   "source": [
    "df"
   ]
  },
  {
   "cell_type": "code",
   "execution_count": 47,
   "metadata": {},
   "outputs": [
    {
     "data": {
      "text/html": [
       "<div>\n",
       "<style scoped>\n",
       "    .dataframe tbody tr th:only-of-type {\n",
       "        vertical-align: middle;\n",
       "    }\n",
       "\n",
       "    .dataframe tbody tr th {\n",
       "        vertical-align: top;\n",
       "    }\n",
       "\n",
       "    .dataframe thead th {\n",
       "        text-align: right;\n",
       "    }\n",
       "</style>\n",
       "<table border=\"1\" class=\"dataframe\">\n",
       "  <thead>\n",
       "    <tr style=\"text-align: right;\">\n",
       "      <th></th>\n",
       "      <th></th>\n",
       "      <th>data1</th>\n",
       "      <th>data2</th>\n",
       "      <th>data3</th>\n",
       "    </tr>\n",
       "    <tr>\n",
       "      <th>key1</th>\n",
       "      <th>key2</th>\n",
       "      <th></th>\n",
       "      <th></th>\n",
       "      <th></th>\n",
       "    </tr>\n",
       "  </thead>\n",
       "  <tbody>\n",
       "    <tr>\n",
       "      <th rowspan=\"2\" valign=\"top\">a</th>\n",
       "      <th>one</th>\n",
       "      <td>-1.176667</td>\n",
       "      <td>0.703404</td>\n",
       "      <td>3.0</td>\n",
       "    </tr>\n",
       "    <tr>\n",
       "      <th>two</th>\n",
       "      <td>-0.808460</td>\n",
       "      <td>-0.004502</td>\n",
       "      <td>2.0</td>\n",
       "    </tr>\n",
       "    <tr>\n",
       "      <th rowspan=\"2\" valign=\"top\">b</th>\n",
       "      <th>one</th>\n",
       "      <td>-0.513008</td>\n",
       "      <td>2.192351</td>\n",
       "      <td>3.0</td>\n",
       "    </tr>\n",
       "    <tr>\n",
       "      <th>two</th>\n",
       "      <td>-0.802503</td>\n",
       "      <td>-0.354411</td>\n",
       "      <td>NaN</td>\n",
       "    </tr>\n",
       "  </tbody>\n",
       "</table>\n",
       "</div>"
      ],
      "text/plain": [
       "              data1     data2  data3\n",
       "key1 key2                           \n",
       "a    one  -1.176667  0.703404    3.0\n",
       "     two  -0.808460 -0.004502    2.0\n",
       "b    one  -0.513008  2.192351    3.0\n",
       "     two  -0.802503 -0.354411    NaN"
      ]
     },
     "execution_count": 47,
     "metadata": {},
     "output_type": "execute_result"
    }
   ],
   "source": [
    "df.groupby(['key1','key2']).mean()                       # 分组关键词中的空值被除去"
   ]
  },
  {
   "cell_type": "code",
   "execution_count": 48,
   "metadata": {},
   "outputs": [],
   "source": [
    "df.loc[6,:] = ['b', 'two', np.nan, np.nan, 7.0]           # 又添加一行带null的数据"
   ]
  },
  {
   "cell_type": "code",
   "execution_count": 49,
   "metadata": {},
   "outputs": [
    {
     "data": {
      "text/html": [
       "<div>\n",
       "<style scoped>\n",
       "    .dataframe tbody tr th:only-of-type {\n",
       "        vertical-align: middle;\n",
       "    }\n",
       "\n",
       "    .dataframe tbody tr th {\n",
       "        vertical-align: top;\n",
       "    }\n",
       "\n",
       "    .dataframe thead th {\n",
       "        text-align: right;\n",
       "    }\n",
       "</style>\n",
       "<table border=\"1\" class=\"dataframe\">\n",
       "  <thead>\n",
       "    <tr style=\"text-align: right;\">\n",
       "      <th></th>\n",
       "      <th>key1</th>\n",
       "      <th>key2</th>\n",
       "      <th>data1</th>\n",
       "      <th>data2</th>\n",
       "      <th>data3</th>\n",
       "    </tr>\n",
       "  </thead>\n",
       "  <tbody>\n",
       "    <tr>\n",
       "      <th>0</th>\n",
       "      <td>a</td>\n",
       "      <td>one</td>\n",
       "      <td>-1.462803</td>\n",
       "      <td>0.883681</td>\n",
       "      <td>1.0</td>\n",
       "    </tr>\n",
       "    <tr>\n",
       "      <th>1</th>\n",
       "      <td>a</td>\n",
       "      <td>two</td>\n",
       "      <td>-0.808460</td>\n",
       "      <td>-0.004502</td>\n",
       "      <td>2.0</td>\n",
       "    </tr>\n",
       "    <tr>\n",
       "      <th>2</th>\n",
       "      <td>b</td>\n",
       "      <td>one</td>\n",
       "      <td>-0.513008</td>\n",
       "      <td>2.192351</td>\n",
       "      <td>3.0</td>\n",
       "    </tr>\n",
       "    <tr>\n",
       "      <th>3</th>\n",
       "      <td>b</td>\n",
       "      <td>two</td>\n",
       "      <td>-0.802503</td>\n",
       "      <td>-0.354411</td>\n",
       "      <td>NaN</td>\n",
       "    </tr>\n",
       "    <tr>\n",
       "      <th>4</th>\n",
       "      <td>a</td>\n",
       "      <td>one</td>\n",
       "      <td>-0.890532</td>\n",
       "      <td>0.523126</td>\n",
       "      <td>5.0</td>\n",
       "    </tr>\n",
       "    <tr>\n",
       "      <th>5</th>\n",
       "      <td>a</td>\n",
       "      <td>NaN</td>\n",
       "      <td>0.500000</td>\n",
       "      <td>-0.100000</td>\n",
       "      <td>6.0</td>\n",
       "    </tr>\n",
       "    <tr>\n",
       "      <th>6</th>\n",
       "      <td>b</td>\n",
       "      <td>two</td>\n",
       "      <td>NaN</td>\n",
       "      <td>NaN</td>\n",
       "      <td>7.0</td>\n",
       "    </tr>\n",
       "  </tbody>\n",
       "</table>\n",
       "</div>"
      ],
      "text/plain": [
       "  key1 key2     data1     data2  data3\n",
       "0    a  one -1.462803  0.883681    1.0\n",
       "1    a  two -0.808460 -0.004502    2.0\n",
       "2    b  one -0.513008  2.192351    3.0\n",
       "3    b  two -0.802503 -0.354411    NaN\n",
       "4    a  one -0.890532  0.523126    5.0\n",
       "5    a  NaN  0.500000 -0.100000    6.0\n",
       "6    b  two       NaN       NaN    7.0"
      ]
     },
     "execution_count": 49,
     "metadata": {},
     "output_type": "execute_result"
    }
   ],
   "source": [
    "df"
   ]
  },
  {
   "cell_type": "code",
   "execution_count": 50,
   "metadata": {},
   "outputs": [
    {
     "data": {
      "text/html": [
       "<div>\n",
       "<style scoped>\n",
       "    .dataframe tbody tr th:only-of-type {\n",
       "        vertical-align: middle;\n",
       "    }\n",
       "\n",
       "    .dataframe tbody tr th {\n",
       "        vertical-align: top;\n",
       "    }\n",
       "\n",
       "    .dataframe thead th {\n",
       "        text-align: right;\n",
       "    }\n",
       "</style>\n",
       "<table border=\"1\" class=\"dataframe\">\n",
       "  <thead>\n",
       "    <tr style=\"text-align: right;\">\n",
       "      <th></th>\n",
       "      <th></th>\n",
       "      <th>data1</th>\n",
       "      <th>data2</th>\n",
       "      <th>data3</th>\n",
       "    </tr>\n",
       "    <tr>\n",
       "      <th>key1</th>\n",
       "      <th>key2</th>\n",
       "      <th></th>\n",
       "      <th></th>\n",
       "      <th></th>\n",
       "    </tr>\n",
       "  </thead>\n",
       "  <tbody>\n",
       "    <tr>\n",
       "      <th rowspan=\"2\" valign=\"top\">a</th>\n",
       "      <th>one</th>\n",
       "      <td>-1.176667</td>\n",
       "      <td>0.703404</td>\n",
       "      <td>3.0</td>\n",
       "    </tr>\n",
       "    <tr>\n",
       "      <th>two</th>\n",
       "      <td>-0.808460</td>\n",
       "      <td>-0.004502</td>\n",
       "      <td>2.0</td>\n",
       "    </tr>\n",
       "    <tr>\n",
       "      <th rowspan=\"2\" valign=\"top\">b</th>\n",
       "      <th>one</th>\n",
       "      <td>-0.513008</td>\n",
       "      <td>2.192351</td>\n",
       "      <td>3.0</td>\n",
       "    </tr>\n",
       "    <tr>\n",
       "      <th>two</th>\n",
       "      <td>-0.802503</td>\n",
       "      <td>-0.354411</td>\n",
       "      <td>7.0</td>\n",
       "    </tr>\n",
       "  </tbody>\n",
       "</table>\n",
       "</div>"
      ],
      "text/plain": [
       "              data1     data2  data3\n",
       "key1 key2                           \n",
       "a    one  -1.176667  0.703404    3.0\n",
       "     two  -0.808460 -0.004502    2.0\n",
       "b    one  -0.513008  2.192351    3.0\n",
       "     two  -0.802503 -0.354411    7.0"
      ]
     },
     "execution_count": 50,
     "metadata": {},
     "output_type": "execute_result"
    }
   ],
   "source": [
    "df.groupby(['key1','key2']).mean()                       #  再次看分组求均值的变化，mean(null值+7.0) = 7.0"
   ]
  },
  {
   "cell_type": "code",
   "execution_count": 51,
   "metadata": {},
   "outputs": [
    {
     "data": {
      "text/plain": [
       "key1  key2\n",
       "a     one     2\n",
       "      two     1\n",
       "b     one     1\n",
       "      two     2\n",
       "dtype: int64"
      ]
     },
     "execution_count": 51,
     "metadata": {},
     "output_type": "execute_result"
    }
   ],
   "source": [
    "df.groupby(['key1', 'key2']).size()                       #   此时再看计数，b two 应该变为2"
   ]
  },
  {
   "cell_type": "markdown",
   "metadata": {},
   "source": [
    "#### 对分组进行迭代"
   ]
  },
  {
   "cell_type": "code",
   "execution_count": 52,
   "metadata": {},
   "outputs": [
    {
     "name": "stdout",
     "output_type": "stream",
     "text": [
      "a\n",
      "b\n"
     ]
    }
   ],
   "source": [
    "for name, group in df.groupby('key1'):\n",
    "    print(name)"
   ]
  },
  {
   "cell_type": "code",
   "execution_count": 53,
   "metadata": {},
   "outputs": [
    {
     "name": "stdout",
     "output_type": "stream",
     "text": [
      "a\n",
      "  key1 key2     data1     data2  data3\n",
      "0    a  one -1.462803  0.883681    1.0\n",
      "1    a  two -0.808460 -0.004502    2.0\n",
      "4    a  one -0.890532  0.523126    5.0\n",
      "5    a  NaN  0.500000 -0.100000    6.0\n",
      "b\n",
      "  key1 key2     data1     data2  data3\n",
      "2    b  one -0.513008  2.192351    3.0\n",
      "3    b  two -0.802503 -0.354411    NaN\n",
      "6    b  two       NaN       NaN    7.0\n"
     ]
    }
   ],
   "source": [
    "for name, group in df.groupby('key1'):                          #可以产生一组二元元组(由分组名和数据块组成)\n",
    "    print(name)\n",
    "    print(group)"
   ]
  },
  {
   "cell_type": "code",
   "execution_count": 58,
   "metadata": {},
   "outputs": [
    {
     "data": {
      "text/html": [
       "<div>\n",
       "<style scoped>\n",
       "    .dataframe tbody tr th:only-of-type {\n",
       "        vertical-align: middle;\n",
       "    }\n",
       "\n",
       "    .dataframe tbody tr th {\n",
       "        vertical-align: top;\n",
       "    }\n",
       "\n",
       "    .dataframe thead th {\n",
       "        text-align: right;\n",
       "    }\n",
       "</style>\n",
       "<table border=\"1\" class=\"dataframe\">\n",
       "  <thead>\n",
       "    <tr style=\"text-align: right;\">\n",
       "      <th></th>\n",
       "      <th>key1</th>\n",
       "      <th>key2</th>\n",
       "      <th>data1</th>\n",
       "      <th>data2</th>\n",
       "      <th>data3</th>\n",
       "    </tr>\n",
       "  </thead>\n",
       "  <tbody>\n",
       "    <tr>\n",
       "      <th>0</th>\n",
       "      <td>a</td>\n",
       "      <td>one</td>\n",
       "      <td>-1.462803</td>\n",
       "      <td>0.883681</td>\n",
       "      <td>1.0</td>\n",
       "    </tr>\n",
       "    <tr>\n",
       "      <th>1</th>\n",
       "      <td>a</td>\n",
       "      <td>two</td>\n",
       "      <td>-0.808460</td>\n",
       "      <td>-0.004502</td>\n",
       "      <td>2.0</td>\n",
       "    </tr>\n",
       "    <tr>\n",
       "      <th>2</th>\n",
       "      <td>b</td>\n",
       "      <td>one</td>\n",
       "      <td>-0.513008</td>\n",
       "      <td>2.192351</td>\n",
       "      <td>3.0</td>\n",
       "    </tr>\n",
       "    <tr>\n",
       "      <th>3</th>\n",
       "      <td>b</td>\n",
       "      <td>two</td>\n",
       "      <td>-0.802503</td>\n",
       "      <td>-0.354411</td>\n",
       "      <td>NaN</td>\n",
       "    </tr>\n",
       "    <tr>\n",
       "      <th>4</th>\n",
       "      <td>a</td>\n",
       "      <td>one</td>\n",
       "      <td>-0.890532</td>\n",
       "      <td>0.523126</td>\n",
       "      <td>5.0</td>\n",
       "    </tr>\n",
       "    <tr>\n",
       "      <th>5</th>\n",
       "      <td>a</td>\n",
       "      <td>NaN</td>\n",
       "      <td>0.500000</td>\n",
       "      <td>-0.100000</td>\n",
       "      <td>6.0</td>\n",
       "    </tr>\n",
       "    <tr>\n",
       "      <th>6</th>\n",
       "      <td>b</td>\n",
       "      <td>two</td>\n",
       "      <td>NaN</td>\n",
       "      <td>NaN</td>\n",
       "      <td>7.0</td>\n",
       "    </tr>\n",
       "  </tbody>\n",
       "</table>\n",
       "</div>"
      ],
      "text/plain": [
       "  key1 key2     data1     data2  data3\n",
       "0    a  one -1.462803  0.883681    1.0\n",
       "1    a  two -0.808460 -0.004502    2.0\n",
       "2    b  one -0.513008  2.192351    3.0\n",
       "3    b  two -0.802503 -0.354411    NaN\n",
       "4    a  one -0.890532  0.523126    5.0\n",
       "5    a  NaN  0.500000 -0.100000    6.0\n",
       "6    b  two       NaN       NaN    7.0"
      ]
     },
     "execution_count": 58,
     "metadata": {},
     "output_type": "execute_result"
    }
   ],
   "source": [
    "df"
   ]
  },
  {
   "cell_type": "code",
   "execution_count": 54,
   "metadata": {},
   "outputs": [
    {
     "data": {
      "text/plain": [
       "[('a',   key1 key2     data1     data2  data3\n",
       "  0    a  one -1.462803  0.883681    1.0\n",
       "  1    a  two -0.808460 -0.004502    2.0\n",
       "  4    a  one -0.890532  0.523126    5.0\n",
       "  5    a  NaN  0.500000 -0.100000    6.0),\n",
       " ('b',   key1 key2     data1     data2  data3\n",
       "  2    b  one -0.513008  2.192351    3.0\n",
       "  3    b  two -0.802503 -0.354411    NaN\n",
       "  6    b  two       NaN       NaN    7.0)]"
      ]
     },
     "execution_count": 54,
     "metadata": {},
     "output_type": "execute_result"
    }
   ],
   "source": [
    "list(df.groupby('key1'))"
   ]
  },
  {
   "cell_type": "code",
   "execution_count": 59,
   "metadata": {},
   "outputs": [
    {
     "data": {
      "text/plain": [
       "[('a', 0   -1.462803\n",
       "  1   -0.808460\n",
       "  4   -0.890532\n",
       "  5    0.500000\n",
       "  Name: data1, dtype: float64), ('b', 2   -0.513008\n",
       "  3   -0.802503\n",
       "  6         NaN\n",
       "  Name: data1, dtype: float64)]"
      ]
     },
     "execution_count": 59,
     "metadata": {},
     "output_type": "execute_result"
    }
   ],
   "source": [
    "list(df.groupby('key1')['data1'])"
   ]
  },
  {
   "cell_type": "code",
   "execution_count": 67,
   "metadata": {},
   "outputs": [
    {
     "data": {
      "text/plain": [
       "[('a', 0   -1.462803\n",
       "  1   -0.808460\n",
       "  4   -0.890532\n",
       "  5    0.500000\n",
       "  Name: data1, dtype: float64), ('b', 2   -0.513008\n",
       "  3   -0.802503\n",
       "  6         NaN\n",
       "  Name: data1, dtype: float64)]"
      ]
     },
     "execution_count": 67,
     "metadata": {},
     "output_type": "execute_result"
    }
   ],
   "source": [
    "list(df['data1'].groupby(df['key1']))                       #上一行是这句的语法糖"
   ]
  },
  {
   "cell_type": "code",
   "execution_count": 57,
   "metadata": {},
   "outputs": [
    {
     "data": {
      "text/plain": [
       "[('a',   key1 key2     data1     data2  data3\n",
       "  0    a  one -1.462803  0.883681    1.0\n",
       "  1    a  two -0.808460 -0.004502    2.0\n",
       "  4    a  one -0.890532  0.523126    5.0\n",
       "  5    a  NaN  0.500000 -0.100000    6.0),\n",
       " ('b',   key1 key2     data1     data2  data3\n",
       "  2    b  one -0.513008  2.192351    3.0\n",
       "  3    b  two -0.802503 -0.354411    NaN\n",
       "  6    b  two       NaN       NaN    7.0)]"
      ]
     },
     "execution_count": 57,
     "metadata": {},
     "output_type": "execute_result"
    }
   ],
   "source": [
    "list(df.groupby('key1')[['data1']])                     #看来这样的写法和下一行不等价"
   ]
  },
  {
   "cell_type": "code",
   "execution_count": 77,
   "metadata": {},
   "outputs": [
    {
     "data": {
      "text/plain": [
       "[('a',   key1 key2     data1     data2  data3\n",
       "  0    a  one -1.462803  0.883681    1.0\n",
       "  1    a  two -0.808460 -0.004502    2.0\n",
       "  4    a  one -0.890532  0.523126    5.0\n",
       "  5    a  NaN  0.500000 -0.100000    6.0),\n",
       " ('b',   key1 key2     data1     data2  data3\n",
       "  2    b  one -0.513008  2.192351    3.0\n",
       "  3    b  two -0.802503 -0.354411    NaN\n",
       "  6    b  two       NaN       NaN    7.0)]"
      ]
     },
     "execution_count": 77,
     "metadata": {},
     "output_type": "execute_result"
    }
   ],
   "source": [
    "list(df.groupby('key1')[['data2']])"
   ]
  },
  {
   "cell_type": "code",
   "execution_count": 79,
   "metadata": {},
   "outputs": [
    {
     "data": {
      "text/plain": [
       "[('a',       data1\n",
       "  0 -1.462803\n",
       "  1 -0.808460\n",
       "  4 -0.890532\n",
       "  5  0.500000), ('b',       data1\n",
       "  2 -0.513008\n",
       "  3 -0.802503\n",
       "  6       NaN)]"
      ]
     },
     "execution_count": 79,
     "metadata": {},
     "output_type": "execute_result"
    }
   ],
   "source": [
    "list(df[['data1']].groupby(df['key1']))                     #和上一行式子不等价，所以还是语法糖吗？"
   ]
  },
  {
   "cell_type": "code",
   "execution_count": 97,
   "metadata": {},
   "outputs": [
    {
     "data": {
      "text/html": [
       "<div>\n",
       "<style scoped>\n",
       "    .dataframe tbody tr th:only-of-type {\n",
       "        vertical-align: middle;\n",
       "    }\n",
       "\n",
       "    .dataframe tbody tr th {\n",
       "        vertical-align: top;\n",
       "    }\n",
       "\n",
       "    .dataframe thead th {\n",
       "        text-align: right;\n",
       "    }\n",
       "</style>\n",
       "<table border=\"1\" class=\"dataframe\">\n",
       "  <thead>\n",
       "    <tr style=\"text-align: right;\">\n",
       "      <th></th>\n",
       "      <th>data1</th>\n",
       "    </tr>\n",
       "    <tr>\n",
       "      <th>key1</th>\n",
       "      <th></th>\n",
       "    </tr>\n",
       "  </thead>\n",
       "  <tbody>\n",
       "    <tr>\n",
       "      <th>a</th>\n",
       "      <td>-0.665449</td>\n",
       "    </tr>\n",
       "    <tr>\n",
       "      <th>b</th>\n",
       "      <td>-0.657756</td>\n",
       "    </tr>\n",
       "  </tbody>\n",
       "</table>\n",
       "</div>"
      ],
      "text/plain": [
       "         data1\n",
       "key1          \n",
       "a    -0.665449\n",
       "b    -0.657756"
      ]
     },
     "execution_count": 97,
     "metadata": {},
     "output_type": "execute_result"
    }
   ],
   "source": [
    "df[['data1']].groupby(df['key1']).mean()             #这两句的聚合运算结果是一致的"
   ]
  },
  {
   "cell_type": "code",
   "execution_count": 98,
   "metadata": {},
   "outputs": [
    {
     "data": {
      "text/html": [
       "<div>\n",
       "<style scoped>\n",
       "    .dataframe tbody tr th:only-of-type {\n",
       "        vertical-align: middle;\n",
       "    }\n",
       "\n",
       "    .dataframe tbody tr th {\n",
       "        vertical-align: top;\n",
       "    }\n",
       "\n",
       "    .dataframe thead th {\n",
       "        text-align: right;\n",
       "    }\n",
       "</style>\n",
       "<table border=\"1\" class=\"dataframe\">\n",
       "  <thead>\n",
       "    <tr style=\"text-align: right;\">\n",
       "      <th></th>\n",
       "      <th>data1</th>\n",
       "    </tr>\n",
       "    <tr>\n",
       "      <th>key1</th>\n",
       "      <th></th>\n",
       "    </tr>\n",
       "  </thead>\n",
       "  <tbody>\n",
       "    <tr>\n",
       "      <th>a</th>\n",
       "      <td>-0.665449</td>\n",
       "    </tr>\n",
       "    <tr>\n",
       "      <th>b</th>\n",
       "      <td>-0.657756</td>\n",
       "    </tr>\n",
       "  </tbody>\n",
       "</table>\n",
       "</div>"
      ],
      "text/plain": [
       "         data1\n",
       "key1          \n",
       "a    -0.665449\n",
       "b    -0.657756"
      ]
     },
     "execution_count": 98,
     "metadata": {},
     "output_type": "execute_result"
    }
   ],
   "source": [
    "df.groupby(df['key1'])[['data1']].mean()             #这两句的聚合运算结果是一致的"
   ]
  },
  {
   "cell_type": "markdown",
   "metadata": {},
   "source": [
    "# 这个问题思考了很久，暂时定为书本的意思是语法糖进行聚合运算等价，意即\n",
    "# df[['data1']].groupby(df['key1']).mean() == df.groupby(df['key1'])[['data1']].mean()\n",
    "# 都是一列DataFrame结构且相等，但是迭代或者list一下df.groupby(df['key1'])[['data1']]是全表而不是一列，这一点二者不一致。\n",
    "# 下面两句迭代或者list都一致\n",
    "# df.groupby('key1')['data1'] == df['data1'].groupby(df['key1'])\n",
    "# df.groupby('key1')['data2'] == df['data2'].groupby(df['key1'])      这两句前者都是后者的语法糖\n",
    "# df[['data1']].groupby(df['key1']) == DataFrameGroupBy ,也是data1列\n",
    "\n",
    "# 以上详情见上例"
   ]
  },
  {
   "cell_type": "code",
   "execution_count": 80,
   "metadata": {},
   "outputs": [],
   "source": [
    "pieces = dict(list(df.groupby('key1')))"
   ]
  },
  {
   "cell_type": "code",
   "execution_count": 82,
   "metadata": {},
   "outputs": [
    {
     "data": {
      "text/html": [
       "<div>\n",
       "<style scoped>\n",
       "    .dataframe tbody tr th:only-of-type {\n",
       "        vertical-align: middle;\n",
       "    }\n",
       "\n",
       "    .dataframe tbody tr th {\n",
       "        vertical-align: top;\n",
       "    }\n",
       "\n",
       "    .dataframe thead th {\n",
       "        text-align: right;\n",
       "    }\n",
       "</style>\n",
       "<table border=\"1\" class=\"dataframe\">\n",
       "  <thead>\n",
       "    <tr style=\"text-align: right;\">\n",
       "      <th></th>\n",
       "      <th>key1</th>\n",
       "      <th>key2</th>\n",
       "      <th>data1</th>\n",
       "      <th>data2</th>\n",
       "      <th>data3</th>\n",
       "    </tr>\n",
       "  </thead>\n",
       "  <tbody>\n",
       "    <tr>\n",
       "      <th>2</th>\n",
       "      <td>b</td>\n",
       "      <td>one</td>\n",
       "      <td>-0.513008</td>\n",
       "      <td>2.192351</td>\n",
       "      <td>3.0</td>\n",
       "    </tr>\n",
       "    <tr>\n",
       "      <th>3</th>\n",
       "      <td>b</td>\n",
       "      <td>two</td>\n",
       "      <td>-0.802503</td>\n",
       "      <td>-0.354411</td>\n",
       "      <td>NaN</td>\n",
       "    </tr>\n",
       "    <tr>\n",
       "      <th>6</th>\n",
       "      <td>b</td>\n",
       "      <td>two</td>\n",
       "      <td>NaN</td>\n",
       "      <td>NaN</td>\n",
       "      <td>7.0</td>\n",
       "    </tr>\n",
       "  </tbody>\n",
       "</table>\n",
       "</div>"
      ],
      "text/plain": [
       "  key1 key2     data1     data2  data3\n",
       "2    b  one -0.513008  2.192351    3.0\n",
       "3    b  two -0.802503 -0.354411    NaN\n",
       "6    b  two       NaN       NaN    7.0"
      ]
     },
     "execution_count": 82,
     "metadata": {},
     "output_type": "execute_result"
    }
   ],
   "source": [
    "pieces['b']"
   ]
  },
  {
   "cell_type": "code",
   "execution_count": 83,
   "metadata": {},
   "outputs": [
    {
     "data": {
      "text/plain": [
       "{'a':   key1 key2     data1     data2  data3\n",
       " 0    a  one -1.462803  0.883681    1.0\n",
       " 1    a  two -0.808460 -0.004502    2.0\n",
       " 4    a  one -0.890532  0.523126    5.0\n",
       " 5    a  NaN  0.500000 -0.100000    6.0,\n",
       " 'b':   key1 key2     data1     data2  data3\n",
       " 2    b  one -0.513008  2.192351    3.0\n",
       " 3    b  two -0.802503 -0.354411    NaN\n",
       " 6    b  two       NaN       NaN    7.0}"
      ]
     },
     "execution_count": 83,
     "metadata": {},
     "output_type": "execute_result"
    }
   ],
   "source": [
    "pieces"
   ]
  },
  {
   "cell_type": "code",
   "execution_count": 84,
   "metadata": {},
   "outputs": [
    {
     "data": {
      "text/plain": [
       "key1      object\n",
       "key2      object\n",
       "data1    float64\n",
       "data2    float64\n",
       "data3    float64\n",
       "dtype: object"
      ]
     },
     "execution_count": 84,
     "metadata": {},
     "output_type": "execute_result"
    }
   ],
   "source": [
    "df.dtypes"
   ]
  },
  {
   "cell_type": "markdown",
   "metadata": {},
   "source": [
    "#### 按数据类型分组"
   ]
  },
  {
   "cell_type": "code",
   "execution_count": 85,
   "metadata": {},
   "outputs": [],
   "source": [
    "grouped = df.groupby(df.dtypes, axis=1)               #groupby默认是在axis=0上进行分组"
   ]
  },
  {
   "cell_type": "code",
   "execution_count": 86,
   "metadata": {},
   "outputs": [
    {
     "name": "stdout",
     "output_type": "stream",
     "text": [
      "float64\n",
      "      data1     data2  data3\n",
      "0 -1.462803  0.883681    1.0\n",
      "1 -0.808460 -0.004502    2.0\n",
      "2 -0.513008  2.192351    3.0\n",
      "3 -0.802503 -0.354411    NaN\n",
      "4 -0.890532  0.523126    5.0\n",
      "5  0.500000 -0.100000    6.0\n",
      "6       NaN       NaN    7.0\n",
      "object\n",
      "  key1 key2\n",
      "0    a  one\n",
      "1    a  two\n",
      "2    b  one\n",
      "3    b  two\n",
      "4    a  one\n",
      "5    a  NaN\n",
      "6    b  two\n"
     ]
    }
   ],
   "source": [
    "for dtype, group in grouped:\n",
    "    print(dtype)\n",
    "    print(group)                                      #对分组进行迭代打印"
   ]
  },
  {
   "cell_type": "code",
   "execution_count": 87,
   "metadata": {},
   "outputs": [
    {
     "data": {
      "text/html": [
       "<div>\n",
       "<style scoped>\n",
       "    .dataframe tbody tr th:only-of-type {\n",
       "        vertical-align: middle;\n",
       "    }\n",
       "\n",
       "    .dataframe tbody tr th {\n",
       "        vertical-align: top;\n",
       "    }\n",
       "\n",
       "    .dataframe thead th {\n",
       "        text-align: right;\n",
       "    }\n",
       "</style>\n",
       "<table border=\"1\" class=\"dataframe\">\n",
       "  <thead>\n",
       "    <tr style=\"text-align: right;\">\n",
       "      <th></th>\n",
       "      <th>key1</th>\n",
       "      <th>key2</th>\n",
       "      <th>data1</th>\n",
       "      <th>data2</th>\n",
       "      <th>data3</th>\n",
       "    </tr>\n",
       "  </thead>\n",
       "  <tbody>\n",
       "    <tr>\n",
       "      <th>0</th>\n",
       "      <td>a</td>\n",
       "      <td>one</td>\n",
       "      <td>-1.462803</td>\n",
       "      <td>0.883681</td>\n",
       "      <td>1.0</td>\n",
       "    </tr>\n",
       "    <tr>\n",
       "      <th>1</th>\n",
       "      <td>a</td>\n",
       "      <td>two</td>\n",
       "      <td>-0.808460</td>\n",
       "      <td>-0.004502</td>\n",
       "      <td>2.0</td>\n",
       "    </tr>\n",
       "    <tr>\n",
       "      <th>2</th>\n",
       "      <td>b</td>\n",
       "      <td>one</td>\n",
       "      <td>-0.513008</td>\n",
       "      <td>2.192351</td>\n",
       "      <td>3.0</td>\n",
       "    </tr>\n",
       "    <tr>\n",
       "      <th>3</th>\n",
       "      <td>b</td>\n",
       "      <td>two</td>\n",
       "      <td>-0.802503</td>\n",
       "      <td>-0.354411</td>\n",
       "      <td>NaN</td>\n",
       "    </tr>\n",
       "    <tr>\n",
       "      <th>4</th>\n",
       "      <td>a</td>\n",
       "      <td>one</td>\n",
       "      <td>-0.890532</td>\n",
       "      <td>0.523126</td>\n",
       "      <td>5.0</td>\n",
       "    </tr>\n",
       "    <tr>\n",
       "      <th>5</th>\n",
       "      <td>a</td>\n",
       "      <td>NaN</td>\n",
       "      <td>0.500000</td>\n",
       "      <td>-0.100000</td>\n",
       "      <td>6.0</td>\n",
       "    </tr>\n",
       "    <tr>\n",
       "      <th>6</th>\n",
       "      <td>b</td>\n",
       "      <td>two</td>\n",
       "      <td>NaN</td>\n",
       "      <td>NaN</td>\n",
       "      <td>7.0</td>\n",
       "    </tr>\n",
       "  </tbody>\n",
       "</table>\n",
       "</div>"
      ],
      "text/plain": [
       "  key1 key2     data1     data2  data3\n",
       "0    a  one -1.462803  0.883681    1.0\n",
       "1    a  two -0.808460 -0.004502    2.0\n",
       "2    b  one -0.513008  2.192351    3.0\n",
       "3    b  two -0.802503 -0.354411    NaN\n",
       "4    a  one -0.890532  0.523126    5.0\n",
       "5    a  NaN  0.500000 -0.100000    6.0\n",
       "6    b  two       NaN       NaN    7.0"
      ]
     },
     "execution_count": 87,
     "metadata": {},
     "output_type": "execute_result"
    }
   ],
   "source": [
    "df"
   ]
  },
  {
   "cell_type": "code",
   "execution_count": 93,
   "metadata": {},
   "outputs": [
    {
     "data": {
      "text/plain": [
       "<pandas.core.groupby.groupby.SeriesGroupBy object at 0x0000000008A2FD68>"
      ]
     },
     "execution_count": 93,
     "metadata": {},
     "output_type": "execute_result"
    }
   ],
   "source": [
    "df.groupby('key1')['data1']"
   ]
  },
  {
   "cell_type": "code",
   "execution_count": 94,
   "metadata": {},
   "outputs": [
    {
     "data": {
      "text/plain": [
       "<pandas.core.groupby.groupby.DataFrameGroupBy object at 0x0000000008A2FE48>"
      ]
     },
     "execution_count": 94,
     "metadata": {},
     "output_type": "execute_result"
    }
   ],
   "source": [
    "df.groupby('key1')[['data1']]"
   ]
  },
  {
   "cell_type": "code",
   "execution_count": 99,
   "metadata": {},
   "outputs": [
    {
     "name": "stdout",
     "output_type": "stream",
     "text": [
      "a\n",
      "0   -1.462803\n",
      "1   -0.808460\n",
      "4   -0.890532\n",
      "5    0.500000\n",
      "Name: data1, dtype: float64\n",
      "b\n",
      "2   -0.513008\n",
      "3   -0.802503\n",
      "6         NaN\n",
      "Name: data1, dtype: float64\n"
     ]
    }
   ],
   "source": [
    "for name, group in df.groupby('key1')['data1']:\n",
    "    print(name)\n",
    "    print(group)                                          #选取单个列"
   ]
  },
  {
   "cell_type": "code",
   "execution_count": 100,
   "metadata": {},
   "outputs": [
    {
     "name": "stdout",
     "output_type": "stream",
     "text": [
      "a\n",
      "  key1 key2     data1     data2  data3\n",
      "0    a  one -1.462803  0.883681    1.0\n",
      "1    a  two -0.808460 -0.004502    2.0\n",
      "4    a  one -0.890532  0.523126    5.0\n",
      "5    a  NaN  0.500000 -0.100000    6.0\n",
      "b\n",
      "  key1 key2     data1     data2  data3\n",
      "2    b  one -0.513008  2.192351    3.0\n",
      "3    b  two -0.802503 -0.354411    NaN\n",
      "6    b  two       NaN       NaN    7.0\n"
     ]
    }
   ],
   "source": [
    "for name, group in df.groupby('key1'):\n",
    "    print(name)\n",
    "    print(group)                                          #选取整个表格"
   ]
  },
  {
   "cell_type": "code",
   "execution_count": 101,
   "metadata": {},
   "outputs": [
    {
     "name": "stdout",
     "output_type": "stream",
     "text": [
      "a\n",
      "  key1 key2     data1     data2  data3\n",
      "0    a  one -1.462803  0.883681    1.0\n",
      "1    a  two -0.808460 -0.004502    2.0\n",
      "4    a  one -0.890532  0.523126    5.0\n",
      "5    a  NaN  0.500000 -0.100000    6.0\n",
      "b\n",
      "  key1 key2     data1     data2  data3\n",
      "2    b  one -0.513008  2.192351    3.0\n",
      "3    b  two -0.802503 -0.354411    NaN\n",
      "6    b  two       NaN       NaN    7.0\n"
     ]
    }
   ],
   "source": [
    "for name, group in df.groupby('key1')[['data2']]:\n",
    "    print(name)\n",
    "    print(group)        "
   ]
  },
  {
   "cell_type": "code",
   "execution_count": 102,
   "metadata": {},
   "outputs": [
    {
     "data": {
      "text/html": [
       "<div>\n",
       "<style scoped>\n",
       "    .dataframe tbody tr th:only-of-type {\n",
       "        vertical-align: middle;\n",
       "    }\n",
       "\n",
       "    .dataframe tbody tr th {\n",
       "        vertical-align: top;\n",
       "    }\n",
       "\n",
       "    .dataframe thead th {\n",
       "        text-align: right;\n",
       "    }\n",
       "</style>\n",
       "<table border=\"1\" class=\"dataframe\">\n",
       "  <thead>\n",
       "    <tr style=\"text-align: right;\">\n",
       "      <th></th>\n",
       "      <th>key1</th>\n",
       "      <th>key2</th>\n",
       "      <th>data1</th>\n",
       "      <th>data2</th>\n",
       "      <th>data3</th>\n",
       "    </tr>\n",
       "  </thead>\n",
       "  <tbody>\n",
       "    <tr>\n",
       "      <th>0</th>\n",
       "      <td>a</td>\n",
       "      <td>one</td>\n",
       "      <td>-1.462803</td>\n",
       "      <td>0.883681</td>\n",
       "      <td>1.0</td>\n",
       "    </tr>\n",
       "    <tr>\n",
       "      <th>1</th>\n",
       "      <td>a</td>\n",
       "      <td>two</td>\n",
       "      <td>-0.808460</td>\n",
       "      <td>-0.004502</td>\n",
       "      <td>2.0</td>\n",
       "    </tr>\n",
       "    <tr>\n",
       "      <th>2</th>\n",
       "      <td>b</td>\n",
       "      <td>one</td>\n",
       "      <td>-0.513008</td>\n",
       "      <td>2.192351</td>\n",
       "      <td>3.0</td>\n",
       "    </tr>\n",
       "    <tr>\n",
       "      <th>3</th>\n",
       "      <td>b</td>\n",
       "      <td>two</td>\n",
       "      <td>-0.802503</td>\n",
       "      <td>-0.354411</td>\n",
       "      <td>NaN</td>\n",
       "    </tr>\n",
       "    <tr>\n",
       "      <th>4</th>\n",
       "      <td>a</td>\n",
       "      <td>one</td>\n",
       "      <td>-0.890532</td>\n",
       "      <td>0.523126</td>\n",
       "      <td>5.0</td>\n",
       "    </tr>\n",
       "    <tr>\n",
       "      <th>5</th>\n",
       "      <td>a</td>\n",
       "      <td>NaN</td>\n",
       "      <td>0.500000</td>\n",
       "      <td>-0.100000</td>\n",
       "      <td>6.0</td>\n",
       "    </tr>\n",
       "    <tr>\n",
       "      <th>6</th>\n",
       "      <td>b</td>\n",
       "      <td>two</td>\n",
       "      <td>NaN</td>\n",
       "      <td>NaN</td>\n",
       "      <td>7.0</td>\n",
       "    </tr>\n",
       "  </tbody>\n",
       "</table>\n",
       "</div>"
      ],
      "text/plain": [
       "  key1 key2     data1     data2  data3\n",
       "0    a  one -1.462803  0.883681    1.0\n",
       "1    a  two -0.808460 -0.004502    2.0\n",
       "2    b  one -0.513008  2.192351    3.0\n",
       "3    b  two -0.802503 -0.354411    NaN\n",
       "4    a  one -0.890532  0.523126    5.0\n",
       "5    a  NaN  0.500000 -0.100000    6.0\n",
       "6    b  two       NaN       NaN    7.0"
      ]
     },
     "execution_count": 102,
     "metadata": {},
     "output_type": "execute_result"
    }
   ],
   "source": [
    "df"
   ]
  },
  {
   "cell_type": "code",
   "execution_count": 103,
   "metadata": {},
   "outputs": [
    {
     "data": {
      "text/plain": [
       "0   -1.462803\n",
       "1   -0.808460\n",
       "2   -0.513008\n",
       "3   -0.802503\n",
       "4   -0.890532\n",
       "5    0.500000\n",
       "6         NaN\n",
       "Name: data1, dtype: float64"
      ]
     },
     "execution_count": 103,
     "metadata": {},
     "output_type": "execute_result"
    }
   ],
   "source": [
    "df['data1']"
   ]
  },
  {
   "cell_type": "code",
   "execution_count": 105,
   "metadata": {},
   "outputs": [
    {
     "data": {
      "text/plain": [
       "pandas.core.series.Series"
      ]
     },
     "execution_count": 105,
     "metadata": {},
     "output_type": "execute_result"
    }
   ],
   "source": [
    "type(df['data1'])"
   ]
  },
  {
   "cell_type": "code",
   "execution_count": 104,
   "metadata": {},
   "outputs": [
    {
     "data": {
      "text/html": [
       "<div>\n",
       "<style scoped>\n",
       "    .dataframe tbody tr th:only-of-type {\n",
       "        vertical-align: middle;\n",
       "    }\n",
       "\n",
       "    .dataframe tbody tr th {\n",
       "        vertical-align: top;\n",
       "    }\n",
       "\n",
       "    .dataframe thead th {\n",
       "        text-align: right;\n",
       "    }\n",
       "</style>\n",
       "<table border=\"1\" class=\"dataframe\">\n",
       "  <thead>\n",
       "    <tr style=\"text-align: right;\">\n",
       "      <th></th>\n",
       "      <th>data1</th>\n",
       "    </tr>\n",
       "  </thead>\n",
       "  <tbody>\n",
       "    <tr>\n",
       "      <th>0</th>\n",
       "      <td>-1.462803</td>\n",
       "    </tr>\n",
       "    <tr>\n",
       "      <th>1</th>\n",
       "      <td>-0.808460</td>\n",
       "    </tr>\n",
       "    <tr>\n",
       "      <th>2</th>\n",
       "      <td>-0.513008</td>\n",
       "    </tr>\n",
       "    <tr>\n",
       "      <th>3</th>\n",
       "      <td>-0.802503</td>\n",
       "    </tr>\n",
       "    <tr>\n",
       "      <th>4</th>\n",
       "      <td>-0.890532</td>\n",
       "    </tr>\n",
       "    <tr>\n",
       "      <th>5</th>\n",
       "      <td>0.500000</td>\n",
       "    </tr>\n",
       "    <tr>\n",
       "      <th>6</th>\n",
       "      <td>NaN</td>\n",
       "    </tr>\n",
       "  </tbody>\n",
       "</table>\n",
       "</div>"
      ],
      "text/plain": [
       "      data1\n",
       "0 -1.462803\n",
       "1 -0.808460\n",
       "2 -0.513008\n",
       "3 -0.802503\n",
       "4 -0.890532\n",
       "5  0.500000\n",
       "6       NaN"
      ]
     },
     "execution_count": 104,
     "metadata": {},
     "output_type": "execute_result"
    }
   ],
   "source": [
    "df[['data1']]"
   ]
  },
  {
   "cell_type": "code",
   "execution_count": 106,
   "metadata": {},
   "outputs": [
    {
     "data": {
      "text/plain": [
       "pandas.core.frame.DataFrame"
      ]
     },
     "execution_count": 106,
     "metadata": {},
     "output_type": "execute_result"
    }
   ],
   "source": [
    "type(df[['data1']])"
   ]
  },
  {
   "cell_type": "code",
   "execution_count": 107,
   "metadata": {},
   "outputs": [
    {
     "data": {
      "text/html": [
       "<div>\n",
       "<style scoped>\n",
       "    .dataframe tbody tr th:only-of-type {\n",
       "        vertical-align: middle;\n",
       "    }\n",
       "\n",
       "    .dataframe tbody tr th {\n",
       "        vertical-align: top;\n",
       "    }\n",
       "\n",
       "    .dataframe thead th {\n",
       "        text-align: right;\n",
       "    }\n",
       "</style>\n",
       "<table border=\"1\" class=\"dataframe\">\n",
       "  <thead>\n",
       "    <tr style=\"text-align: right;\">\n",
       "      <th></th>\n",
       "      <th>data1</th>\n",
       "      <th>data2</th>\n",
       "    </tr>\n",
       "  </thead>\n",
       "  <tbody>\n",
       "    <tr>\n",
       "      <th>0</th>\n",
       "      <td>-1.462803</td>\n",
       "      <td>0.883681</td>\n",
       "    </tr>\n",
       "    <tr>\n",
       "      <th>1</th>\n",
       "      <td>-0.808460</td>\n",
       "      <td>-0.004502</td>\n",
       "    </tr>\n",
       "    <tr>\n",
       "      <th>2</th>\n",
       "      <td>-0.513008</td>\n",
       "      <td>2.192351</td>\n",
       "    </tr>\n",
       "    <tr>\n",
       "      <th>3</th>\n",
       "      <td>-0.802503</td>\n",
       "      <td>-0.354411</td>\n",
       "    </tr>\n",
       "    <tr>\n",
       "      <th>4</th>\n",
       "      <td>-0.890532</td>\n",
       "      <td>0.523126</td>\n",
       "    </tr>\n",
       "    <tr>\n",
       "      <th>5</th>\n",
       "      <td>0.500000</td>\n",
       "      <td>-0.100000</td>\n",
       "    </tr>\n",
       "    <tr>\n",
       "      <th>6</th>\n",
       "      <td>NaN</td>\n",
       "      <td>NaN</td>\n",
       "    </tr>\n",
       "  </tbody>\n",
       "</table>\n",
       "</div>"
      ],
      "text/plain": [
       "      data1     data2\n",
       "0 -1.462803  0.883681\n",
       "1 -0.808460 -0.004502\n",
       "2 -0.513008  2.192351\n",
       "3 -0.802503 -0.354411\n",
       "4 -0.890532  0.523126\n",
       "5  0.500000 -0.100000\n",
       "6       NaN       NaN"
      ]
     },
     "execution_count": 107,
     "metadata": {},
     "output_type": "execute_result"
    }
   ],
   "source": [
    "df[['data1','data2']]"
   ]
  },
  {
   "cell_type": "code",
   "execution_count": 108,
   "metadata": {},
   "outputs": [
    {
     "data": {
      "text/html": [
       "<div>\n",
       "<style scoped>\n",
       "    .dataframe tbody tr th:only-of-type {\n",
       "        vertical-align: middle;\n",
       "    }\n",
       "\n",
       "    .dataframe tbody tr th {\n",
       "        vertical-align: top;\n",
       "    }\n",
       "\n",
       "    .dataframe thead th {\n",
       "        text-align: right;\n",
       "    }\n",
       "</style>\n",
       "<table border=\"1\" class=\"dataframe\">\n",
       "  <thead>\n",
       "    <tr style=\"text-align: right;\">\n",
       "      <th></th>\n",
       "      <th></th>\n",
       "      <th>data2</th>\n",
       "    </tr>\n",
       "    <tr>\n",
       "      <th>key1</th>\n",
       "      <th>key2</th>\n",
       "      <th></th>\n",
       "    </tr>\n",
       "  </thead>\n",
       "  <tbody>\n",
       "    <tr>\n",
       "      <th rowspan=\"2\" valign=\"top\">a</th>\n",
       "      <th>one</th>\n",
       "      <td>0.703404</td>\n",
       "    </tr>\n",
       "    <tr>\n",
       "      <th>two</th>\n",
       "      <td>-0.004502</td>\n",
       "    </tr>\n",
       "    <tr>\n",
       "      <th rowspan=\"2\" valign=\"top\">b</th>\n",
       "      <th>one</th>\n",
       "      <td>2.192351</td>\n",
       "    </tr>\n",
       "    <tr>\n",
       "      <th>two</th>\n",
       "      <td>-0.354411</td>\n",
       "    </tr>\n",
       "  </tbody>\n",
       "</table>\n",
       "</div>"
      ],
      "text/plain": [
       "              data2\n",
       "key1 key2          \n",
       "a    one   0.703404\n",
       "     two  -0.004502\n",
       "b    one   2.192351\n",
       "     two  -0.354411"
      ]
     },
     "execution_count": 108,
     "metadata": {},
     "output_type": "execute_result"
    }
   ],
   "source": [
    "df.groupby(['key1', 'key2'])[['data2']].mean()"
   ]
  },
  {
   "cell_type": "code",
   "execution_count": 109,
   "metadata": {},
   "outputs": [
    {
     "data": {
      "text/plain": [
       "<pandas.core.groupby.groupby.DataFrameGroupBy object at 0x0000000008B34400>"
      ]
     },
     "execution_count": 109,
     "metadata": {},
     "output_type": "execute_result"
    }
   ],
   "source": [
    "df.groupby(['key1', 'key2'])[['data2']]"
   ]
  },
  {
   "cell_type": "code",
   "execution_count": 110,
   "metadata": {},
   "outputs": [
    {
     "data": {
      "text/plain": [
       "<pandas.core.groupby.groupby.SeriesGroupBy object at 0x0000000008B349B0>"
      ]
     },
     "execution_count": 110,
     "metadata": {},
     "output_type": "execute_result"
    }
   ],
   "source": [
    "df.groupby(['key1', 'key2'])['data2']"
   ]
  },
  {
   "cell_type": "code",
   "execution_count": 125,
   "metadata": {},
   "outputs": [
    {
     "data": {
      "text/plain": [
       "[(('a', 'one'), 0    0.883681\n",
       "  4    0.523126\n",
       "  Name: data2, dtype: float64), (('a', 'two'), 1   -0.004502\n",
       "  Name: data2, dtype: float64), (('b', 'one'), 2    2.192351\n",
       "  Name: data2, dtype: float64), (('b', 'two'), 3   -0.354411\n",
       "  6         NaN\n",
       "  Name: data2, dtype: float64)]"
      ]
     },
     "execution_count": 125,
     "metadata": {},
     "output_type": "execute_result"
    }
   ],
   "source": [
    "list(df.groupby(['key1', 'key2'])['data2'])"
   ]
  },
  {
   "cell_type": "code",
   "execution_count": 111,
   "metadata": {},
   "outputs": [
    {
     "data": {
      "text/plain": [
       "key1  key2\n",
       "a     one     0.703404\n",
       "      two    -0.004502\n",
       "b     one     2.192351\n",
       "      two    -0.354411\n",
       "Name: data2, dtype: float64"
      ]
     },
     "execution_count": 111,
     "metadata": {},
     "output_type": "execute_result"
    }
   ],
   "source": [
    "df.groupby(['key1', 'key2'])['data2'].mean()"
   ]
  },
  {
   "cell_type": "code",
   "execution_count": 112,
   "metadata": {},
   "outputs": [
    {
     "data": {
      "text/html": [
       "<div>\n",
       "<style scoped>\n",
       "    .dataframe tbody tr th:only-of-type {\n",
       "        vertical-align: middle;\n",
       "    }\n",
       "\n",
       "    .dataframe tbody tr th {\n",
       "        vertical-align: top;\n",
       "    }\n",
       "\n",
       "    .dataframe thead th {\n",
       "        text-align: right;\n",
       "    }\n",
       "</style>\n",
       "<table border=\"1\" class=\"dataframe\">\n",
       "  <thead>\n",
       "    <tr style=\"text-align: right;\">\n",
       "      <th></th>\n",
       "      <th></th>\n",
       "      <th>data2</th>\n",
       "    </tr>\n",
       "    <tr>\n",
       "      <th>key1</th>\n",
       "      <th>key2</th>\n",
       "      <th></th>\n",
       "    </tr>\n",
       "  </thead>\n",
       "  <tbody>\n",
       "    <tr>\n",
       "      <th rowspan=\"2\" valign=\"top\">a</th>\n",
       "      <th>one</th>\n",
       "      <td>0.703404</td>\n",
       "    </tr>\n",
       "    <tr>\n",
       "      <th>two</th>\n",
       "      <td>-0.004502</td>\n",
       "    </tr>\n",
       "    <tr>\n",
       "      <th rowspan=\"2\" valign=\"top\">b</th>\n",
       "      <th>one</th>\n",
       "      <td>2.192351</td>\n",
       "    </tr>\n",
       "    <tr>\n",
       "      <th>two</th>\n",
       "      <td>-0.354411</td>\n",
       "    </tr>\n",
       "  </tbody>\n",
       "</table>\n",
       "</div>"
      ],
      "text/plain": [
       "              data2\n",
       "key1 key2          \n",
       "a    one   0.703404\n",
       "     two  -0.004502\n",
       "b    one   2.192351\n",
       "     two  -0.354411"
      ]
     },
     "execution_count": 112,
     "metadata": {},
     "output_type": "execute_result"
    }
   ],
   "source": [
    "df.groupby(['key1', 'key2'])[['data2']].mean()"
   ]
  },
  {
   "cell_type": "code",
   "execution_count": 133,
   "metadata": {},
   "outputs": [],
   "source": [
    "#df[['data2']].groupby(df['key1','key2'])                 #会报错，"
   ]
  },
  {
   "cell_type": "code",
   "execution_count": 127,
   "metadata": {},
   "outputs": [],
   "source": [
    "#for name, group in df[['data2']].groupby(df['key1'],df['key2']):\n",
    "#    print(name)\n",
    "#    print(group)                                                #会报错，这样的格式不行"
   ]
  },
  {
   "cell_type": "code",
   "execution_count": 132,
   "metadata": {},
   "outputs": [],
   "source": [
    "#for name, group in df['data2'].groupby(df['key1','key2']):\n",
    "#    print(name)\n",
    "#    print(group)                                                #会报错，正确格式如下"
   ]
  },
  {
   "cell_type": "code",
   "execution_count": 126,
   "metadata": {},
   "outputs": [
    {
     "name": "stdout",
     "output_type": "stream",
     "text": [
      "('a', 'one')\n",
      "0    0.883681\n",
      "4    0.523126\n",
      "Name: data2, dtype: float64\n",
      "('a', 'two')\n",
      "1   -0.004502\n",
      "Name: data2, dtype: float64\n",
      "('b', 'one')\n",
      "2    2.192351\n",
      "Name: data2, dtype: float64\n",
      "('b', 'two')\n",
      "3   -0.354411\n",
      "6         NaN\n",
      "Name: data2, dtype: float64\n"
     ]
    }
   ],
   "source": [
    "for name, group in df.groupby(['key1', 'key2'])['data2']:\n",
    "    print(name)\n",
    "    print(group)"
   ]
  },
  {
   "cell_type": "code",
   "execution_count": 139,
   "metadata": {},
   "outputs": [
    {
     "name": "stdout",
     "output_type": "stream",
     "text": [
      "('a', 'one')\n",
      "  key1 key2     data1     data2  data3\n",
      "0    a  one -1.462803  0.883681    1.0\n",
      "4    a  one -0.890532  0.523126    5.0\n",
      "('a', 'two')\n",
      "  key1 key2    data1     data2  data3\n",
      "1    a  two -0.80846 -0.004502    2.0\n",
      "('b', 'one')\n",
      "  key1 key2     data1     data2  data3\n",
      "2    b  one -0.513008  2.192351    3.0\n",
      "('b', 'two')\n",
      "  key1 key2     data1     data2  data3\n",
      "3    b  two -0.802503 -0.354411    NaN\n",
      "6    b  two       NaN       NaN    7.0\n"
     ]
    }
   ],
   "source": [
    "for name,group in df.groupby(['key1','key2'])[['data2']]:\n",
    "    print(name)\n",
    "    print(group)                                                     #df.groupby [[]] 仍是全部"
   ]
  },
  {
   "cell_type": "code",
   "execution_count": 140,
   "metadata": {},
   "outputs": [
    {
     "name": "stdout",
     "output_type": "stream",
     "text": [
      "('a', 'one')\n",
      "  key1 key2     data1     data2  data3\n",
      "0    a  one -1.462803  0.883681    1.0\n",
      "4    a  one -0.890532  0.523126    5.0\n",
      "('a', 'two')\n",
      "  key1 key2    data1     data2  data3\n",
      "1    a  two -0.80846 -0.004502    2.0\n",
      "('b', 'one')\n",
      "  key1 key2     data1     data2  data3\n",
      "2    b  one -0.513008  2.192351    3.0\n",
      "('b', 'two')\n",
      "  key1 key2     data1     data2  data3\n",
      "3    b  two -0.802503 -0.354411    NaN\n",
      "6    b  two       NaN       NaN    7.0\n"
     ]
    }
   ],
   "source": [
    "for name,group in df.groupby(['key1','key2']):\n",
    "    print(name)\n",
    "    print(group)                                                    #结果和上述相同"
   ]
  },
  {
   "cell_type": "code",
   "execution_count": 141,
   "metadata": {},
   "outputs": [
    {
     "name": "stdout",
     "output_type": "stream",
     "text": [
      "a\n",
      "  key1 key2     data1     data2  data3\n",
      "0    a  one -1.462803  0.883681    1.0\n",
      "1    a  two -0.808460 -0.004502    2.0\n",
      "4    a  one -0.890532  0.523126    5.0\n",
      "5    a  NaN  0.500000 -0.100000    6.0\n",
      "b\n",
      "  key1 key2     data1     data2  data3\n",
      "2    b  one -0.513008  2.192351    3.0\n",
      "3    b  two -0.802503 -0.354411    NaN\n",
      "6    b  two       NaN       NaN    7.0\n"
     ]
    }
   ],
   "source": [
    "for name,group in df.groupby(df['key1']):\n",
    "    print(name)\n",
    "    print(group)"
   ]
  },
  {
   "cell_type": "markdown",
   "metadata": {},
   "source": [
    "#### 分组信息还可以有其他形式，如字典，Series"
   ]
  },
  {
   "cell_type": "code",
   "execution_count": 143,
   "metadata": {},
   "outputs": [
    {
     "data": {
      "text/html": [
       "<div>\n",
       "<style scoped>\n",
       "    .dataframe tbody tr th:only-of-type {\n",
       "        vertical-align: middle;\n",
       "    }\n",
       "\n",
       "    .dataframe tbody tr th {\n",
       "        vertical-align: top;\n",
       "    }\n",
       "\n",
       "    .dataframe thead th {\n",
       "        text-align: right;\n",
       "    }\n",
       "</style>\n",
       "<table border=\"1\" class=\"dataframe\">\n",
       "  <thead>\n",
       "    <tr style=\"text-align: right;\">\n",
       "      <th></th>\n",
       "      <th>a</th>\n",
       "      <th>b</th>\n",
       "      <th>c</th>\n",
       "      <th>d</th>\n",
       "      <th>e</th>\n",
       "    </tr>\n",
       "  </thead>\n",
       "  <tbody>\n",
       "    <tr>\n",
       "      <th>Joe</th>\n",
       "      <td>0.641611</td>\n",
       "      <td>-1.387059</td>\n",
       "      <td>0.269170</td>\n",
       "      <td>2.037908</td>\n",
       "      <td>-1.060853</td>\n",
       "    </tr>\n",
       "    <tr>\n",
       "      <th>Steve</th>\n",
       "      <td>0.208898</td>\n",
       "      <td>-0.011628</td>\n",
       "      <td>0.855887</td>\n",
       "      <td>0.115191</td>\n",
       "      <td>0.097580</td>\n",
       "    </tr>\n",
       "    <tr>\n",
       "      <th>Wes</th>\n",
       "      <td>-0.259493</td>\n",
       "      <td>-0.716924</td>\n",
       "      <td>-0.855932</td>\n",
       "      <td>0.177552</td>\n",
       "      <td>-0.055560</td>\n",
       "    </tr>\n",
       "    <tr>\n",
       "      <th>Jim</th>\n",
       "      <td>-1.017261</td>\n",
       "      <td>-0.617057</td>\n",
       "      <td>-0.473341</td>\n",
       "      <td>1.382048</td>\n",
       "      <td>0.024687</td>\n",
       "    </tr>\n",
       "    <tr>\n",
       "      <th>Travis</th>\n",
       "      <td>-1.582270</td>\n",
       "      <td>0.511792</td>\n",
       "      <td>0.975813</td>\n",
       "      <td>-2.359172</td>\n",
       "      <td>-1.556189</td>\n",
       "    </tr>\n",
       "  </tbody>\n",
       "</table>\n",
       "</div>"
      ],
      "text/plain": [
       "               a         b         c         d         e\n",
       "Joe     0.641611 -1.387059  0.269170  2.037908 -1.060853\n",
       "Steve   0.208898 -0.011628  0.855887  0.115191  0.097580\n",
       "Wes    -0.259493 -0.716924 -0.855932  0.177552 -0.055560\n",
       "Jim    -1.017261 -0.617057 -0.473341  1.382048  0.024687\n",
       "Travis -1.582270  0.511792  0.975813 -2.359172 -1.556189"
      ]
     },
     "execution_count": 143,
     "metadata": {},
     "output_type": "execute_result"
    }
   ],
   "source": [
    "people = pd.DataFrame(np.random.randn(5,5),\n",
    "                     columns=['a','b','c','d','e'],\n",
    "                     index=['Joe','Steve','Wes','Jim','Travis'])\n",
    "people"
   ]
  },
  {
   "cell_type": "code",
   "execution_count": 144,
   "metadata": {},
   "outputs": [
    {
     "data": {
      "text/html": [
       "<div>\n",
       "<style scoped>\n",
       "    .dataframe tbody tr th:only-of-type {\n",
       "        vertical-align: middle;\n",
       "    }\n",
       "\n",
       "    .dataframe tbody tr th {\n",
       "        vertical-align: top;\n",
       "    }\n",
       "\n",
       "    .dataframe thead th {\n",
       "        text-align: right;\n",
       "    }\n",
       "</style>\n",
       "<table border=\"1\" class=\"dataframe\">\n",
       "  <thead>\n",
       "    <tr style=\"text-align: right;\">\n",
       "      <th></th>\n",
       "      <th>a</th>\n",
       "      <th>b</th>\n",
       "      <th>c</th>\n",
       "      <th>d</th>\n",
       "      <th>e</th>\n",
       "    </tr>\n",
       "  </thead>\n",
       "  <tbody>\n",
       "    <tr>\n",
       "      <th>Joe</th>\n",
       "      <td>0.641611</td>\n",
       "      <td>-1.387059</td>\n",
       "      <td>0.269170</td>\n",
       "      <td>2.037908</td>\n",
       "      <td>-1.060853</td>\n",
       "    </tr>\n",
       "    <tr>\n",
       "      <th>Steve</th>\n",
       "      <td>0.208898</td>\n",
       "      <td>-0.011628</td>\n",
       "      <td>0.855887</td>\n",
       "      <td>0.115191</td>\n",
       "      <td>0.097580</td>\n",
       "    </tr>\n",
       "    <tr>\n",
       "      <th>Wes</th>\n",
       "      <td>-0.259493</td>\n",
       "      <td>NaN</td>\n",
       "      <td>NaN</td>\n",
       "      <td>0.177552</td>\n",
       "      <td>-0.055560</td>\n",
       "    </tr>\n",
       "    <tr>\n",
       "      <th>Jim</th>\n",
       "      <td>-1.017261</td>\n",
       "      <td>-0.617057</td>\n",
       "      <td>-0.473341</td>\n",
       "      <td>1.382048</td>\n",
       "      <td>0.024687</td>\n",
       "    </tr>\n",
       "    <tr>\n",
       "      <th>Travis</th>\n",
       "      <td>-1.582270</td>\n",
       "      <td>0.511792</td>\n",
       "      <td>0.975813</td>\n",
       "      <td>-2.359172</td>\n",
       "      <td>-1.556189</td>\n",
       "    </tr>\n",
       "  </tbody>\n",
       "</table>\n",
       "</div>"
      ],
      "text/plain": [
       "               a         b         c         d         e\n",
       "Joe     0.641611 -1.387059  0.269170  2.037908 -1.060853\n",
       "Steve   0.208898 -0.011628  0.855887  0.115191  0.097580\n",
       "Wes    -0.259493       NaN       NaN  0.177552 -0.055560\n",
       "Jim    -1.017261 -0.617057 -0.473341  1.382048  0.024687\n",
       "Travis -1.582270  0.511792  0.975813 -2.359172 -1.556189"
      ]
     },
     "execution_count": 144,
     "metadata": {},
     "output_type": "execute_result"
    }
   ],
   "source": [
    "people.iloc[2:3, [1,2]] = np.nan         # Add a few NA values\n",
    "people"
   ]
  },
  {
   "cell_type": "code",
   "execution_count": 145,
   "metadata": {},
   "outputs": [
    {
     "data": {
      "text/plain": [
       "<pandas.core.groupby.groupby.DataFrameGroupBy object at 0x0000000008B34668>"
      ]
     },
     "execution_count": 145,
     "metadata": {},
     "output_type": "execute_result"
    }
   ],
   "source": [
    "mapping = {'a':'red', 'b':'red', 'c':'blue', 'd':'blue', 'e':'red', 'f':'orange'}\n",
    "\n",
    "by_column = people.groupby(mapping, axis=1)                          # 可以传递字典，存在未使用的键也可以\n",
    "by_column"
   ]
  },
  {
   "cell_type": "code",
   "execution_count": 146,
   "metadata": {},
   "outputs": [
    {
     "data": {
      "text/html": [
       "<div>\n",
       "<style scoped>\n",
       "    .dataframe tbody tr th:only-of-type {\n",
       "        vertical-align: middle;\n",
       "    }\n",
       "\n",
       "    .dataframe tbody tr th {\n",
       "        vertical-align: top;\n",
       "    }\n",
       "\n",
       "    .dataframe thead th {\n",
       "        text-align: right;\n",
       "    }\n",
       "</style>\n",
       "<table border=\"1\" class=\"dataframe\">\n",
       "  <thead>\n",
       "    <tr style=\"text-align: right;\">\n",
       "      <th></th>\n",
       "      <th>blue</th>\n",
       "      <th>red</th>\n",
       "    </tr>\n",
       "  </thead>\n",
       "  <tbody>\n",
       "    <tr>\n",
       "      <th>Joe</th>\n",
       "      <td>2.307078</td>\n",
       "      <td>-1.806300</td>\n",
       "    </tr>\n",
       "    <tr>\n",
       "      <th>Steve</th>\n",
       "      <td>0.971078</td>\n",
       "      <td>0.294850</td>\n",
       "    </tr>\n",
       "    <tr>\n",
       "      <th>Wes</th>\n",
       "      <td>0.177552</td>\n",
       "      <td>-0.315054</td>\n",
       "    </tr>\n",
       "    <tr>\n",
       "      <th>Jim</th>\n",
       "      <td>0.908707</td>\n",
       "      <td>-1.609632</td>\n",
       "    </tr>\n",
       "    <tr>\n",
       "      <th>Travis</th>\n",
       "      <td>-1.383358</td>\n",
       "      <td>-2.626668</td>\n",
       "    </tr>\n",
       "  </tbody>\n",
       "</table>\n",
       "</div>"
      ],
      "text/plain": [
       "            blue       red\n",
       "Joe     2.307078 -1.806300\n",
       "Steve   0.971078  0.294850\n",
       "Wes     0.177552 -0.315054\n",
       "Jim     0.908707 -1.609632\n",
       "Travis -1.383358 -2.626668"
      ]
     },
     "execution_count": 146,
     "metadata": {},
     "output_type": "execute_result"
    }
   ],
   "source": [
    "by_column.sum()"
   ]
  },
  {
   "cell_type": "code",
   "execution_count": 147,
   "metadata": {},
   "outputs": [
    {
     "data": {
      "text/plain": [
       "a       red\n",
       "b       red\n",
       "c      blue\n",
       "d      blue\n",
       "e       red\n",
       "f    orange\n",
       "dtype: object"
      ]
     },
     "execution_count": 147,
     "metadata": {},
     "output_type": "execute_result"
    }
   ],
   "source": [
    "map_series = pd.Series(mapping)                         #  将字典转为 Series格式\n",
    "map_series"
   ]
  },
  {
   "cell_type": "code",
   "execution_count": 148,
   "metadata": {},
   "outputs": [],
   "source": [
    "map_dataframe = pd.DataFrame(map_series,columns=['x'])   #   将Series格式转为dataframe格式"
   ]
  },
  {
   "cell_type": "code",
   "execution_count": 149,
   "metadata": {},
   "outputs": [
    {
     "data": {
      "text/html": [
       "<div>\n",
       "<style scoped>\n",
       "    .dataframe tbody tr th:only-of-type {\n",
       "        vertical-align: middle;\n",
       "    }\n",
       "\n",
       "    .dataframe tbody tr th {\n",
       "        vertical-align: top;\n",
       "    }\n",
       "\n",
       "    .dataframe thead th {\n",
       "        text-align: right;\n",
       "    }\n",
       "</style>\n",
       "<table border=\"1\" class=\"dataframe\">\n",
       "  <thead>\n",
       "    <tr style=\"text-align: right;\">\n",
       "      <th></th>\n",
       "      <th>x</th>\n",
       "    </tr>\n",
       "  </thead>\n",
       "  <tbody>\n",
       "    <tr>\n",
       "      <th>a</th>\n",
       "      <td>red</td>\n",
       "    </tr>\n",
       "    <tr>\n",
       "      <th>b</th>\n",
       "      <td>red</td>\n",
       "    </tr>\n",
       "    <tr>\n",
       "      <th>c</th>\n",
       "      <td>blue</td>\n",
       "    </tr>\n",
       "    <tr>\n",
       "      <th>d</th>\n",
       "      <td>blue</td>\n",
       "    </tr>\n",
       "    <tr>\n",
       "      <th>e</th>\n",
       "      <td>red</td>\n",
       "    </tr>\n",
       "    <tr>\n",
       "      <th>f</th>\n",
       "      <td>orange</td>\n",
       "    </tr>\n",
       "  </tbody>\n",
       "</table>\n",
       "</div>"
      ],
      "text/plain": [
       "        x\n",
       "a     red\n",
       "b     red\n",
       "c    blue\n",
       "d    blue\n",
       "e     red\n",
       "f  orange"
      ]
     },
     "execution_count": 149,
     "metadata": {},
     "output_type": "execute_result"
    }
   ],
   "source": [
    "map_dataframe"
   ]
  },
  {
   "cell_type": "code",
   "execution_count": 150,
   "metadata": {},
   "outputs": [],
   "source": [
    "map_dataframe = pd.DataFrame(mapping,index=['x'])        #    将字典转为dataframe格式，(字典键代表columns)"
   ]
  },
  {
   "cell_type": "code",
   "execution_count": 151,
   "metadata": {},
   "outputs": [
    {
     "data": {
      "text/html": [
       "<div>\n",
       "<style scoped>\n",
       "    .dataframe tbody tr th:only-of-type {\n",
       "        vertical-align: middle;\n",
       "    }\n",
       "\n",
       "    .dataframe tbody tr th {\n",
       "        vertical-align: top;\n",
       "    }\n",
       "\n",
       "    .dataframe thead th {\n",
       "        text-align: right;\n",
       "    }\n",
       "</style>\n",
       "<table border=\"1\" class=\"dataframe\">\n",
       "  <thead>\n",
       "    <tr style=\"text-align: right;\">\n",
       "      <th></th>\n",
       "      <th>a</th>\n",
       "      <th>b</th>\n",
       "      <th>c</th>\n",
       "      <th>d</th>\n",
       "      <th>e</th>\n",
       "      <th>f</th>\n",
       "    </tr>\n",
       "  </thead>\n",
       "  <tbody>\n",
       "    <tr>\n",
       "      <th>x</th>\n",
       "      <td>red</td>\n",
       "      <td>red</td>\n",
       "      <td>blue</td>\n",
       "      <td>blue</td>\n",
       "      <td>red</td>\n",
       "      <td>orange</td>\n",
       "    </tr>\n",
       "  </tbody>\n",
       "</table>\n",
       "</div>"
      ],
      "text/plain": [
       "     a    b     c     d    e       f\n",
       "x  red  red  blue  blue  red  orange"
      ]
     },
     "execution_count": 151,
     "metadata": {},
     "output_type": "execute_result"
    }
   ],
   "source": [
    "map_dataframe"
   ]
  },
  {
   "cell_type": "code",
   "execution_count": 152,
   "metadata": {},
   "outputs": [
    {
     "data": {
      "text/plain": [
       "blue    2\n",
       "red     3\n",
       "dtype: int64"
      ]
     },
     "execution_count": 152,
     "metadata": {},
     "output_type": "execute_result"
    }
   ],
   "source": [
    "people.groupby(map_series, axis=1).size()"
   ]
  },
  {
   "cell_type": "code",
   "execution_count": 153,
   "metadata": {},
   "outputs": [
    {
     "data": {
      "text/html": [
       "<div>\n",
       "<style scoped>\n",
       "    .dataframe tbody tr th:only-of-type {\n",
       "        vertical-align: middle;\n",
       "    }\n",
       "\n",
       "    .dataframe tbody tr th {\n",
       "        vertical-align: top;\n",
       "    }\n",
       "\n",
       "    .dataframe thead th {\n",
       "        text-align: right;\n",
       "    }\n",
       "</style>\n",
       "<table border=\"1\" class=\"dataframe\">\n",
       "  <thead>\n",
       "    <tr style=\"text-align: right;\">\n",
       "      <th></th>\n",
       "      <th>blue</th>\n",
       "      <th>red</th>\n",
       "    </tr>\n",
       "  </thead>\n",
       "  <tbody>\n",
       "    <tr>\n",
       "      <th>Joe</th>\n",
       "      <td>2</td>\n",
       "      <td>3</td>\n",
       "    </tr>\n",
       "    <tr>\n",
       "      <th>Steve</th>\n",
       "      <td>2</td>\n",
       "      <td>3</td>\n",
       "    </tr>\n",
       "    <tr>\n",
       "      <th>Wes</th>\n",
       "      <td>1</td>\n",
       "      <td>2</td>\n",
       "    </tr>\n",
       "    <tr>\n",
       "      <th>Jim</th>\n",
       "      <td>2</td>\n",
       "      <td>3</td>\n",
       "    </tr>\n",
       "    <tr>\n",
       "      <th>Travis</th>\n",
       "      <td>2</td>\n",
       "      <td>3</td>\n",
       "    </tr>\n",
       "  </tbody>\n",
       "</table>\n",
       "</div>"
      ],
      "text/plain": [
       "        blue  red\n",
       "Joe        2    3\n",
       "Steve      2    3\n",
       "Wes        1    2\n",
       "Jim        2    3\n",
       "Travis     2    3"
      ]
     },
     "execution_count": 153,
     "metadata": {},
     "output_type": "execute_result"
    }
   ],
   "source": [
    "people.groupby(map_series, axis=1).count()                  #根据分组计算列的和"
   ]
  },
  {
   "cell_type": "markdown",
   "metadata": {},
   "source": [
    "#### 通过函数进行分组"
   ]
  },
  {
   "cell_type": "code",
   "execution_count": 154,
   "metadata": {},
   "outputs": [
    {
     "data": {
      "text/html": [
       "<div>\n",
       "<style scoped>\n",
       "    .dataframe tbody tr th:only-of-type {\n",
       "        vertical-align: middle;\n",
       "    }\n",
       "\n",
       "    .dataframe tbody tr th {\n",
       "        vertical-align: top;\n",
       "    }\n",
       "\n",
       "    .dataframe thead th {\n",
       "        text-align: right;\n",
       "    }\n",
       "</style>\n",
       "<table border=\"1\" class=\"dataframe\">\n",
       "  <thead>\n",
       "    <tr style=\"text-align: right;\">\n",
       "      <th></th>\n",
       "      <th>a</th>\n",
       "      <th>b</th>\n",
       "      <th>c</th>\n",
       "      <th>d</th>\n",
       "      <th>e</th>\n",
       "    </tr>\n",
       "  </thead>\n",
       "  <tbody>\n",
       "    <tr>\n",
       "      <th>Joe</th>\n",
       "      <td>0.641611</td>\n",
       "      <td>-1.387059</td>\n",
       "      <td>0.269170</td>\n",
       "      <td>2.037908</td>\n",
       "      <td>-1.060853</td>\n",
       "    </tr>\n",
       "    <tr>\n",
       "      <th>Steve</th>\n",
       "      <td>0.208898</td>\n",
       "      <td>-0.011628</td>\n",
       "      <td>0.855887</td>\n",
       "      <td>0.115191</td>\n",
       "      <td>0.097580</td>\n",
       "    </tr>\n",
       "    <tr>\n",
       "      <th>Wes</th>\n",
       "      <td>-0.259493</td>\n",
       "      <td>NaN</td>\n",
       "      <td>NaN</td>\n",
       "      <td>0.177552</td>\n",
       "      <td>-0.055560</td>\n",
       "    </tr>\n",
       "    <tr>\n",
       "      <th>Jim</th>\n",
       "      <td>-1.017261</td>\n",
       "      <td>-0.617057</td>\n",
       "      <td>-0.473341</td>\n",
       "      <td>1.382048</td>\n",
       "      <td>0.024687</td>\n",
       "    </tr>\n",
       "    <tr>\n",
       "      <th>Travis</th>\n",
       "      <td>-1.582270</td>\n",
       "      <td>0.511792</td>\n",
       "      <td>0.975813</td>\n",
       "      <td>-2.359172</td>\n",
       "      <td>-1.556189</td>\n",
       "    </tr>\n",
       "  </tbody>\n",
       "</table>\n",
       "</div>"
      ],
      "text/plain": [
       "               a         b         c         d         e\n",
       "Joe     0.641611 -1.387059  0.269170  2.037908 -1.060853\n",
       "Steve   0.208898 -0.011628  0.855887  0.115191  0.097580\n",
       "Wes    -0.259493       NaN       NaN  0.177552 -0.055560\n",
       "Jim    -1.017261 -0.617057 -0.473341  1.382048  0.024687\n",
       "Travis -1.582270  0.511792  0.975813 -2.359172 -1.556189"
      ]
     },
     "execution_count": 154,
     "metadata": {},
     "output_type": "execute_result"
    }
   ],
   "source": [
    "people"
   ]
  },
  {
   "cell_type": "code",
   "execution_count": 155,
   "metadata": {},
   "outputs": [
    {
     "data": {
      "text/html": [
       "<div>\n",
       "<style scoped>\n",
       "    .dataframe tbody tr th:only-of-type {\n",
       "        vertical-align: middle;\n",
       "    }\n",
       "\n",
       "    .dataframe tbody tr th {\n",
       "        vertical-align: top;\n",
       "    }\n",
       "\n",
       "    .dataframe thead th {\n",
       "        text-align: right;\n",
       "    }\n",
       "</style>\n",
       "<table border=\"1\" class=\"dataframe\">\n",
       "  <thead>\n",
       "    <tr style=\"text-align: right;\">\n",
       "      <th></th>\n",
       "      <th>a</th>\n",
       "      <th>b</th>\n",
       "      <th>c</th>\n",
       "      <th>d</th>\n",
       "      <th>e</th>\n",
       "    </tr>\n",
       "  </thead>\n",
       "  <tbody>\n",
       "    <tr>\n",
       "      <th>3</th>\n",
       "      <td>-0.635143</td>\n",
       "      <td>-2.004116</td>\n",
       "      <td>-0.204171</td>\n",
       "      <td>3.597509</td>\n",
       "      <td>-1.091727</td>\n",
       "    </tr>\n",
       "    <tr>\n",
       "      <th>5</th>\n",
       "      <td>0.208898</td>\n",
       "      <td>-0.011628</td>\n",
       "      <td>0.855887</td>\n",
       "      <td>0.115191</td>\n",
       "      <td>0.097580</td>\n",
       "    </tr>\n",
       "    <tr>\n",
       "      <th>6</th>\n",
       "      <td>-1.582270</td>\n",
       "      <td>0.511792</td>\n",
       "      <td>0.975813</td>\n",
       "      <td>-2.359172</td>\n",
       "      <td>-1.556189</td>\n",
       "    </tr>\n",
       "  </tbody>\n",
       "</table>\n",
       "</div>"
      ],
      "text/plain": [
       "          a         b         c         d         e\n",
       "3 -0.635143 -2.004116 -0.204171  3.597509 -1.091727\n",
       "5  0.208898 -0.011628  0.855887  0.115191  0.097580\n",
       "6 -1.582270  0.511792  0.975813 -2.359172 -1.556189"
      ]
     },
     "execution_count": 155,
     "metadata": {},
     "output_type": "execute_result"
    }
   ],
   "source": [
    "people.groupby(len).sum()          #任何可以被当做分组键的函数都会在各个索引值上被调用一次，\n",
    "                                   #其返回值被用作分组名称"
   ]
  },
  {
   "cell_type": "markdown",
   "metadata": {},
   "source": [
    "#### 将函数跟数组、列表、字典、Series混合使用，因为任何东西在内部都会转换为数组"
   ]
  },
  {
   "cell_type": "code",
   "execution_count": 156,
   "metadata": {},
   "outputs": [
    {
     "data": {
      "text/html": [
       "<div>\n",
       "<style scoped>\n",
       "    .dataframe tbody tr th:only-of-type {\n",
       "        vertical-align: middle;\n",
       "    }\n",
       "\n",
       "    .dataframe tbody tr th {\n",
       "        vertical-align: top;\n",
       "    }\n",
       "\n",
       "    .dataframe thead th {\n",
       "        text-align: right;\n",
       "    }\n",
       "</style>\n",
       "<table border=\"1\" class=\"dataframe\">\n",
       "  <thead>\n",
       "    <tr style=\"text-align: right;\">\n",
       "      <th></th>\n",
       "      <th></th>\n",
       "      <th>a</th>\n",
       "      <th>b</th>\n",
       "      <th>c</th>\n",
       "      <th>d</th>\n",
       "      <th>e</th>\n",
       "    </tr>\n",
       "  </thead>\n",
       "  <tbody>\n",
       "    <tr>\n",
       "      <th rowspan=\"2\" valign=\"top\">3</th>\n",
       "      <th>one</th>\n",
       "      <td>-0.259493</td>\n",
       "      <td>-1.387059</td>\n",
       "      <td>0.269170</td>\n",
       "      <td>0.177552</td>\n",
       "      <td>-1.060853</td>\n",
       "    </tr>\n",
       "    <tr>\n",
       "      <th>two</th>\n",
       "      <td>-1.017261</td>\n",
       "      <td>-0.617057</td>\n",
       "      <td>-0.473341</td>\n",
       "      <td>1.382048</td>\n",
       "      <td>0.024687</td>\n",
       "    </tr>\n",
       "    <tr>\n",
       "      <th>5</th>\n",
       "      <th>one</th>\n",
       "      <td>0.208898</td>\n",
       "      <td>-0.011628</td>\n",
       "      <td>0.855887</td>\n",
       "      <td>0.115191</td>\n",
       "      <td>0.097580</td>\n",
       "    </tr>\n",
       "    <tr>\n",
       "      <th>6</th>\n",
       "      <th>two</th>\n",
       "      <td>-1.582270</td>\n",
       "      <td>0.511792</td>\n",
       "      <td>0.975813</td>\n",
       "      <td>-2.359172</td>\n",
       "      <td>-1.556189</td>\n",
       "    </tr>\n",
       "  </tbody>\n",
       "</table>\n",
       "</div>"
      ],
      "text/plain": [
       "              a         b         c         d         e\n",
       "3 one -0.259493 -1.387059  0.269170  0.177552 -1.060853\n",
       "  two -1.017261 -0.617057 -0.473341  1.382048  0.024687\n",
       "5 one  0.208898 -0.011628  0.855887  0.115191  0.097580\n",
       "6 two -1.582270  0.511792  0.975813 -2.359172 -1.556189"
      ]
     },
     "execution_count": 156,
     "metadata": {},
     "output_type": "execute_result"
    }
   ],
   "source": [
    "key_list = ['one', 'one', 'one', 'two', 'two']\n",
    "people.groupby([len, key_list]).min()"
   ]
  },
  {
   "cell_type": "markdown",
   "metadata": {},
   "source": [
    "#### 根据索引级别分组"
   ]
  },
  {
   "cell_type": "code",
   "execution_count": 157,
   "metadata": {},
   "outputs": [],
   "source": [
    "columns = pd.MultiIndex.from_arrays([['US','US','US','JP','JP'],\n",
    "                                    [1,3,5,1,3]],\n",
    "                                   names=['cty', 'tenor'])\n",
    "hie_df = pd.DataFrame(np.random.randn(4, 5), columns=columns)           #层次化索引"
   ]
  },
  {
   "cell_type": "code",
   "execution_count": 158,
   "metadata": {},
   "outputs": [
    {
     "data": {
      "text/plain": [
       "MultiIndex(levels=[['JP', 'US'], [1, 3, 5]],\n",
       "           labels=[[1, 1, 1, 0, 0], [0, 1, 2, 0, 1]],\n",
       "           names=['cty', 'tenor'])"
      ]
     },
     "execution_count": 158,
     "metadata": {},
     "output_type": "execute_result"
    }
   ],
   "source": [
    "columns"
   ]
  },
  {
   "cell_type": "code",
   "execution_count": 159,
   "metadata": {},
   "outputs": [
    {
     "data": {
      "text/html": [
       "<div>\n",
       "<style scoped>\n",
       "    .dataframe tbody tr th:only-of-type {\n",
       "        vertical-align: middle;\n",
       "    }\n",
       "\n",
       "    .dataframe tbody tr th {\n",
       "        vertical-align: top;\n",
       "    }\n",
       "\n",
       "    .dataframe thead tr th {\n",
       "        text-align: left;\n",
       "    }\n",
       "</style>\n",
       "<table border=\"1\" class=\"dataframe\">\n",
       "  <thead>\n",
       "    <tr>\n",
       "      <th>cty</th>\n",
       "      <th colspan=\"3\" halign=\"left\">US</th>\n",
       "      <th colspan=\"2\" halign=\"left\">JP</th>\n",
       "    </tr>\n",
       "    <tr>\n",
       "      <th>tenor</th>\n",
       "      <th>1</th>\n",
       "      <th>3</th>\n",
       "      <th>5</th>\n",
       "      <th>1</th>\n",
       "      <th>3</th>\n",
       "    </tr>\n",
       "  </thead>\n",
       "  <tbody>\n",
       "    <tr>\n",
       "      <th>0</th>\n",
       "      <td>-0.224902</td>\n",
       "      <td>-0.513145</td>\n",
       "      <td>0.643900</td>\n",
       "      <td>1.265597</td>\n",
       "      <td>-1.050073</td>\n",
       "    </tr>\n",
       "    <tr>\n",
       "      <th>1</th>\n",
       "      <td>-1.173570</td>\n",
       "      <td>-0.457740</td>\n",
       "      <td>0.748011</td>\n",
       "      <td>0.442830</td>\n",
       "      <td>-0.091790</td>\n",
       "    </tr>\n",
       "    <tr>\n",
       "      <th>2</th>\n",
       "      <td>1.120185</td>\n",
       "      <td>1.442908</td>\n",
       "      <td>-0.097429</td>\n",
       "      <td>-0.341307</td>\n",
       "      <td>0.824177</td>\n",
       "    </tr>\n",
       "    <tr>\n",
       "      <th>3</th>\n",
       "      <td>0.267085</td>\n",
       "      <td>0.178007</td>\n",
       "      <td>0.848530</td>\n",
       "      <td>1.997440</td>\n",
       "      <td>-0.457088</td>\n",
       "    </tr>\n",
       "  </tbody>\n",
       "</table>\n",
       "</div>"
      ],
      "text/plain": [
       "cty          US                            JP          \n",
       "tenor         1         3         5         1         3\n",
       "0     -0.224902 -0.513145  0.643900  1.265597 -1.050073\n",
       "1     -1.173570 -0.457740  0.748011  0.442830 -0.091790\n",
       "2      1.120185  1.442908 -0.097429 -0.341307  0.824177\n",
       "3      0.267085  0.178007  0.848530  1.997440 -0.457088"
      ]
     },
     "execution_count": 159,
     "metadata": {},
     "output_type": "execute_result"
    }
   ],
   "source": [
    "hie_df"
   ]
  },
  {
   "cell_type": "code",
   "execution_count": 160,
   "metadata": {},
   "outputs": [],
   "source": [
    "hie = pd.DataFrame(np.random.randn(5,5), index=columns)       #自创:  假如是双重索引"
   ]
  },
  {
   "cell_type": "code",
   "execution_count": 161,
   "metadata": {},
   "outputs": [
    {
     "data": {
      "text/html": [
       "<div>\n",
       "<style scoped>\n",
       "    .dataframe tbody tr th:only-of-type {\n",
       "        vertical-align: middle;\n",
       "    }\n",
       "\n",
       "    .dataframe tbody tr th {\n",
       "        vertical-align: top;\n",
       "    }\n",
       "\n",
       "    .dataframe thead th {\n",
       "        text-align: right;\n",
       "    }\n",
       "</style>\n",
       "<table border=\"1\" class=\"dataframe\">\n",
       "  <thead>\n",
       "    <tr style=\"text-align: right;\">\n",
       "      <th></th>\n",
       "      <th></th>\n",
       "      <th>0</th>\n",
       "      <th>1</th>\n",
       "      <th>2</th>\n",
       "      <th>3</th>\n",
       "      <th>4</th>\n",
       "    </tr>\n",
       "    <tr>\n",
       "      <th>cty</th>\n",
       "      <th>tenor</th>\n",
       "      <th></th>\n",
       "      <th></th>\n",
       "      <th></th>\n",
       "      <th></th>\n",
       "      <th></th>\n",
       "    </tr>\n",
       "  </thead>\n",
       "  <tbody>\n",
       "    <tr>\n",
       "      <th rowspan=\"3\" valign=\"top\">US</th>\n",
       "      <th>1</th>\n",
       "      <td>-0.194764</td>\n",
       "      <td>-2.037661</td>\n",
       "      <td>-1.643589</td>\n",
       "      <td>1.028631</td>\n",
       "      <td>-0.633350</td>\n",
       "    </tr>\n",
       "    <tr>\n",
       "      <th>3</th>\n",
       "      <td>-0.795026</td>\n",
       "      <td>-2.106622</td>\n",
       "      <td>1.948829</td>\n",
       "      <td>1.863870</td>\n",
       "      <td>-0.186847</td>\n",
       "    </tr>\n",
       "    <tr>\n",
       "      <th>5</th>\n",
       "      <td>0.975338</td>\n",
       "      <td>0.825989</td>\n",
       "      <td>-0.799466</td>\n",
       "      <td>-1.430403</td>\n",
       "      <td>0.936126</td>\n",
       "    </tr>\n",
       "    <tr>\n",
       "      <th rowspan=\"2\" valign=\"top\">JP</th>\n",
       "      <th>1</th>\n",
       "      <td>0.225979</td>\n",
       "      <td>-0.622841</td>\n",
       "      <td>-0.577676</td>\n",
       "      <td>-0.262036</td>\n",
       "      <td>2.664045</td>\n",
       "    </tr>\n",
       "    <tr>\n",
       "      <th>3</th>\n",
       "      <td>0.678737</td>\n",
       "      <td>0.082429</td>\n",
       "      <td>-0.122133</td>\n",
       "      <td>-0.170305</td>\n",
       "      <td>0.181294</td>\n",
       "    </tr>\n",
       "  </tbody>\n",
       "</table>\n",
       "</div>"
      ],
      "text/plain": [
       "                  0         1         2         3         4\n",
       "cty tenor                                                  \n",
       "US  1     -0.194764 -2.037661 -1.643589  1.028631 -0.633350\n",
       "    3     -0.795026 -2.106622  1.948829  1.863870 -0.186847\n",
       "    5      0.975338  0.825989 -0.799466 -1.430403  0.936126\n",
       "JP  1      0.225979 -0.622841 -0.577676 -0.262036  2.664045\n",
       "    3      0.678737  0.082429 -0.122133 -0.170305  0.181294"
      ]
     },
     "execution_count": 161,
     "metadata": {},
     "output_type": "execute_result"
    }
   ],
   "source": [
    "hie"
   ]
  },
  {
   "cell_type": "code",
   "execution_count": 162,
   "metadata": {},
   "outputs": [
    {
     "data": {
      "text/html": [
       "<div>\n",
       "<style scoped>\n",
       "    .dataframe tbody tr th:only-of-type {\n",
       "        vertical-align: middle;\n",
       "    }\n",
       "\n",
       "    .dataframe tbody tr th {\n",
       "        vertical-align: top;\n",
       "    }\n",
       "\n",
       "    .dataframe thead th {\n",
       "        text-align: right;\n",
       "    }\n",
       "</style>\n",
       "<table border=\"1\" class=\"dataframe\">\n",
       "  <thead>\n",
       "    <tr style=\"text-align: right;\">\n",
       "      <th>cty</th>\n",
       "      <th>JP</th>\n",
       "      <th>US</th>\n",
       "    </tr>\n",
       "  </thead>\n",
       "  <tbody>\n",
       "    <tr>\n",
       "      <th>0</th>\n",
       "      <td>2</td>\n",
       "      <td>3</td>\n",
       "    </tr>\n",
       "    <tr>\n",
       "      <th>1</th>\n",
       "      <td>2</td>\n",
       "      <td>3</td>\n",
       "    </tr>\n",
       "    <tr>\n",
       "      <th>2</th>\n",
       "      <td>2</td>\n",
       "      <td>3</td>\n",
       "    </tr>\n",
       "    <tr>\n",
       "      <th>3</th>\n",
       "      <td>2</td>\n",
       "      <td>3</td>\n",
       "    </tr>\n",
       "  </tbody>\n",
       "</table>\n",
       "</div>"
      ],
      "text/plain": [
       "cty  JP  US\n",
       "0     2   3\n",
       "1     2   3\n",
       "2     2   3\n",
       "3     2   3"
      ]
     },
     "execution_count": 162,
     "metadata": {},
     "output_type": "execute_result"
    }
   ],
   "source": [
    "hie_df.groupby(level='cty', axis=1).count()                #用level关键字传递级别序号或名字"
   ]
  },
  {
   "cell_type": "markdown",
   "metadata": {},
   "source": [
    "## 数据聚合"
   ]
  },
  {
   "cell_type": "markdown",
   "metadata": {},
   "source": [
    "##### quantile是Series方法，计算Series或DataFrame列的样本分位数"
   ]
  },
  {
   "cell_type": "code",
   "execution_count": 163,
   "metadata": {},
   "outputs": [
    {
     "data": {
      "text/html": [
       "<div>\n",
       "<style scoped>\n",
       "    .dataframe tbody tr th:only-of-type {\n",
       "        vertical-align: middle;\n",
       "    }\n",
       "\n",
       "    .dataframe tbody tr th {\n",
       "        vertical-align: top;\n",
       "    }\n",
       "\n",
       "    .dataframe thead th {\n",
       "        text-align: right;\n",
       "    }\n",
       "</style>\n",
       "<table border=\"1\" class=\"dataframe\">\n",
       "  <thead>\n",
       "    <tr style=\"text-align: right;\">\n",
       "      <th></th>\n",
       "      <th>key1</th>\n",
       "      <th>key2</th>\n",
       "      <th>data1</th>\n",
       "      <th>data2</th>\n",
       "      <th>data3</th>\n",
       "    </tr>\n",
       "  </thead>\n",
       "  <tbody>\n",
       "    <tr>\n",
       "      <th>0</th>\n",
       "      <td>a</td>\n",
       "      <td>one</td>\n",
       "      <td>-1.462803</td>\n",
       "      <td>0.883681</td>\n",
       "      <td>1.0</td>\n",
       "    </tr>\n",
       "    <tr>\n",
       "      <th>1</th>\n",
       "      <td>a</td>\n",
       "      <td>two</td>\n",
       "      <td>-0.808460</td>\n",
       "      <td>-0.004502</td>\n",
       "      <td>2.0</td>\n",
       "    </tr>\n",
       "    <tr>\n",
       "      <th>2</th>\n",
       "      <td>b</td>\n",
       "      <td>one</td>\n",
       "      <td>-0.513008</td>\n",
       "      <td>2.192351</td>\n",
       "      <td>3.0</td>\n",
       "    </tr>\n",
       "    <tr>\n",
       "      <th>3</th>\n",
       "      <td>b</td>\n",
       "      <td>two</td>\n",
       "      <td>-0.802503</td>\n",
       "      <td>-0.354411</td>\n",
       "      <td>NaN</td>\n",
       "    </tr>\n",
       "    <tr>\n",
       "      <th>4</th>\n",
       "      <td>a</td>\n",
       "      <td>one</td>\n",
       "      <td>-0.890532</td>\n",
       "      <td>0.523126</td>\n",
       "      <td>5.0</td>\n",
       "    </tr>\n",
       "    <tr>\n",
       "      <th>5</th>\n",
       "      <td>a</td>\n",
       "      <td>NaN</td>\n",
       "      <td>0.500000</td>\n",
       "      <td>-0.100000</td>\n",
       "      <td>6.0</td>\n",
       "    </tr>\n",
       "    <tr>\n",
       "      <th>6</th>\n",
       "      <td>b</td>\n",
       "      <td>two</td>\n",
       "      <td>NaN</td>\n",
       "      <td>NaN</td>\n",
       "      <td>7.0</td>\n",
       "    </tr>\n",
       "  </tbody>\n",
       "</table>\n",
       "</div>"
      ],
      "text/plain": [
       "  key1 key2     data1     data2  data3\n",
       "0    a  one -1.462803  0.883681    1.0\n",
       "1    a  two -0.808460 -0.004502    2.0\n",
       "2    b  one -0.513008  2.192351    3.0\n",
       "3    b  two -0.802503 -0.354411    NaN\n",
       "4    a  one -0.890532  0.523126    5.0\n",
       "5    a  NaN  0.500000 -0.100000    6.0\n",
       "6    b  two       NaN       NaN    7.0"
      ]
     },
     "execution_count": 163,
     "metadata": {},
     "output_type": "execute_result"
    }
   ],
   "source": [
    "df"
   ]
  },
  {
   "cell_type": "code",
   "execution_count": 181,
   "metadata": {},
   "outputs": [
    {
     "data": {
      "text/plain": [
       "[('a', 0   -1.462803\n",
       "  1   -0.808460\n",
       "  4   -0.890532\n",
       "  5    0.500000\n",
       "  Name: data1, dtype: float64), ('b', 2   -0.513008\n",
       "  3   -0.802503\n",
       "  6         NaN\n",
       "  Name: data1, dtype: float64)]"
      ]
     },
     "execution_count": 181,
     "metadata": {},
     "output_type": "execute_result"
    }
   ],
   "source": [
    "list(df.groupby('key1')['data1'])"
   ]
  },
  {
   "cell_type": "code",
   "execution_count": 185,
   "metadata": {},
   "outputs": [
    {
     "data": {
      "text/plain": [
       "key1\n",
       "a   -1.462803\n",
       "b   -0.802503\n",
       "Name: data1, dtype: float64"
      ]
     },
     "execution_count": 185,
     "metadata": {},
     "output_type": "execute_result"
    }
   ],
   "source": [
    "df.groupby('key1')['data1'].quantile(0)               #计算分位数"
   ]
  },
  {
   "cell_type": "code",
   "execution_count": 186,
   "metadata": {},
   "outputs": [
    {
     "data": {
      "text/plain": [
       "key1\n",
       "a   -0.849496\n",
       "b   -0.657756\n",
       "Name: data1, dtype: float64"
      ]
     },
     "execution_count": 186,
     "metadata": {},
     "output_type": "execute_result"
    }
   ],
   "source": [
    "df.groupby('key1')['data1'].quantile(0.5)             #计算中位数"
   ]
  },
  {
   "cell_type": "code",
   "execution_count": 187,
   "metadata": {},
   "outputs": [
    {
     "data": {
      "text/plain": [
       "key1\n",
       "a    0.107462\n",
       "b   -0.541957\n",
       "Name: data1, dtype: float64"
      ]
     },
     "execution_count": 187,
     "metadata": {},
     "output_type": "execute_result"
    }
   ],
   "source": [
    "df.groupby('key1')['data1'].quantile(0.9)             #计算分位数"
   ]
  },
  {
   "cell_type": "markdown",
   "metadata": {},
   "source": [
    "# 计算分位数\n",
    "###    首先将你的输入数组进行从小到大排序，然后计算:\n",
    "###    $(n−1)∗p=i+j(n−1)∗p=i+j$\n",
    "###    其中n为数组元素的个数，将计算结果的整数部分用i表示，小数部分用j来表\n",
    "###    示。则最终的percentile值为：\n",
    "###    $res=(1−j)∗array[i]+j∗array[i+1]$\n",
    "--------------------- \n",
    "作者：BugFree_张瑞 \n",
    "来源：CSDN \n",
    "原文：https://blog.csdn.net/u011489043/article/details/78056851 \n",
    "版权声明：本文为博主原创文章，转载请附上博文链接！"
   ]
  },
  {
   "cell_type": "code",
   "execution_count": 166,
   "metadata": {},
   "outputs": [
    {
     "data": {
      "text/plain": [
       "key1\n",
       "a   -2.661795\n",
       "b   -1.315511\n",
       "Name: data1, dtype: float64"
      ]
     },
     "execution_count": 166,
     "metadata": {},
     "output_type": "execute_result"
    }
   ],
   "source": [
    "df.groupby('key1')['data1'].sum()"
   ]
  },
  {
   "cell_type": "code",
   "execution_count": 168,
   "metadata": {},
   "outputs": [
    {
     "data": {
      "text/plain": [
       "key1\n",
       "a   -0.665449\n",
       "b   -0.657756\n",
       "Name: data1, dtype: float64"
      ]
     },
     "execution_count": 168,
     "metadata": {},
     "output_type": "execute_result"
    }
   ],
   "source": [
    "df.groupby('key1')['data1'].mean()"
   ]
  },
  {
   "cell_type": "code",
   "execution_count": 172,
   "metadata": {},
   "outputs": [
    {
     "data": {
      "text/plain": [
       "key1\n",
       "a    0.107462\n",
       "b   -0.541957\n",
       "Name: data1, dtype: float64"
      ]
     },
     "execution_count": 172,
     "metadata": {},
     "output_type": "execute_result"
    }
   ],
   "source": [
    "df.groupby('key1')['data1'].quantile(0.9)     "
   ]
  },
  {
   "cell_type": "code",
   "execution_count": 173,
   "metadata": {},
   "outputs": [
    {
     "data": {
      "text/plain": [
       "2.5"
      ]
     },
     "execution_count": 173,
     "metadata": {},
     "output_type": "execute_result"
    }
   ],
   "source": [
    "a = np.array(([1,2,3,4]))\n",
    "np.median(a)"
   ]
  },
  {
   "cell_type": "markdown",
   "metadata": {},
   "source": [
    "#### 数据聚合第二点: 传入aggregate或agg方法,使用自己的聚合函数"
   ]
  },
  {
   "cell_type": "code",
   "execution_count": 195,
   "metadata": {},
   "outputs": [
    {
     "data": {
      "text/plain": [
       "key1\n",
       "a    1.962803\n",
       "b    0.289495\n",
       "Name: data1, dtype: float64"
      ]
     },
     "execution_count": 195,
     "metadata": {},
     "output_type": "execute_result"
    }
   ],
   "source": [
    "def peak_to_peak(arr):\n",
    "    return arr.max() - arr.min()\n",
    "df.groupby('key1')['data1'].agg(peak_to_peak)"
   ]
  },
  {
   "cell_type": "code",
   "execution_count": 196,
   "metadata": {},
   "outputs": [
    {
     "data": {
      "text/html": [
       "<div>\n",
       "<style scoped>\n",
       "    .dataframe tbody tr th:only-of-type {\n",
       "        vertical-align: middle;\n",
       "    }\n",
       "\n",
       "    .dataframe tbody tr th {\n",
       "        vertical-align: top;\n",
       "    }\n",
       "\n",
       "    .dataframe thead th {\n",
       "        text-align: right;\n",
       "    }\n",
       "</style>\n",
       "<table border=\"1\" class=\"dataframe\">\n",
       "  <thead>\n",
       "    <tr style=\"text-align: right;\">\n",
       "      <th></th>\n",
       "      <th>count</th>\n",
       "      <th>mean</th>\n",
       "      <th>std</th>\n",
       "      <th>min</th>\n",
       "      <th>25%</th>\n",
       "      <th>50%</th>\n",
       "      <th>75%</th>\n",
       "      <th>max</th>\n",
       "    </tr>\n",
       "    <tr>\n",
       "      <th>key1</th>\n",
       "      <th></th>\n",
       "      <th></th>\n",
       "      <th></th>\n",
       "      <th></th>\n",
       "      <th></th>\n",
       "      <th></th>\n",
       "      <th></th>\n",
       "      <th></th>\n",
       "    </tr>\n",
       "  </thead>\n",
       "  <tbody>\n",
       "    <tr>\n",
       "      <th>a</th>\n",
       "      <td>4.0</td>\n",
       "      <td>-0.665449</td>\n",
       "      <td>0.829691</td>\n",
       "      <td>-1.462803</td>\n",
       "      <td>-1.033600</td>\n",
       "      <td>-0.849496</td>\n",
       "      <td>-0.481345</td>\n",
       "      <td>0.500000</td>\n",
       "    </tr>\n",
       "    <tr>\n",
       "      <th>b</th>\n",
       "      <td>2.0</td>\n",
       "      <td>-0.657756</td>\n",
       "      <td>0.204704</td>\n",
       "      <td>-0.802503</td>\n",
       "      <td>-0.730129</td>\n",
       "      <td>-0.657756</td>\n",
       "      <td>-0.585382</td>\n",
       "      <td>-0.513008</td>\n",
       "    </tr>\n",
       "  </tbody>\n",
       "</table>\n",
       "</div>"
      ],
      "text/plain": [
       "      count      mean       std       min       25%       50%       75%  \\\n",
       "key1                                                                      \n",
       "a       4.0 -0.665449  0.829691 -1.462803 -1.033600 -0.849496 -0.481345   \n",
       "b       2.0 -0.657756  0.204704 -0.802503 -0.730129 -0.657756 -0.585382   \n",
       "\n",
       "           max  \n",
       "key1            \n",
       "a     0.500000  \n",
       "b    -0.513008  "
      ]
     },
     "execution_count": 196,
     "metadata": {},
     "output_type": "execute_result"
    }
   ],
   "source": [
    "# 有些方法也可以使用，但严格讲不是聚合运算\n",
    "df.groupby('key1')['data1'].describe()"
   ]
  },
  {
   "cell_type": "code",
   "execution_count": 197,
   "metadata": {},
   "outputs": [
    {
     "data": {
      "text/html": [
       "<div>\n",
       "<style scoped>\n",
       "    .dataframe tbody tr th:only-of-type {\n",
       "        vertical-align: middle;\n",
       "    }\n",
       "\n",
       "    .dataframe tbody tr th {\n",
       "        vertical-align: top;\n",
       "    }\n",
       "\n",
       "    .dataframe thead tr th {\n",
       "        text-align: left;\n",
       "    }\n",
       "\n",
       "    .dataframe thead tr:last-of-type th {\n",
       "        text-align: right;\n",
       "    }\n",
       "</style>\n",
       "<table border=\"1\" class=\"dataframe\">\n",
       "  <thead>\n",
       "    <tr>\n",
       "      <th></th>\n",
       "      <th colspan=\"8\" halign=\"left\">data1</th>\n",
       "      <th colspan=\"5\" halign=\"left\">data2</th>\n",
       "      <th colspan=\"8\" halign=\"left\">data3</th>\n",
       "    </tr>\n",
       "    <tr>\n",
       "      <th></th>\n",
       "      <th>count</th>\n",
       "      <th>mean</th>\n",
       "      <th>std</th>\n",
       "      <th>min</th>\n",
       "      <th>25%</th>\n",
       "      <th>50%</th>\n",
       "      <th>75%</th>\n",
       "      <th>max</th>\n",
       "      <th>count</th>\n",
       "      <th>mean</th>\n",
       "      <th>...</th>\n",
       "      <th>75%</th>\n",
       "      <th>max</th>\n",
       "      <th>count</th>\n",
       "      <th>mean</th>\n",
       "      <th>std</th>\n",
       "      <th>min</th>\n",
       "      <th>25%</th>\n",
       "      <th>50%</th>\n",
       "      <th>75%</th>\n",
       "      <th>max</th>\n",
       "    </tr>\n",
       "    <tr>\n",
       "      <th>key1</th>\n",
       "      <th></th>\n",
       "      <th></th>\n",
       "      <th></th>\n",
       "      <th></th>\n",
       "      <th></th>\n",
       "      <th></th>\n",
       "      <th></th>\n",
       "      <th></th>\n",
       "      <th></th>\n",
       "      <th></th>\n",
       "      <th></th>\n",
       "      <th></th>\n",
       "      <th></th>\n",
       "      <th></th>\n",
       "      <th></th>\n",
       "      <th></th>\n",
       "      <th></th>\n",
       "      <th></th>\n",
       "      <th></th>\n",
       "      <th></th>\n",
       "      <th></th>\n",
       "    </tr>\n",
       "  </thead>\n",
       "  <tbody>\n",
       "    <tr>\n",
       "      <th>a</th>\n",
       "      <td>4.0</td>\n",
       "      <td>-0.665449</td>\n",
       "      <td>0.829691</td>\n",
       "      <td>-1.462803</td>\n",
       "      <td>-1.033600</td>\n",
       "      <td>-0.849496</td>\n",
       "      <td>-0.481345</td>\n",
       "      <td>0.500000</td>\n",
       "      <td>4.0</td>\n",
       "      <td>0.325576</td>\n",
       "      <td>...</td>\n",
       "      <td>0.613265</td>\n",
       "      <td>0.883681</td>\n",
       "      <td>4.0</td>\n",
       "      <td>3.5</td>\n",
       "      <td>2.380476</td>\n",
       "      <td>1.0</td>\n",
       "      <td>1.75</td>\n",
       "      <td>3.5</td>\n",
       "      <td>5.25</td>\n",
       "      <td>6.0</td>\n",
       "    </tr>\n",
       "    <tr>\n",
       "      <th>b</th>\n",
       "      <td>2.0</td>\n",
       "      <td>-0.657756</td>\n",
       "      <td>0.204704</td>\n",
       "      <td>-0.802503</td>\n",
       "      <td>-0.730129</td>\n",
       "      <td>-0.657756</td>\n",
       "      <td>-0.585382</td>\n",
       "      <td>-0.513008</td>\n",
       "      <td>2.0</td>\n",
       "      <td>0.918970</td>\n",
       "      <td>...</td>\n",
       "      <td>1.555661</td>\n",
       "      <td>2.192351</td>\n",
       "      <td>2.0</td>\n",
       "      <td>5.0</td>\n",
       "      <td>2.828427</td>\n",
       "      <td>3.0</td>\n",
       "      <td>4.00</td>\n",
       "      <td>5.0</td>\n",
       "      <td>6.00</td>\n",
       "      <td>7.0</td>\n",
       "    </tr>\n",
       "  </tbody>\n",
       "</table>\n",
       "<p>2 rows × 24 columns</p>\n",
       "</div>"
      ],
      "text/plain": [
       "     data1                                                              \\\n",
       "     count      mean       std       min       25%       50%       75%   \n",
       "key1                                                                     \n",
       "a      4.0 -0.665449  0.829691 -1.462803 -1.033600 -0.849496 -0.481345   \n",
       "b      2.0 -0.657756  0.204704 -0.802503 -0.730129 -0.657756 -0.585382   \n",
       "\n",
       "               data2           ...                      data3                 \\\n",
       "           max count      mean ...        75%       max count mean       std   \n",
       "key1                           ...                                             \n",
       "a     0.500000   4.0  0.325576 ...   0.613265  0.883681   4.0  3.5  2.380476   \n",
       "b    -0.513008   2.0  0.918970 ...   1.555661  2.192351   2.0  5.0  2.828427   \n",
       "\n",
       "                                 \n",
       "      min   25%  50%   75%  max  \n",
       "key1                             \n",
       "a     1.0  1.75  3.5  5.25  6.0  \n",
       "b     3.0  4.00  5.0  6.00  7.0  \n",
       "\n",
       "[2 rows x 24 columns]"
      ]
     },
     "execution_count": 197,
     "metadata": {},
     "output_type": "execute_result"
    }
   ],
   "source": [
    "df.groupby('key1').describe()"
   ]
  },
  {
   "cell_type": "markdown",
   "metadata": {},
   "source": [
    "##### 自定义聚合函数要比经过优化的函数(max,min)慢得多，因为会有很大开销(函数调用、数据重排)"
   ]
  },
  {
   "cell_type": "markdown",
   "metadata": {},
   "source": [
    "#### 面向列的多函数应用，在这里用的‘小费’数据集\n",
    "#### 1. tips.groupby(['day', 'smoker'])['tip_pct'].agg(['mean', 'std', peak_to_peak]),\n",
    "#### 2. ftuples = [('DUR', 'mean'), ('Abwe', np.var)]   grouped['tip_pct'].agg(ftuples)\n",
    "#### 3. grouped.agg({'tip' : np.max, 'size' : 'sum'})\n",
    "#### 4. grouped.agg({'tip_pct' : ['min', 'max', 'mean', 'std'], 'size' : 'sum'})\n",
    "### 只有将多个函数应用到至少一列时(tips.groupby(xx)['vv']),\n",
    "### dataframe才有层次化的列"
   ]
  },
  {
   "cell_type": "code",
   "execution_count": 198,
   "metadata": {},
   "outputs": [
    {
     "data": {
      "text/html": [
       "<div>\n",
       "<style scoped>\n",
       "    .dataframe tbody tr th:only-of-type {\n",
       "        vertical-align: middle;\n",
       "    }\n",
       "\n",
       "    .dataframe tbody tr th {\n",
       "        vertical-align: top;\n",
       "    }\n",
       "\n",
       "    .dataframe thead th {\n",
       "        text-align: right;\n",
       "    }\n",
       "</style>\n",
       "<table border=\"1\" class=\"dataframe\">\n",
       "  <thead>\n",
       "    <tr style=\"text-align: right;\">\n",
       "      <th></th>\n",
       "      <th>book</th>\n",
       "      <th>price</th>\n",
       "    </tr>\n",
       "  </thead>\n",
       "  <tbody>\n",
       "    <tr>\n",
       "      <th>0</th>\n",
       "      <td>bk1</td>\n",
       "      <td>12</td>\n",
       "    </tr>\n",
       "    <tr>\n",
       "      <th>1</th>\n",
       "      <td>bk1</td>\n",
       "      <td>12</td>\n",
       "    </tr>\n",
       "    <tr>\n",
       "      <th>2</th>\n",
       "      <td>bk1</td>\n",
       "      <td>12</td>\n",
       "    </tr>\n",
       "    <tr>\n",
       "      <th>3</th>\n",
       "      <td>bk2</td>\n",
       "      <td>15</td>\n",
       "    </tr>\n",
       "    <tr>\n",
       "      <th>4</th>\n",
       "      <td>bk2</td>\n",
       "      <td>15</td>\n",
       "    </tr>\n",
       "    <tr>\n",
       "      <th>5</th>\n",
       "      <td>bk3</td>\n",
       "      <td>17</td>\n",
       "    </tr>\n",
       "  </tbody>\n",
       "</table>\n",
       "</div>"
      ],
      "text/plain": [
       "  book  price\n",
       "0  bk1     12\n",
       "1  bk1     12\n",
       "2  bk1     12\n",
       "3  bk2     15\n",
       "4  bk2     15\n",
       "5  bk3     17"
      ]
     },
     "execution_count": 198,
     "metadata": {},
     "output_type": "execute_result"
    }
   ],
   "source": [
    "df = pd.DataFrame(data={'book': ['bk1', 'bk1', 'bk1', 'bk2', 'bk2', 'bk3'], \n",
    "                        'price': [12, 12, 12, 15, 15, 17]})\n",
    "df"
   ]
  },
  {
   "cell_type": "code",
   "execution_count": 200,
   "metadata": {},
   "outputs": [
    {
     "data": {
      "text/html": [
       "<div>\n",
       "<style scoped>\n",
       "    .dataframe tbody tr th:only-of-type {\n",
       "        vertical-align: middle;\n",
       "    }\n",
       "\n",
       "    .dataframe tbody tr th {\n",
       "        vertical-align: top;\n",
       "    }\n",
       "\n",
       "    .dataframe thead th {\n",
       "        text-align: right;\n",
       "    }\n",
       "</style>\n",
       "<table border=\"1\" class=\"dataframe\">\n",
       "  <thead>\n",
       "    <tr style=\"text-align: right;\">\n",
       "      <th></th>\n",
       "      <th>price</th>\n",
       "    </tr>\n",
       "    <tr>\n",
       "      <th>book</th>\n",
       "      <th></th>\n",
       "    </tr>\n",
       "  </thead>\n",
       "  <tbody>\n",
       "    <tr>\n",
       "      <th>bk1</th>\n",
       "      <td>36</td>\n",
       "    </tr>\n",
       "    <tr>\n",
       "      <th>bk2</th>\n",
       "      <td>30</td>\n",
       "    </tr>\n",
       "    <tr>\n",
       "      <th>bk3</th>\n",
       "      <td>17</td>\n",
       "    </tr>\n",
       "  </tbody>\n",
       "</table>\n",
       "</div>"
      ],
      "text/plain": [
       "      price\n",
       "book       \n",
       "bk1      36\n",
       "bk2      30\n",
       "bk3      17"
      ]
     },
     "execution_count": 200,
     "metadata": {},
     "output_type": "execute_result"
    }
   ],
   "source": [
    "df.groupby('book').sum()                         #默认ax_index=True"
   ]
  },
  {
   "cell_type": "code",
   "execution_count": 201,
   "metadata": {},
   "outputs": [
    {
     "data": {
      "text/html": [
       "<div>\n",
       "<style scoped>\n",
       "    .dataframe tbody tr th:only-of-type {\n",
       "        vertical-align: middle;\n",
       "    }\n",
       "\n",
       "    .dataframe tbody tr th {\n",
       "        vertical-align: top;\n",
       "    }\n",
       "\n",
       "    .dataframe thead th {\n",
       "        text-align: right;\n",
       "    }\n",
       "</style>\n",
       "<table border=\"1\" class=\"dataframe\">\n",
       "  <thead>\n",
       "    <tr style=\"text-align: right;\">\n",
       "      <th></th>\n",
       "      <th>book</th>\n",
       "      <th>price</th>\n",
       "    </tr>\n",
       "  </thead>\n",
       "  <tbody>\n",
       "    <tr>\n",
       "      <th>0</th>\n",
       "      <td>bk1</td>\n",
       "      <td>36</td>\n",
       "    </tr>\n",
       "    <tr>\n",
       "      <th>1</th>\n",
       "      <td>bk2</td>\n",
       "      <td>30</td>\n",
       "    </tr>\n",
       "    <tr>\n",
       "      <th>2</th>\n",
       "      <td>bk3</td>\n",
       "      <td>17</td>\n",
       "    </tr>\n",
       "  </tbody>\n",
       "</table>\n",
       "</div>"
      ],
      "text/plain": [
       "  book  price\n",
       "0  bk1     36\n",
       "1  bk2     30\n",
       "2  bk3     17"
      ]
     },
     "execution_count": 201,
     "metadata": {},
     "output_type": "execute_result"
    }
   ],
   "source": [
    "df.groupby('book', as_index=False).sum()         #取消分组键作索引"
   ]
  },
  {
   "cell_type": "markdown",
   "metadata": {},
   "source": [
    "# 小费数据例子"
   ]
  },
  {
   "cell_type": "code",
   "execution_count": 203,
   "metadata": {},
   "outputs": [
    {
     "data": {
      "text/plain": [
       "0    (-2.087, -0.552]\n",
       "1     (-0.552, 0.982]\n",
       "2     (-0.552, 0.982]\n",
       "3    (-2.087, -0.552]\n",
       "4     (-0.552, 0.982]\n",
       "5     (-0.552, 0.982]\n",
       "6     (-0.552, 0.982]\n",
       "7    (-2.087, -0.552]\n",
       "8     (-0.552, 0.982]\n",
       "9    (-2.087, -0.552]\n",
       "Name: data1, dtype: category\n",
       "Categories (4, interval[float64]): [(-3.627, -2.087] < (-2.087, -0.552] < (-0.552, 0.982] < (0.982, 2.516]]"
      ]
     },
     "execution_count": 203,
     "metadata": {},
     "output_type": "execute_result"
    }
   ],
   "source": [
    "frame = pd.DataFrame({'data1': np.random.randn(1000),\n",
    "                     'data2': np.random.randn(1000)})\n",
    "quartiles = pd.cut(frame.data1, 4)\n",
    "quartiles[:10]"
   ]
  },
  {
   "cell_type": "code",
   "execution_count": 206,
   "metadata": {},
   "outputs": [],
   "source": [
    "grouped = frame.data2.groupby(quartiles)"
   ]
  },
  {
   "cell_type": "code",
   "execution_count": 209,
   "metadata": {},
   "outputs": [],
   "source": [
    "# 由cut返回的Categorical对象可直接传递到groupby\n",
    "def get_stats(group):\n",
    "    return {'min': group.min(), 'max': group.max(),\n",
    "           'count': group.count(), 'mean': group.mean()}"
   ]
  },
  {
   "cell_type": "code",
   "execution_count": 210,
   "metadata": {},
   "outputs": [
    {
     "data": {
      "text/plain": [
       "[(Interval(-3.627, -2.087, closed='right'), 31     2.747524\n",
       "  36    -0.126037\n",
       "  93    -0.292046\n",
       "  103    0.406231\n",
       "  137   -0.451166\n",
       "  208    0.660413\n",
       "  290    0.016804\n",
       "  465    1.815242\n",
       "  485   -0.607565\n",
       "  621    1.481082\n",
       "  626   -1.607892\n",
       "  720   -2.067778\n",
       "  834    0.366883\n",
       "  872    0.594811\n",
       "  881    0.887474\n",
       "  944   -1.372547\n",
       "  Name: data2, dtype: float64),\n",
       " (Interval(-2.087, -0.552, closed='right'), 0      0.652247\n",
       "  3      1.370519\n",
       "  7     -1.284391\n",
       "  9     -0.552780\n",
       "  11    -0.660968\n",
       "  16    -0.794238\n",
       "  17    -1.255947\n",
       "  18     1.409306\n",
       "  23    -0.922795\n",
       "  24    -0.961754\n",
       "  26     0.726474\n",
       "  28     0.178320\n",
       "  49    -1.145267\n",
       "  62     0.329293\n",
       "  65    -0.477811\n",
       "  66     0.577077\n",
       "  67    -1.233985\n",
       "  69     1.346328\n",
       "  70    -2.349843\n",
       "  72    -0.703335\n",
       "  79     1.185970\n",
       "  81     0.282401\n",
       "  82    -0.290190\n",
       "  84    -1.100908\n",
       "  90    -0.847045\n",
       "  91    -1.701602\n",
       "  92     0.135486\n",
       "  94    -0.874493\n",
       "  95    -0.849378\n",
       "  99     0.478748\n",
       "           ...   \n",
       "  891    0.001166\n",
       "  894   -0.821792\n",
       "  900   -0.309260\n",
       "  901    1.419094\n",
       "  903   -0.276630\n",
       "  905    1.822450\n",
       "  912   -1.975767\n",
       "  922   -0.562470\n",
       "  923   -0.564820\n",
       "  926    0.731420\n",
       "  927   -0.157573\n",
       "  931   -0.142476\n",
       "  938    1.829773\n",
       "  941    0.557651\n",
       "  942    0.889185\n",
       "  947    0.852667\n",
       "  949    0.616444\n",
       "  953   -1.829779\n",
       "  954    0.868967\n",
       "  960   -0.672130\n",
       "  961    0.034330\n",
       "  965   -0.581634\n",
       "  967    0.799959\n",
       "  970    1.344964\n",
       "  971    0.839455\n",
       "  980   -0.167398\n",
       "  982   -1.485283\n",
       "  991   -0.288445\n",
       "  994   -0.088897\n",
       "  996   -0.086177\n",
       "  Name: data2, Length: 270, dtype: float64),\n",
       " (Interval(-0.552, 0.982, closed='right'), 1     -0.384108\n",
       "  2     -1.204318\n",
       "  4     -0.640399\n",
       "  5     -0.535179\n",
       "  6      1.040951\n",
       "  8     -0.723513\n",
       "  12     0.329339\n",
       "  20    -0.193792\n",
       "  21     0.434861\n",
       "  22     0.695122\n",
       "  25    -1.677018\n",
       "  27    -0.336566\n",
       "  29    -0.369259\n",
       "  30     0.565857\n",
       "  33    -1.592336\n",
       "  34     0.817289\n",
       "  35    -0.337676\n",
       "  37    -1.048786\n",
       "  38    -0.701698\n",
       "  40    -0.010089\n",
       "  41     0.568426\n",
       "  43     1.294527\n",
       "  45     0.828009\n",
       "  46    -0.155509\n",
       "  47     0.114360\n",
       "  48    -1.055185\n",
       "  50     0.976735\n",
       "  52     2.049803\n",
       "  53     1.343574\n",
       "  55    -0.391028\n",
       "           ...   \n",
       "  952   -2.479866\n",
       "  955    0.211958\n",
       "  957   -0.976836\n",
       "  958   -1.734788\n",
       "  962    1.553211\n",
       "  963    0.576437\n",
       "  964    1.309967\n",
       "  966   -1.422993\n",
       "  969   -0.702865\n",
       "  973    0.370603\n",
       "  974   -0.939174\n",
       "  975    0.247512\n",
       "  976   -0.214172\n",
       "  978    1.569908\n",
       "  979    0.587409\n",
       "  981    1.104775\n",
       "  983    1.090329\n",
       "  984    0.900079\n",
       "  985    1.158777\n",
       "  986    0.036419\n",
       "  987   -0.230548\n",
       "  988    0.379314\n",
       "  989   -1.524763\n",
       "  990    1.197130\n",
       "  992    0.996545\n",
       "  993    0.112605\n",
       "  995   -0.458760\n",
       "  997    0.859251\n",
       "  998   -1.589537\n",
       "  999   -0.113988\n",
       "  Name: data2, Length: 567, dtype: float64),\n",
       " (Interval(0.982, 2.516, closed='right'), 10    -0.608209\n",
       "  13    -1.353501\n",
       "  14    -0.909006\n",
       "  15     1.180665\n",
       "  19     0.046440\n",
       "  32    -0.353938\n",
       "  39    -1.177847\n",
       "  42     0.697834\n",
       "  44     1.033149\n",
       "  51     0.230223\n",
       "  54    -1.770850\n",
       "  57     0.877531\n",
       "  68    -0.425337\n",
       "  86    -0.960922\n",
       "  89     2.407853\n",
       "  110    1.164967\n",
       "  118    0.405374\n",
       "  135   -0.618612\n",
       "  142   -0.122086\n",
       "  163    0.630975\n",
       "  165   -1.340448\n",
       "  169    1.581722\n",
       "  171   -1.008337\n",
       "  173   -1.033444\n",
       "  174   -0.607514\n",
       "  175   -1.630619\n",
       "  182   -1.200256\n",
       "  192    1.128666\n",
       "  196    0.324148\n",
       "  213   -0.466340\n",
       "           ...   \n",
       "  828    1.143135\n",
       "  830    0.290929\n",
       "  832   -0.529782\n",
       "  835    1.130072\n",
       "  837   -0.083218\n",
       "  838    0.853865\n",
       "  840   -0.265986\n",
       "  847   -0.873736\n",
       "  849    1.186074\n",
       "  865    0.568755\n",
       "  866    1.269169\n",
       "  871   -0.360247\n",
       "  873    0.134234\n",
       "  879    1.822433\n",
       "  880   -1.051511\n",
       "  899   -1.662553\n",
       "  907    1.606864\n",
       "  908    2.208966\n",
       "  913    1.252766\n",
       "  932    1.973479\n",
       "  935    0.760050\n",
       "  936    0.741266\n",
       "  937   -0.539606\n",
       "  939    1.057366\n",
       "  951    1.775525\n",
       "  956   -0.915389\n",
       "  959    0.940137\n",
       "  968    0.590826\n",
       "  972    0.819334\n",
       "  977    0.747113\n",
       "  Name: data2, Length: 147, dtype: float64)]"
      ]
     },
     "execution_count": 210,
     "metadata": {},
     "output_type": "execute_result"
    }
   ],
   "source": [
    "list(grouped)"
   ]
  },
  {
   "cell_type": "code",
   "execution_count": 214,
   "metadata": {},
   "outputs": [
    {
     "data": {
      "text/plain": [
       "data1                  \n",
       "(-3.627, -2.087]  count     16.000000\n",
       "                  max        2.747524\n",
       "                  mean       0.153215\n",
       "                  min       -2.067778\n",
       "(-2.087, -0.552]  count    270.000000\n",
       "                  max        3.130865\n",
       "                  mean       0.004477\n",
       "                  min       -3.463098\n",
       "(-0.552, 0.982]   count    567.000000\n",
       "                  max        2.742843\n",
       "                  mean       0.037466\n",
       "                  min       -2.514495\n",
       "(0.982, 2.516]    count    147.000000\n",
       "                  max        2.505708\n",
       "                  mean       0.180957\n",
       "                  min       -1.770850\n",
       "Name: data2, dtype: float64"
      ]
     },
     "execution_count": 214,
     "metadata": {},
     "output_type": "execute_result"
    }
   ],
   "source": [
    "grouped.apply(get_stats)                             #apply运用"
   ]
  },
  {
   "cell_type": "code",
   "execution_count": 215,
   "metadata": {},
   "outputs": [
    {
     "data": {
      "text/html": [
       "<div>\n",
       "<style scoped>\n",
       "    .dataframe tbody tr th:only-of-type {\n",
       "        vertical-align: middle;\n",
       "    }\n",
       "\n",
       "    .dataframe tbody tr th {\n",
       "        vertical-align: top;\n",
       "    }\n",
       "\n",
       "    .dataframe thead th {\n",
       "        text-align: right;\n",
       "    }\n",
       "</style>\n",
       "<table border=\"1\" class=\"dataframe\">\n",
       "  <thead>\n",
       "    <tr style=\"text-align: right;\">\n",
       "      <th></th>\n",
       "      <th>count</th>\n",
       "      <th>max</th>\n",
       "      <th>mean</th>\n",
       "      <th>min</th>\n",
       "    </tr>\n",
       "    <tr>\n",
       "      <th>data1</th>\n",
       "      <th></th>\n",
       "      <th></th>\n",
       "      <th></th>\n",
       "      <th></th>\n",
       "    </tr>\n",
       "  </thead>\n",
       "  <tbody>\n",
       "    <tr>\n",
       "      <th>(-3.627, -2.087]</th>\n",
       "      <td>16.0</td>\n",
       "      <td>2.747524</td>\n",
       "      <td>0.153215</td>\n",
       "      <td>-2.067778</td>\n",
       "    </tr>\n",
       "    <tr>\n",
       "      <th>(-2.087, -0.552]</th>\n",
       "      <td>270.0</td>\n",
       "      <td>3.130865</td>\n",
       "      <td>0.004477</td>\n",
       "      <td>-3.463098</td>\n",
       "    </tr>\n",
       "    <tr>\n",
       "      <th>(-0.552, 0.982]</th>\n",
       "      <td>567.0</td>\n",
       "      <td>2.742843</td>\n",
       "      <td>0.037466</td>\n",
       "      <td>-2.514495</td>\n",
       "    </tr>\n",
       "    <tr>\n",
       "      <th>(0.982, 2.516]</th>\n",
       "      <td>147.0</td>\n",
       "      <td>2.505708</td>\n",
       "      <td>0.180957</td>\n",
       "      <td>-1.770850</td>\n",
       "    </tr>\n",
       "  </tbody>\n",
       "</table>\n",
       "</div>"
      ],
      "text/plain": [
       "                  count       max      mean       min\n",
       "data1                                                \n",
       "(-3.627, -2.087]   16.0  2.747524  0.153215 -2.067778\n",
       "(-2.087, -0.552]  270.0  3.130865  0.004477 -3.463098\n",
       "(-0.552, 0.982]   567.0  2.742843  0.037466 -2.514495\n",
       "(0.982, 2.516]    147.0  2.505708  0.180957 -1.770850"
      ]
     },
     "execution_count": 215,
     "metadata": {},
     "output_type": "execute_result"
    }
   ],
   "source": [
    "grouped.apply(get_stats).unstack()"
   ]
  },
  {
   "cell_type": "code",
   "execution_count": 219,
   "metadata": {},
   "outputs": [
    {
     "data": {
      "text/plain": [
       "0      0\n",
       "1      3\n",
       "2      6\n",
       "3      0\n",
       "4      7\n",
       "5      3\n",
       "6      3\n",
       "7      1\n",
       "8      3\n",
       "9      0\n",
       "10     8\n",
       "11     0\n",
       "12     4\n",
       "13     8\n",
       "14     9\n",
       "15     9\n",
       "16     2\n",
       "17     1\n",
       "18     1\n",
       "19     8\n",
       "20     3\n",
       "21     6\n",
       "22     3\n",
       "23     0\n",
       "24     2\n",
       "25     3\n",
       "26     0\n",
       "27     7\n",
       "28     2\n",
       "29     3\n",
       "      ..\n",
       "970    0\n",
       "971    0\n",
       "972    9\n",
       "973    5\n",
       "974    8\n",
       "975    8\n",
       "976    3\n",
       "977    8\n",
       "978    6\n",
       "979    3\n",
       "980    0\n",
       "981    7\n",
       "982    1\n",
       "983    5\n",
       "984    6\n",
       "985    3\n",
       "986    7\n",
       "987    4\n",
       "988    7\n",
       "989    7\n",
       "990    5\n",
       "991    2\n",
       "992    7\n",
       "993    6\n",
       "994    0\n",
       "995    5\n",
       "996    0\n",
       "997    7\n",
       "998    8\n",
       "999    2\n",
       "Name: data1, Length: 1000, dtype: int64"
      ]
     },
     "execution_count": 219,
     "metadata": {},
     "output_type": "execute_result"
    }
   ],
   "source": [
    "# 根据样本分位数得到大小相等的桶，使用qcut即可。\n",
    "grouping = pd.qcut(frame.data1, 10, labels=False)             # 传入labels=False即可只获取分位数的编号\n",
    "grouping"
   ]
  },
  {
   "cell_type": "code",
   "execution_count": 220,
   "metadata": {},
   "outputs": [
    {
     "data": {
      "text/plain": [
       "<pandas.core.groupby.groupby.SeriesGroupBy object at 0x0000000008CB9240>"
      ]
     },
     "execution_count": 220,
     "metadata": {},
     "output_type": "execute_result"
    }
   ],
   "source": [
    "grouped = frame.data2.groupby(grouping)\n",
    "grouped"
   ]
  },
  {
   "cell_type": "code",
   "execution_count": 221,
   "metadata": {},
   "outputs": [
    {
     "data": {
      "text/plain": [
       "[(0, 0      0.652247\n",
       "  3      1.370519\n",
       "  9     -0.552780\n",
       "  11    -0.660968\n",
       "  23    -0.922795\n",
       "  26     0.726474\n",
       "  31     2.747524\n",
       "  36    -0.126037\n",
       "  66     0.577077\n",
       "  69     1.346328\n",
       "  93    -0.292046\n",
       "  99     0.478748\n",
       "  102    0.386654\n",
       "  103    0.406231\n",
       "  127    0.954576\n",
       "  137   -0.451166\n",
       "  159   -1.698062\n",
       "  179    0.441550\n",
       "  184    1.008553\n",
       "  198   -1.650440\n",
       "  208    0.660413\n",
       "  214   -0.058399\n",
       "  224    0.502455\n",
       "  232   -1.493356\n",
       "  238   -0.253351\n",
       "  248    2.019577\n",
       "  268    1.511012\n",
       "  271    1.336470\n",
       "  290    0.016804\n",
       "  293    1.799924\n",
       "           ...   \n",
       "  669   -1.227817\n",
       "  675    0.691205\n",
       "  679   -2.268502\n",
       "  700   -1.597687\n",
       "  702   -2.112383\n",
       "  717    1.096869\n",
       "  720   -2.067778\n",
       "  732   -0.286720\n",
       "  734   -0.739196\n",
       "  741   -1.043711\n",
       "  794   -1.252020\n",
       "  805   -0.418524\n",
       "  813    0.440646\n",
       "  834    0.366883\n",
       "  844    0.522089\n",
       "  853    0.655675\n",
       "  861    1.472587\n",
       "  872    0.594811\n",
       "  881    0.887474\n",
       "  903   -0.276630\n",
       "  938    1.829773\n",
       "  944   -1.372547\n",
       "  953   -1.829779\n",
       "  954    0.868967\n",
       "  965   -0.581634\n",
       "  970    1.344964\n",
       "  971    0.839455\n",
       "  980   -0.167398\n",
       "  994   -0.088897\n",
       "  996   -0.086177\n",
       "  Name: data2, Length: 100, dtype: float64), (1, 7     -1.284391\n",
       "  17    -1.255947\n",
       "  18     1.409306\n",
       "  65    -0.477811\n",
       "  70    -2.349843\n",
       "  82    -0.290190\n",
       "  84    -1.100908\n",
       "  92     0.135486\n",
       "  94    -0.874493\n",
       "  101    1.026592\n",
       "  123    1.072528\n",
       "  125   -0.021864\n",
       "  129   -0.050452\n",
       "  133    0.121405\n",
       "  148   -0.571556\n",
       "  151    0.244111\n",
       "  152    0.738890\n",
       "  153   -1.165619\n",
       "  155   -0.105010\n",
       "  160    1.539358\n",
       "  166   -0.973450\n",
       "  176   -0.305872\n",
       "  178   -0.193201\n",
       "  183   -1.062890\n",
       "  185   -0.486028\n",
       "  189   -0.698891\n",
       "  194    1.384182\n",
       "  203   -1.434680\n",
       "  215    0.612791\n",
       "  217    0.339755\n",
       "           ...   \n",
       "  672    3.130865\n",
       "  683    0.939461\n",
       "  689    1.243311\n",
       "  692    0.417382\n",
       "  698   -2.621084\n",
       "  701    0.896727\n",
       "  724    1.637614\n",
       "  725   -0.842158\n",
       "  736    0.368718\n",
       "  749    0.063201\n",
       "  752    1.073768\n",
       "  761    1.529714\n",
       "  765    0.085476\n",
       "  766    0.694236\n",
       "  782    0.403228\n",
       "  803   -0.712163\n",
       "  809    0.315571\n",
       "  811    1.531527\n",
       "  846    0.447873\n",
       "  855    0.316980\n",
       "  860    0.138738\n",
       "  868   -0.265578\n",
       "  891    0.001166\n",
       "  912   -1.975767\n",
       "  926    0.731420\n",
       "  931   -0.142476\n",
       "  942    0.889185\n",
       "  960   -0.672130\n",
       "  961    0.034330\n",
       "  982   -1.485283\n",
       "  Name: data2, Length: 100, dtype: float64), (2, 16    -0.794238\n",
       "  24    -0.961754\n",
       "  28     0.178320\n",
       "  49    -1.145267\n",
       "  58    -0.670642\n",
       "  62     0.329293\n",
       "  67    -1.233985\n",
       "  72    -0.703335\n",
       "  79     1.185970\n",
       "  81     0.282401\n",
       "  90    -0.847045\n",
       "  91    -1.701602\n",
       "  95    -0.849378\n",
       "  105   -0.517220\n",
       "  120   -0.548679\n",
       "  130   -1.558485\n",
       "  145   -0.951678\n",
       "  146   -1.508537\n",
       "  154    1.225870\n",
       "  157   -0.388806\n",
       "  167    0.036673\n",
       "  180    0.863832\n",
       "  187   -2.081337\n",
       "  188    1.322467\n",
       "  201   -0.797102\n",
       "  218   -0.271034\n",
       "  219   -0.180454\n",
       "  234    0.547515\n",
       "  237   -0.342406\n",
       "  247   -0.810227\n",
       "           ...   \n",
       "  798    2.238311\n",
       "  801   -0.669004\n",
       "  808    1.107442\n",
       "  810   -0.156092\n",
       "  814   -0.667967\n",
       "  818   -0.032274\n",
       "  831   -0.837853\n",
       "  833    1.302420\n",
       "  842   -0.442958\n",
       "  845   -0.904379\n",
       "  874   -0.266909\n",
       "  878   -0.458327\n",
       "  882   -1.127555\n",
       "  883    1.020094\n",
       "  894   -0.821792\n",
       "  900   -0.309260\n",
       "  901    1.419094\n",
       "  905    1.822450\n",
       "  922   -0.562470\n",
       "  923   -0.564820\n",
       "  924   -0.070633\n",
       "  927   -0.157573\n",
       "  941    0.557651\n",
       "  943   -1.401823\n",
       "  947    0.852667\n",
       "  949    0.616444\n",
       "  963    0.576437\n",
       "  967    0.799959\n",
       "  991   -0.288445\n",
       "  999   -0.113988\n",
       "  Name: data2, Length: 100, dtype: float64), (3, 1     -0.384108\n",
       "  5     -0.535179\n",
       "  6      1.040951\n",
       "  8     -0.723513\n",
       "  20    -0.193792\n",
       "  22     0.695122\n",
       "  25    -1.677018\n",
       "  29    -0.369259\n",
       "  34     0.817289\n",
       "  41     0.568426\n",
       "  43     1.294527\n",
       "  50     0.976735\n",
       "  55    -0.391028\n",
       "  74    -0.333434\n",
       "  87    -0.968732\n",
       "  100   -0.059653\n",
       "  104   -0.482386\n",
       "  111   -0.016774\n",
       "  117    0.451338\n",
       "  156   -0.551778\n",
       "  164   -0.899745\n",
       "  172    0.034224\n",
       "  191    0.724017\n",
       "  193    1.232556\n",
       "  241   -0.922655\n",
       "  255    1.117412\n",
       "  264   -0.055989\n",
       "  275   -0.073230\n",
       "  276   -0.806840\n",
       "  282    1.119485\n",
       "           ...   \n",
       "  733   -0.096488\n",
       "  742   -1.043466\n",
       "  756   -0.227344\n",
       "  757    1.802522\n",
       "  763    2.575298\n",
       "  768   -0.146590\n",
       "  772   -0.459132\n",
       "  773   -1.784848\n",
       "  784    0.225799\n",
       "  785    2.034664\n",
       "  791   -1.959135\n",
       "  795   -0.400871\n",
       "  826    0.543798\n",
       "  836   -0.621881\n",
       "  848    0.079645\n",
       "  851    1.552441\n",
       "  859   -2.272793\n",
       "  870   -1.925765\n",
       "  886   -0.145247\n",
       "  893   -2.043022\n",
       "  895    0.233489\n",
       "  906    1.292706\n",
       "  918    0.844588\n",
       "  930    0.278748\n",
       "  940   -0.236883\n",
       "  950    0.845495\n",
       "  957   -0.976836\n",
       "  976   -0.214172\n",
       "  979    0.587409\n",
       "  985    1.158777\n",
       "  Name: data2, Length: 100, dtype: float64), (4, 12     0.329339\n",
       "  53     1.343574\n",
       "  76    -0.237120\n",
       "  80     0.626738\n",
       "  83    -0.084192\n",
       "  96     2.391982\n",
       "  121   -0.042863\n",
       "  126   -0.919141\n",
       "  136   -0.139875\n",
       "  141    0.255791\n",
       "  147    0.078315\n",
       "  150   -1.689934\n",
       "  200    0.006388\n",
       "  210   -0.464180\n",
       "  212    1.196678\n",
       "  226   -1.531276\n",
       "  227   -0.929769\n",
       "  230   -0.471816\n",
       "  243   -0.128834\n",
       "  246   -0.173555\n",
       "  249   -1.182993\n",
       "  258    0.697117\n",
       "  272    0.714364\n",
       "  283    1.352994\n",
       "  287    2.012266\n",
       "  294    2.070666\n",
       "  296   -0.905306\n",
       "  300   -0.465590\n",
       "  326    0.276078\n",
       "  332   -0.764439\n",
       "           ...   \n",
       "  743    0.090723\n",
       "  748    1.703753\n",
       "  776   -1.612387\n",
       "  777    0.870083\n",
       "  786   -0.625817\n",
       "  790    0.385282\n",
       "  796    0.285896\n",
       "  839   -0.133970\n",
       "  843   -1.471588\n",
       "  850    1.731970\n",
       "  857   -0.113199\n",
       "  862   -0.852294\n",
       "  863    0.160836\n",
       "  867   -0.147561\n",
       "  875    0.649583\n",
       "  887   -0.487140\n",
       "  888   -0.260753\n",
       "  890   -1.119434\n",
       "  892    0.201248\n",
       "  897    0.303625\n",
       "  898   -0.976636\n",
       "  902   -0.306870\n",
       "  910    1.009800\n",
       "  911   -0.761215\n",
       "  916    0.462350\n",
       "  917    0.372857\n",
       "  928   -2.324176\n",
       "  945   -0.368832\n",
       "  964    1.309967\n",
       "  987   -0.230548\n",
       "  Name: data2, Length: 100, dtype: float64), (5, 37    -1.048786\n",
       "  46    -0.155509\n",
       "  48    -1.055185\n",
       "  52     2.049803\n",
       "  61     0.681248\n",
       "  63    -0.919049\n",
       "  77     0.219277\n",
       "  97    -0.516411\n",
       "  106   -1.796325\n",
       "  112   -0.681163\n",
       "  115   -0.540784\n",
       "  134    0.429081\n",
       "  158   -1.739443\n",
       "  168   -0.745598\n",
       "  170   -1.002289\n",
       "  195    1.481713\n",
       "  202    0.722251\n",
       "  205    2.655680\n",
       "  207   -0.390227\n",
       "  209   -0.496428\n",
       "  216   -0.814722\n",
       "  220    1.196804\n",
       "  228   -0.340003\n",
       "  231    0.316015\n",
       "  235    0.258111\n",
       "  245   -0.402473\n",
       "  269   -1.063503\n",
       "  274    0.781071\n",
       "  280    0.119760\n",
       "  312    0.590533\n",
       "           ...   \n",
       "  637    1.737669\n",
       "  659   -1.544903\n",
       "  662   -0.415931\n",
       "  694   -1.816960\n",
       "  728    2.015779\n",
       "  747   -0.679426\n",
       "  751   -0.724593\n",
       "  762    1.466820\n",
       "  780    0.523346\n",
       "  787    0.518636\n",
       "  797   -0.408543\n",
       "  800    1.072152\n",
       "  817   -0.478420\n",
       "  819    1.108601\n",
       "  820    0.344864\n",
       "  822    2.045986\n",
       "  824   -0.490337\n",
       "  829    1.008375\n",
       "  876    0.798873\n",
       "  885   -0.735609\n",
       "  904   -0.114885\n",
       "  914    0.729001\n",
       "  946    1.156211\n",
       "  955    0.211958\n",
       "  962    1.553211\n",
       "  969   -0.702865\n",
       "  973    0.370603\n",
       "  983    1.090329\n",
       "  990    1.197130\n",
       "  995   -0.458760\n",
       "  Name: data2, Length: 100, dtype: float64), (6, 2     -1.204318\n",
       "  21     0.434861\n",
       "  30     0.565857\n",
       "  33    -1.592336\n",
       "  40    -0.010089\n",
       "  47     0.114360\n",
       "  56     0.032661\n",
       "  60     0.571929\n",
       "  64     1.096938\n",
       "  71    -1.464129\n",
       "  78    -0.738357\n",
       "  98     1.371783\n",
       "  108    1.028008\n",
       "  119    0.953780\n",
       "  124   -0.948088\n",
       "  132   -1.944248\n",
       "  140   -1.345595\n",
       "  199   -0.468211\n",
       "  204    0.731509\n",
       "  211    1.227479\n",
       "  221    1.483748\n",
       "  240   -0.934439\n",
       "  256    0.190757\n",
       "  277   -1.156555\n",
       "  279    0.132249\n",
       "  284    0.342569\n",
       "  295    0.423697\n",
       "  299    0.481691\n",
       "  302    1.870834\n",
       "  309   -0.465833\n",
       "           ...   \n",
       "  688   -0.374567\n",
       "  690    0.193352\n",
       "  703   -0.586276\n",
       "  704   -0.422270\n",
       "  715    0.092953\n",
       "  718   -0.778823\n",
       "  726   -0.122704\n",
       "  738   -0.105628\n",
       "  758   -2.269292\n",
       "  759   -0.449321\n",
       "  764    1.799845\n",
       "  781    0.106722\n",
       "  789   -0.745462\n",
       "  793    0.072102\n",
       "  815    1.199569\n",
       "  864   -1.728511\n",
       "  877    1.515145\n",
       "  884   -0.823474\n",
       "  896    0.247633\n",
       "  909   -0.728167\n",
       "  915   -2.019564\n",
       "  919    0.205084\n",
       "  925    1.117778\n",
       "  933   -0.855621\n",
       "  952   -2.479866\n",
       "  958   -1.734788\n",
       "  966   -1.422993\n",
       "  978    1.569908\n",
       "  984    0.900079\n",
       "  993    0.112605\n",
       "  Name: data2, Length: 100, dtype: float64), (7, 4     -0.640399\n",
       "  27    -0.336566\n",
       "  35    -0.337676\n",
       "  38    -0.701698\n",
       "  45     0.828009\n",
       "  75    -1.897709\n",
       "  85    -1.216757\n",
       "  88    -0.941199\n",
       "  114    0.103614\n",
       "  128    0.091542\n",
       "  138    1.018198\n",
       "  144   -1.609359\n",
       "  162   -0.224663\n",
       "  177    0.174262\n",
       "  181   -0.406695\n",
       "  190    1.613799\n",
       "  197   -0.708324\n",
       "  206    0.348670\n",
       "  239    1.168377\n",
       "  242    0.899826\n",
       "  244    0.490610\n",
       "  259    0.455297\n",
       "  266    0.717237\n",
       "  267    1.182941\n",
       "  270   -0.447100\n",
       "  308    1.222235\n",
       "  313    0.478671\n",
       "  314    0.343330\n",
       "  328   -0.308386\n",
       "  330   -0.478530\n",
       "           ...   \n",
       "  680    0.596963\n",
       "  681    1.781372\n",
       "  684    2.131345\n",
       "  706    0.818395\n",
       "  708   -2.371241\n",
       "  737    0.214780\n",
       "  746    0.364212\n",
       "  753    0.546053\n",
       "  760    0.083208\n",
       "  767    2.686151\n",
       "  774    0.064120\n",
       "  792   -0.392558\n",
       "  802    1.761504\n",
       "  804   -0.456245\n",
       "  806    2.167728\n",
       "  812   -2.514495\n",
       "  841    1.120315\n",
       "  852    1.958652\n",
       "  889    0.278295\n",
       "  920   -0.706341\n",
       "  921   -0.642782\n",
       "  929   -0.480266\n",
       "  934    0.022461\n",
       "  948   -1.017351\n",
       "  981    1.104775\n",
       "  986    0.036419\n",
       "  988    0.379314\n",
       "  989   -1.524763\n",
       "  992    0.996545\n",
       "  997    0.859251\n",
       "  Name: data2, Length: 100, dtype: float64), (8, 10    -0.608209\n",
       "  13    -1.353501\n",
       "  19     0.046440\n",
       "  57     0.877531\n",
       "  59    -0.056706\n",
       "  73    -0.627005\n",
       "  107   -1.636947\n",
       "  109    0.540692\n",
       "  113    0.841855\n",
       "  116   -0.522510\n",
       "  118    0.405374\n",
       "  122    2.684313\n",
       "  131    0.107831\n",
       "  135   -0.618612\n",
       "  139    0.213270\n",
       "  142   -0.122086\n",
       "  143    1.339053\n",
       "  149   -1.160920\n",
       "  161    1.001214\n",
       "  165   -1.340448\n",
       "  169    1.581722\n",
       "  174   -0.607514\n",
       "  182   -1.200256\n",
       "  186   -0.512827\n",
       "  196    0.324148\n",
       "  229    1.013022\n",
       "  250   -0.266490\n",
       "  251   -0.202875\n",
       "  252   -1.101797\n",
       "  253   -0.180398\n",
       "           ...   \n",
       "  714   -0.415184\n",
       "  723    0.675705\n",
       "  735    0.406164\n",
       "  744    1.883948\n",
       "  745    0.924430\n",
       "  750    0.821510\n",
       "  770   -2.345403\n",
       "  775   -0.588008\n",
       "  783    0.214588\n",
       "  821    1.001901\n",
       "  828    1.143135\n",
       "  835    1.130072\n",
       "  838    0.853865\n",
       "  840   -0.265986\n",
       "  847   -0.873736\n",
       "  854    0.203055\n",
       "  856   -0.374684\n",
       "  858   -0.900079\n",
       "  869   -0.489424\n",
       "  899   -1.662553\n",
       "  908    2.208966\n",
       "  913    1.252766\n",
       "  932    1.973479\n",
       "  935    0.760050\n",
       "  951    1.775525\n",
       "  959    0.940137\n",
       "  974   -0.939174\n",
       "  975    0.247512\n",
       "  977    0.747113\n",
       "  998   -1.589537\n",
       "  Name: data2, Length: 100, dtype: float64), (9, 14    -0.909006\n",
       "  15     1.180665\n",
       "  32    -0.353938\n",
       "  39    -1.177847\n",
       "  42     0.697834\n",
       "  44     1.033149\n",
       "  51     0.230223\n",
       "  54    -1.770850\n",
       "  68    -0.425337\n",
       "  86    -0.960922\n",
       "  89     2.407853\n",
       "  110    1.164967\n",
       "  163    0.630975\n",
       "  171   -1.008337\n",
       "  173   -1.033444\n",
       "  175   -1.630619\n",
       "  192    1.128666\n",
       "  213   -0.466340\n",
       "  223   -0.365117\n",
       "  225   -0.078207\n",
       "  236   -1.229827\n",
       "  262   -0.145053\n",
       "  265   -0.308135\n",
       "  285   -0.841468\n",
       "  289    1.076207\n",
       "  291   -0.596329\n",
       "  298    2.505708\n",
       "  301   -1.475494\n",
       "  316   -0.744332\n",
       "  324    2.401864\n",
       "           ...   \n",
       "  719    0.144054\n",
       "  721    0.691993\n",
       "  722    0.017837\n",
       "  727    0.484179\n",
       "  739    0.690117\n",
       "  740    0.629732\n",
       "  755    0.119487\n",
       "  799   -0.147225\n",
       "  807   -1.338548\n",
       "  816    0.304568\n",
       "  823    0.473394\n",
       "  825   -1.227302\n",
       "  827   -1.698568\n",
       "  830    0.290929\n",
       "  832   -0.529782\n",
       "  837   -0.083218\n",
       "  849    1.186074\n",
       "  865    0.568755\n",
       "  866    1.269169\n",
       "  871   -0.360247\n",
       "  873    0.134234\n",
       "  879    1.822433\n",
       "  880   -1.051511\n",
       "  907    1.606864\n",
       "  936    0.741266\n",
       "  937   -0.539606\n",
       "  939    1.057366\n",
       "  956   -0.915389\n",
       "  968    0.590826\n",
       "  972    0.819334\n",
       "  Name: data2, Length: 100, dtype: float64)]"
      ]
     },
     "execution_count": 221,
     "metadata": {},
     "output_type": "execute_result"
    }
   ],
   "source": [
    "list(grouped)"
   ]
  },
  {
   "cell_type": "code",
   "execution_count": 222,
   "metadata": {},
   "outputs": [
    {
     "data": {
      "text/plain": [
       "data1       \n",
       "0      count    100.000000\n",
       "       max        2.747524\n",
       "       mean       0.068079\n",
       "       min       -3.463098\n",
       "1      count    100.000000\n",
       "       max        3.130865\n",
       "       mean       0.014121\n",
       "       min       -2.621084\n",
       "2      count    100.000000\n",
       "       max        2.238311\n",
       "       mean      -0.072021\n",
       "       min       -2.081337\n",
       "3      count    100.000000\n",
       "       max        2.575298\n",
       "       mean       0.070515\n",
       "       min       -2.272793\n",
       "4      count    100.000000\n",
       "       max        2.391982\n",
       "       mean       0.033563\n",
       "       min       -2.324176\n",
       "5      count    100.000000\n",
       "       max        2.742843\n",
       "       mean       0.154418\n",
       "       min       -1.816960\n",
       "6      count    100.000000\n",
       "       max        1.870834\n",
       "       mean      -0.145033\n",
       "       min       -2.479866\n",
       "7      count    100.000000\n",
       "       max        2.686151\n",
       "       mean       0.069307\n",
       "       min       -2.514495\n",
       "8      count    100.000000\n",
       "       max        2.684313\n",
       "       mean       0.203223\n",
       "       min       -2.345403\n",
       "9      count    100.000000\n",
       "       max        2.505708\n",
       "       mean       0.118870\n",
       "       min       -1.770850\n",
       "Name: data2, dtype: float64"
      ]
     },
     "execution_count": 222,
     "metadata": {},
     "output_type": "execute_result"
    }
   ],
   "source": [
    "grouped.apply(get_stats)"
   ]
  },
  {
   "cell_type": "code",
   "execution_count": 223,
   "metadata": {},
   "outputs": [
    {
     "data": {
      "text/html": [
       "<div>\n",
       "<style scoped>\n",
       "    .dataframe tbody tr th:only-of-type {\n",
       "        vertical-align: middle;\n",
       "    }\n",
       "\n",
       "    .dataframe tbody tr th {\n",
       "        vertical-align: top;\n",
       "    }\n",
       "\n",
       "    .dataframe thead th {\n",
       "        text-align: right;\n",
       "    }\n",
       "</style>\n",
       "<table border=\"1\" class=\"dataframe\">\n",
       "  <thead>\n",
       "    <tr style=\"text-align: right;\">\n",
       "      <th></th>\n",
       "      <th>count</th>\n",
       "      <th>max</th>\n",
       "      <th>mean</th>\n",
       "      <th>min</th>\n",
       "    </tr>\n",
       "    <tr>\n",
       "      <th>data1</th>\n",
       "      <th></th>\n",
       "      <th></th>\n",
       "      <th></th>\n",
       "      <th></th>\n",
       "    </tr>\n",
       "  </thead>\n",
       "  <tbody>\n",
       "    <tr>\n",
       "      <th>0</th>\n",
       "      <td>100.0</td>\n",
       "      <td>2.747524</td>\n",
       "      <td>0.068079</td>\n",
       "      <td>-3.463098</td>\n",
       "    </tr>\n",
       "    <tr>\n",
       "      <th>1</th>\n",
       "      <td>100.0</td>\n",
       "      <td>3.130865</td>\n",
       "      <td>0.014121</td>\n",
       "      <td>-2.621084</td>\n",
       "    </tr>\n",
       "    <tr>\n",
       "      <th>2</th>\n",
       "      <td>100.0</td>\n",
       "      <td>2.238311</td>\n",
       "      <td>-0.072021</td>\n",
       "      <td>-2.081337</td>\n",
       "    </tr>\n",
       "    <tr>\n",
       "      <th>3</th>\n",
       "      <td>100.0</td>\n",
       "      <td>2.575298</td>\n",
       "      <td>0.070515</td>\n",
       "      <td>-2.272793</td>\n",
       "    </tr>\n",
       "    <tr>\n",
       "      <th>4</th>\n",
       "      <td>100.0</td>\n",
       "      <td>2.391982</td>\n",
       "      <td>0.033563</td>\n",
       "      <td>-2.324176</td>\n",
       "    </tr>\n",
       "    <tr>\n",
       "      <th>5</th>\n",
       "      <td>100.0</td>\n",
       "      <td>2.742843</td>\n",
       "      <td>0.154418</td>\n",
       "      <td>-1.816960</td>\n",
       "    </tr>\n",
       "    <tr>\n",
       "      <th>6</th>\n",
       "      <td>100.0</td>\n",
       "      <td>1.870834</td>\n",
       "      <td>-0.145033</td>\n",
       "      <td>-2.479866</td>\n",
       "    </tr>\n",
       "    <tr>\n",
       "      <th>7</th>\n",
       "      <td>100.0</td>\n",
       "      <td>2.686151</td>\n",
       "      <td>0.069307</td>\n",
       "      <td>-2.514495</td>\n",
       "    </tr>\n",
       "    <tr>\n",
       "      <th>8</th>\n",
       "      <td>100.0</td>\n",
       "      <td>2.684313</td>\n",
       "      <td>0.203223</td>\n",
       "      <td>-2.345403</td>\n",
       "    </tr>\n",
       "    <tr>\n",
       "      <th>9</th>\n",
       "      <td>100.0</td>\n",
       "      <td>2.505708</td>\n",
       "      <td>0.118870</td>\n",
       "      <td>-1.770850</td>\n",
       "    </tr>\n",
       "  </tbody>\n",
       "</table>\n",
       "</div>"
      ],
      "text/plain": [
       "       count       max      mean       min\n",
       "data1                                     \n",
       "0      100.0  2.747524  0.068079 -3.463098\n",
       "1      100.0  3.130865  0.014121 -2.621084\n",
       "2      100.0  2.238311 -0.072021 -2.081337\n",
       "3      100.0  2.575298  0.070515 -2.272793\n",
       "4      100.0  2.391982  0.033563 -2.324176\n",
       "5      100.0  2.742843  0.154418 -1.816960\n",
       "6      100.0  1.870834 -0.145033 -2.479866\n",
       "7      100.0  2.686151  0.069307 -2.514495\n",
       "8      100.0  2.684313  0.203223 -2.345403\n",
       "9      100.0  2.505708  0.118870 -1.770850"
      ]
     },
     "execution_count": 223,
     "metadata": {},
     "output_type": "execute_result"
    }
   ],
   "source": [
    "grouped.apply(get_stats).unstack()"
   ]
  },
  {
   "cell_type": "code",
   "execution_count": 1,
   "metadata": {},
   "outputs": [],
   "source": [
    "import numpy as np\n",
    "import pandas as pd\n",
    "import matplotlib.pyplot as plt"
   ]
  },
  {
   "cell_type": "markdown",
   "metadata": {},
   "source": [
    "### 示例1: 用特定于分组的值填充缺失值\n",
    "    对于缺失数据的清理工作，可能希望用一个固定值或由数据集本身衍生的值填充NA值"
   ]
  },
  {
   "cell_type": "code",
   "execution_count": 9,
   "metadata": {},
   "outputs": [
    {
     "data": {
      "text/plain": [
       "0    NaN\n",
       "1    1.0\n",
       "2    NaN\n",
       "3    3.0\n",
       "4    NaN\n",
       "5    5.0\n",
       "dtype: float64"
      ]
     },
     "execution_count": 9,
     "metadata": {},
     "output_type": "execute_result"
    }
   ],
   "source": [
    "s = pd.Series(np.arange(6))\n",
    "\n",
    "s[::2] = np.nan                              #索引[0],[2],[4]为空值\n",
    "s"
   ]
  },
  {
   "cell_type": "code",
   "execution_count": 10,
   "metadata": {},
   "outputs": [
    {
     "data": {
      "text/plain": [
       "0    3.0\n",
       "1    1.0\n",
       "2    3.0\n",
       "3    3.0\n",
       "4    3.0\n",
       "5    5.0\n",
       "dtype: float64"
      ]
     },
     "execution_count": 10,
     "metadata": {},
     "output_type": "execute_result"
    }
   ],
   "source": [
    "s.fillna(s.mean())                           #用means填充缺失值, 已知数据求和 "
   ]
  },
  {
   "cell_type": "code",
   "execution_count": 34,
   "metadata": {},
   "outputs": [
    {
     "data": {
      "text/plain": [
       "Ohio         -0.202725\n",
       "New York     -1.281864\n",
       "Vermont      -0.259180\n",
       "Florida       0.208547\n",
       "Oregon        0.098611\n",
       "Nevada       -0.741699\n",
       "California    0.601560\n",
       "Idaho         1.071459\n",
       "dtype: float64"
      ]
     },
     "execution_count": 34,
     "metadata": {},
     "output_type": "execute_result"
    }
   ],
   "source": [
    "states = ['Ohio', 'New York', 'Vermont', 'Florida',\n",
    "         'Oregon', 'Nevada', 'California', 'Idaho']\n",
    "\n",
    "group_key = ['East'] * 4 + ['West'] * 4\n",
    "data = pd.Series(np.random.randn(8), index = states)\n",
    "data                                                          #Series格式数据"
   ]
  },
  {
   "cell_type": "code",
   "execution_count": 26,
   "metadata": {},
   "outputs": [
    {
     "data": {
      "text/plain": [
       "-1.1976023327208354"
      ]
     },
     "execution_count": 26,
     "metadata": {},
     "output_type": "execute_result"
    }
   ],
   "source": [
    "data[2]"
   ]
  },
  {
   "cell_type": "code",
   "execution_count": 21,
   "metadata": {},
   "outputs": [
    {
     "data": {
      "text/plain": [
       "Vermont   -1.197602\n",
       "dtype: float64"
      ]
     },
     "execution_count": 21,
     "metadata": {},
     "output_type": "execute_result"
    }
   ],
   "source": [
    "data.iloc[[2]]"
   ]
  },
  {
   "cell_type": "code",
   "execution_count": 22,
   "metadata": {},
   "outputs": [
    {
     "data": {
      "text/plain": [
       "Vermont   -1.197602\n",
       "dtype: float64"
      ]
     },
     "execution_count": 22,
     "metadata": {},
     "output_type": "execute_result"
    }
   ],
   "source": [
    "data[[2]]"
   ]
  },
  {
   "cell_type": "code",
   "execution_count": 23,
   "metadata": {},
   "outputs": [
    {
     "data": {
      "text/plain": [
       "-1.1976023327208354"
      ]
     },
     "execution_count": 23,
     "metadata": {},
     "output_type": "execute_result"
    }
   ],
   "source": [
    "data['Vermont']"
   ]
  },
  {
   "cell_type": "code",
   "execution_count": 24,
   "metadata": {},
   "outputs": [
    {
     "data": {
      "text/plain": [
       "Vermont   -1.197602\n",
       "dtype: float64"
      ]
     },
     "execution_count": 24,
     "metadata": {},
     "output_type": "execute_result"
    }
   ],
   "source": [
    "data[['Vermont']]"
   ]
  },
  {
   "cell_type": "code",
   "execution_count": 32,
   "metadata": {},
   "outputs": [
    {
     "data": {
      "text/plain": [
       "Vermont   -1.197602\n",
       "dtype: float64"
      ]
     },
     "execution_count": 32,
     "metadata": {},
     "output_type": "execute_result"
    }
   ],
   "source": [
    "data.loc[['Vermont']]"
   ]
  },
  {
   "cell_type": "code",
   "execution_count": 33,
   "metadata": {},
   "outputs": [],
   "source": [
    "data1 = np.array(np.random.randn(8))                   #ndarray格式 与 Series格式 索引异同"
   ]
  },
  {
   "cell_type": "code",
   "execution_count": 27,
   "metadata": {},
   "outputs": [
    {
     "data": {
      "text/plain": [
       "array([ 1.67696972, -0.38461911,  1.63203281, -0.16261111,  0.17949147,\n",
       "        0.67405343, -1.0631283 ,  0.94275769])"
      ]
     },
     "execution_count": 27,
     "metadata": {},
     "output_type": "execute_result"
    }
   ],
   "source": [
    "data1"
   ]
  },
  {
   "cell_type": "code",
   "execution_count": 28,
   "metadata": {},
   "outputs": [
    {
     "data": {
      "text/plain": [
       "1.63203281364645"
      ]
     },
     "execution_count": 28,
     "metadata": {},
     "output_type": "execute_result"
    }
   ],
   "source": [
    "data1[2]"
   ]
  },
  {
   "cell_type": "code",
   "execution_count": 29,
   "metadata": {},
   "outputs": [
    {
     "data": {
      "text/plain": [
       "array([1.63203281])"
      ]
     },
     "execution_count": 29,
     "metadata": {},
     "output_type": "execute_result"
    }
   ],
   "source": [
    "data1[[2]]"
   ]
  },
  {
   "cell_type": "code",
   "execution_count": 31,
   "metadata": {},
   "outputs": [],
   "source": [
    "# data1.iloc[2]  报错                                         pandas 的方法 iloc, loc, "
   ]
  },
  {
   "cell_type": "code",
   "execution_count": 35,
   "metadata": {},
   "outputs": [
    {
     "data": {
      "text/plain": [
       "Ohio         -0.202725\n",
       "New York     -1.281864\n",
       "Vermont      -0.259180\n",
       "Florida       0.208547\n",
       "Oregon        0.098611\n",
       "Nevada       -0.741699\n",
       "California    0.601560\n",
       "Idaho         1.071459\n",
       "dtype: float64"
      ]
     },
     "execution_count": 35,
     "metadata": {},
     "output_type": "execute_result"
    }
   ],
   "source": [
    "data"
   ]
  },
  {
   "cell_type": "code",
   "execution_count": 36,
   "metadata": {},
   "outputs": [
    {
     "data": {
      "text/plain": [
       "Ohio         -0.202725\n",
       "New York     -1.281864\n",
       "Vermont            NaN\n",
       "Florida       0.208547\n",
       "Oregon        0.098611\n",
       "Nevada             NaN\n",
       "California    0.601560\n",
       "Idaho              NaN\n",
       "dtype: float64"
      ]
     },
     "execution_count": 36,
     "metadata": {},
     "output_type": "execute_result"
    }
   ],
   "source": [
    "data[['Vermont', 'Nevada', 'Idaho']] = np.nan\n",
    "data"
   ]
  },
  {
   "cell_type": "code",
   "execution_count": 37,
   "metadata": {},
   "outputs": [
    {
     "data": {
      "text/plain": [
       "['East', 'East', 'East', 'East', 'West', 'West', 'West', 'West']"
      ]
     },
     "execution_count": 37,
     "metadata": {},
     "output_type": "execute_result"
    }
   ],
   "source": [
    "group_key"
   ]
  },
  {
   "cell_type": "code",
   "execution_count": 38,
   "metadata": {},
   "outputs": [
    {
     "data": {
      "text/plain": [
       "East   -0.425347\n",
       "West    0.350085\n",
       "dtype: float64"
      ]
     },
     "execution_count": 38,
     "metadata": {},
     "output_type": "execute_result"
    }
   ],
   "source": [
    "data.groupby(group_key).mean()                            # 传入一串数组 以其为分组键"
   ]
  },
  {
   "cell_type": "code",
   "execution_count": 39,
   "metadata": {},
   "outputs": [
    {
     "data": {
      "text/plain": [
       "Ohio         -0.202725\n",
       "New York     -1.281864\n",
       "Vermont      -0.425347\n",
       "Florida       0.208547\n",
       "Oregon        0.098611\n",
       "Nevada        0.350085\n",
       "California    0.601560\n",
       "Idaho         0.350085\n",
       "dtype: float64"
      ]
     },
     "execution_count": 39,
     "metadata": {},
     "output_type": "execute_result"
    }
   ],
   "source": [
    "fill_mean = lambda g: g.fillna(g.mean())\n",
    "data.groupby(group_key).apply(fill_mean)                 # 用分组平均值取填充NA值"
   ]
  },
  {
   "cell_type": "code",
   "execution_count": 40,
   "metadata": {},
   "outputs": [
    {
     "data": {
      "text/plain": [
       "Ohio         -0.202725\n",
       "New York     -1.281864\n",
       "Vermont       0.500000\n",
       "Florida       0.208547\n",
       "Oregon        0.098611\n",
       "Nevada       -1.000000\n",
       "California    0.601560\n",
       "Idaho        -1.000000\n",
       "dtype: float64"
      ]
     },
     "execution_count": 40,
     "metadata": {},
     "output_type": "execute_result"
    }
   ],
   "source": [
    "# 也可以在代码中预定义各组的填充值，分组有一个name属性\n",
    "fill_values = {'East': 0.5, 'West' : -1}\n",
    "fill_func = lambda g: g.fillna(fill_values[g.name])\n",
    "data.groupby(group_key).apply(fill_func)"
   ]
  },
  {
   "cell_type": "markdown",
   "metadata": {},
   "source": [
    "### 示例2: 随机采样和排列"
   ]
  },
  {
   "cell_type": "code",
   "execution_count": 42,
   "metadata": {},
   "outputs": [],
   "source": [
    "suits = ['H', 'S', 'C', 'D']\n",
    "card_val = (list(range(1, 11)) + [10] * 3) * 4\n",
    "base_names = ['A'] + list(range(2, 11)) + ['J', 'K', 'Q']"
   ]
  },
  {
   "cell_type": "code",
   "execution_count": 44,
   "metadata": {},
   "outputs": [
    {
     "data": {
      "text/plain": [
       "['H', 'S', 'C', 'D']"
      ]
     },
     "execution_count": 44,
     "metadata": {},
     "output_type": "execute_result"
    }
   ],
   "source": [
    "suits"
   ]
  },
  {
   "cell_type": "code",
   "execution_count": 45,
   "metadata": {},
   "outputs": [
    {
     "data": {
      "text/plain": [
       "[1,\n",
       " 2,\n",
       " 3,\n",
       " 4,\n",
       " 5,\n",
       " 6,\n",
       " 7,\n",
       " 8,\n",
       " 9,\n",
       " 10,\n",
       " 10,\n",
       " 10,\n",
       " 10,\n",
       " 1,\n",
       " 2,\n",
       " 3,\n",
       " 4,\n",
       " 5,\n",
       " 6,\n",
       " 7,\n",
       " 8,\n",
       " 9,\n",
       " 10,\n",
       " 10,\n",
       " 10,\n",
       " 10,\n",
       " 1,\n",
       " 2,\n",
       " 3,\n",
       " 4,\n",
       " 5,\n",
       " 6,\n",
       " 7,\n",
       " 8,\n",
       " 9,\n",
       " 10,\n",
       " 10,\n",
       " 10,\n",
       " 10,\n",
       " 1,\n",
       " 2,\n",
       " 3,\n",
       " 4,\n",
       " 5,\n",
       " 6,\n",
       " 7,\n",
       " 8,\n",
       " 9,\n",
       " 10,\n",
       " 10,\n",
       " 10,\n",
       " 10]"
      ]
     },
     "execution_count": 45,
     "metadata": {},
     "output_type": "execute_result"
    }
   ],
   "source": [
    "card_val"
   ]
  },
  {
   "cell_type": "code",
   "execution_count": 46,
   "metadata": {},
   "outputs": [
    {
     "data": {
      "text/plain": [
       "['A', 2, 3, 4, 5, 6, 7, 8, 9, 10, 'J', 'K', 'Q']"
      ]
     },
     "execution_count": 46,
     "metadata": {},
     "output_type": "execute_result"
    }
   ],
   "source": [
    "base_names"
   ]
  },
  {
   "cell_type": "code",
   "execution_count": 48,
   "metadata": {},
   "outputs": [
    {
     "data": {
      "text/plain": [
       "['AH',\n",
       " '2H',\n",
       " '3H',\n",
       " '4H',\n",
       " '5H',\n",
       " '6H',\n",
       " '7H',\n",
       " '8H',\n",
       " '9H',\n",
       " '10H',\n",
       " 'JH',\n",
       " 'KH',\n",
       " 'QH',\n",
       " 'AS',\n",
       " '2S',\n",
       " '3S',\n",
       " '4S',\n",
       " '5S',\n",
       " '6S',\n",
       " '7S',\n",
       " '8S',\n",
       " '9S',\n",
       " '10S',\n",
       " 'JS',\n",
       " 'KS',\n",
       " 'QS',\n",
       " 'AC',\n",
       " '2C',\n",
       " '3C',\n",
       " '4C',\n",
       " '5C',\n",
       " '6C',\n",
       " '7C',\n",
       " '8C',\n",
       " '9C',\n",
       " '10C',\n",
       " 'JC',\n",
       " 'KC',\n",
       " 'QC',\n",
       " 'AD',\n",
       " '2D',\n",
       " '3D',\n",
       " '4D',\n",
       " '5D',\n",
       " '6D',\n",
       " '7D',\n",
       " '8D',\n",
       " '9D',\n",
       " '10D',\n",
       " 'JD',\n",
       " 'KD',\n",
       " 'QD']"
      ]
     },
     "execution_count": 48,
     "metadata": {},
     "output_type": "execute_result"
    }
   ],
   "source": [
    "cards = []\n",
    "for suit in ['H', 'S', 'C', 'D']:\n",
    "    cards.extend(str(num) + suit for num in base_names)\n",
    "    \n",
    "cards"
   ]
  },
  {
   "cell_type": "code",
   "execution_count": 49,
   "metadata": {},
   "outputs": [],
   "source": [
    "deck = pd.Series(card_val, index=cards)"
   ]
  },
  {
   "cell_type": "code",
   "execution_count": 50,
   "metadata": {},
   "outputs": [
    {
     "data": {
      "text/plain": [
       "AH      1\n",
       "2H      2\n",
       "3H      3\n",
       "4H      4\n",
       "5H      5\n",
       "6H      6\n",
       "7H      7\n",
       "8H      8\n",
       "9H      9\n",
       "10H    10\n",
       "JH     10\n",
       "KH     10\n",
       "QH     10\n",
       "dtype: int64"
      ]
     },
     "execution_count": 50,
     "metadata": {},
     "output_type": "execute_result"
    }
   ],
   "source": [
    "deck[:13]"
   ]
  },
  {
   "cell_type": "code",
   "execution_count": 51,
   "metadata": {},
   "outputs": [
    {
     "data": {
      "text/plain": [
       "KH    10\n",
       "7C     7\n",
       "QS    10\n",
       "8H     8\n",
       "9H     9\n",
       "dtype: int64"
      ]
     },
     "execution_count": 51,
     "metadata": {},
     "output_type": "execute_result"
    }
   ],
   "source": [
    "def draw(deck, n=5):                           #从整副牌中抽出5张\n",
    "    return deck.sample(n)\n",
    "\n",
    "draw(deck)"
   ]
  },
  {
   "cell_type": "code",
   "execution_count": 53,
   "metadata": {},
   "outputs": [
    {
     "data": {
      "text/plain": [
       "C  5C     5\n",
       "   JC    10\n",
       "D  5D     5\n",
       "   KD    10\n",
       "H  2H     2\n",
       "   KH    10\n",
       "S  7S     7\n",
       "   8S     8\n",
       "dtype: int64"
      ]
     },
     "execution_count": 53,
     "metadata": {},
     "output_type": "execute_result"
    }
   ],
   "source": [
    "# 从每种花色中随机抽取两张牌\n",
    "\n",
    "get_suit = lambda card: card[-1]           # last letter is suit\n",
    "deck.groupby(get_suit).apply(draw, n=2)"
   ]
  },
  {
   "cell_type": "code",
   "execution_count": 55,
   "metadata": {},
   "outputs": [
    {
     "data": {
      "text/plain": [
       "[('C', AC      1\n",
       "  2C      2\n",
       "  3C      3\n",
       "  4C      4\n",
       "  5C      5\n",
       "  6C      6\n",
       "  7C      7\n",
       "  8C      8\n",
       "  9C      9\n",
       "  10C    10\n",
       "  JC     10\n",
       "  KC     10\n",
       "  QC     10\n",
       "  dtype: int64), ('D', AD      1\n",
       "  2D      2\n",
       "  3D      3\n",
       "  4D      4\n",
       "  5D      5\n",
       "  6D      6\n",
       "  7D      7\n",
       "  8D      8\n",
       "  9D      9\n",
       "  10D    10\n",
       "  JD     10\n",
       "  KD     10\n",
       "  QD     10\n",
       "  dtype: int64), ('H', AH      1\n",
       "  2H      2\n",
       "  3H      3\n",
       "  4H      4\n",
       "  5H      5\n",
       "  6H      6\n",
       "  7H      7\n",
       "  8H      8\n",
       "  9H      9\n",
       "  10H    10\n",
       "  JH     10\n",
       "  KH     10\n",
       "  QH     10\n",
       "  dtype: int64), ('S', AS      1\n",
       "  2S      2\n",
       "  3S      3\n",
       "  4S      4\n",
       "  5S      5\n",
       "  6S      6\n",
       "  7S      7\n",
       "  8S      8\n",
       "  9S      9\n",
       "  10S    10\n",
       "  JS     10\n",
       "  KS     10\n",
       "  QS     10\n",
       "  dtype: int64)]"
      ]
     },
     "execution_count": 55,
     "metadata": {},
     "output_type": "execute_result"
    }
   ],
   "source": [
    "list(deck.groupby(get_suit))"
   ]
  },
  {
   "cell_type": "code",
   "execution_count": 56,
   "metadata": {},
   "outputs": [
    {
     "data": {
      "text/plain": [
       "5C     5\n",
       "9C     9\n",
       "QD    10\n",
       "9D     9\n",
       "9H     9\n",
       "5H     5\n",
       "9S     9\n",
       "5S     5\n",
       "dtype: int64"
      ]
     },
     "execution_count": 56,
     "metadata": {},
     "output_type": "execute_result"
    }
   ],
   "source": [
    "# 也可以这样写\n",
    "deck.groupby(get_suit, group_keys=False).apply(draw, n=2)"
   ]
  },
  {
   "cell_type": "code",
   "execution_count": null,
   "metadata": {},
   "outputs": [],
   "source": []
  },
  {
   "cell_type": "code",
   "execution_count": null,
   "metadata": {},
   "outputs": [],
   "source": []
  },
  {
   "cell_type": "code",
   "execution_count": null,
   "metadata": {},
   "outputs": [],
   "source": []
  },
  {
   "cell_type": "code",
   "execution_count": null,
   "metadata": {},
   "outputs": [],
   "source": []
  },
  {
   "cell_type": "code",
   "execution_count": null,
   "metadata": {},
   "outputs": [],
   "source": []
  },
  {
   "cell_type": "code",
   "execution_count": null,
   "metadata": {},
   "outputs": [],
   "source": []
  },
  {
   "cell_type": "code",
   "execution_count": null,
   "metadata": {},
   "outputs": [],
   "source": []
  },
  {
   "cell_type": "code",
   "execution_count": null,
   "metadata": {},
   "outputs": [],
   "source": []
  },
  {
   "cell_type": "code",
   "execution_count": null,
   "metadata": {},
   "outputs": [],
   "source": []
  },
  {
   "cell_type": "code",
   "execution_count": null,
   "metadata": {},
   "outputs": [],
   "source": []
  },
  {
   "cell_type": "code",
   "execution_count": null,
   "metadata": {},
   "outputs": [],
   "source": []
  },
  {
   "cell_type": "code",
   "execution_count": null,
   "metadata": {},
   "outputs": [],
   "source": []
  },
  {
   "cell_type": "code",
   "execution_count": null,
   "metadata": {},
   "outputs": [],
   "source": []
  },
  {
   "cell_type": "code",
   "execution_count": null,
   "metadata": {},
   "outputs": [],
   "source": []
  },
  {
   "cell_type": "code",
   "execution_count": null,
   "metadata": {},
   "outputs": [],
   "source": []
  },
  {
   "cell_type": "code",
   "execution_count": null,
   "metadata": {},
   "outputs": [],
   "source": []
  },
  {
   "cell_type": "code",
   "execution_count": null,
   "metadata": {},
   "outputs": [],
   "source": []
  },
  {
   "cell_type": "code",
   "execution_count": null,
   "metadata": {},
   "outputs": [],
   "source": []
  },
  {
   "cell_type": "code",
   "execution_count": null,
   "metadata": {},
   "outputs": [],
   "source": []
  },
  {
   "cell_type": "code",
   "execution_count": null,
   "metadata": {},
   "outputs": [],
   "source": []
  },
  {
   "cell_type": "code",
   "execution_count": null,
   "metadata": {},
   "outputs": [],
   "source": []
  },
  {
   "cell_type": "code",
   "execution_count": null,
   "metadata": {},
   "outputs": [],
   "source": []
  },
  {
   "cell_type": "code",
   "execution_count": null,
   "metadata": {},
   "outputs": [],
   "source": []
  },
  {
   "cell_type": "code",
   "execution_count": null,
   "metadata": {},
   "outputs": [],
   "source": []
  },
  {
   "cell_type": "code",
   "execution_count": null,
   "metadata": {},
   "outputs": [],
   "source": []
  }
 ],
 "metadata": {
  "kernelspec": {
   "display_name": "Python 3",
   "language": "python",
   "name": "python3"
  },
  "language_info": {
   "codemirror_mode": {
    "name": "ipython",
    "version": 3
   },
   "file_extension": ".py",
   "mimetype": "text/x-python",
   "name": "python",
   "nbconvert_exporter": "python",
   "pygments_lexer": "ipython3",
   "version": "3.7.0"
  }
 },
 "nbformat": 4,
 "nbformat_minor": 2
}
